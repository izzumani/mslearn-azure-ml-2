{
  "cells": [
    {
      "attachments": {},
      "cell_type": "markdown",
      "metadata": {},
      "source": [
        "# Track model training in notebooks with MLflow\n",
        "\n",
        "You can use MLflow in a notebook to track any models you train. As you'll run this notebook with an Azure Machine Learning compute instance, you don't need to set up MLflow: it's already installed and integrated. \n",
        "\n",
        "You'll prepare some data and train a model to predict diabetes. You'll use autologging, and custom logging to explore how you can use MLflow in notebooks.\n",
        "\n",
        "## Before you start\n",
        "\n",
        "You'll need the latest version of the **azure-ai-ml** package to run the code in this notebook. Run the cell below to verify that it is installed.\n",
        "\n",
        "> **Note**:\n",
        "> If the **azure-ai-ml** package is not installed, run `pip install azure-ai-ml` to install it."
      ]
    },
    {
      "cell_type": "code",
      "execution_count": null,
      "metadata": {},
      "outputs": [],
      "source": [
        "!pip install azure-identity azureml-core azureml-widgets azure-ai-ml mltable"
      ]
    },
    {
      "cell_type": "code",
      "execution_count": 1,
      "metadata": {
        "jupyter": {
          "outputs_hidden": false,
          "source_hidden": false
        },
        "nteract": {
          "transient": {
            "deleting": false
          }
        }
      },
      "outputs": [
        {
          "name": "stdout",
          "output_type": "stream",
          "text": [
            "Name: azure-ai-ml\n",
            "Version: 1.29.0\n",
            "Summary: Microsoft Azure Machine Learning Client Library for Python\n",
            "Home-page: https://github.com/Azure/azure-sdk-for-python\n",
            "Author: Microsoft Corporation\n",
            "Author-email: azuresdkengsysadmins@microsoft.com\n",
            "License: MIT License\n",
            "Location: /anaconda/envs/azureml_py38/lib/python3.10/site-packages\n",
            "Requires: azure-common, azure-core, azure-mgmt-core, azure-monitor-opentelemetry, azure-storage-blob, azure-storage-file-datalake, azure-storage-file-share, colorama, isodate, jsonschema, marshmallow, pydash, pyjwt, pyyaml, strictyaml, tqdm, typing-extensions\n",
            "Required-by: \n",
            "Note: you may need to restart the kernel to use updated packages.\n"
          ]
        }
      ],
      "source": [
        "pip show azure-ai-ml"
      ]
    },
    {
      "attachments": {},
      "cell_type": "markdown",
      "metadata": {},
      "source": [
        "## Connect to your workspace\n",
        "\n",
        "With the required SDK packages installed, now you're ready to connect to your workspace.\n",
        "\n",
        "To connect to a workspace, we need identifier parameters - a subscription ID, resource group name, and workspace name. Since you're working with a compute instance, managed by Azure Machine Learning, you can use the default values to connect to the workspace."
      ]
    },
    {
      "cell_type": "code",
      "execution_count": 2,
      "metadata": {
        "gather": {
          "logged": 1668168317138
        },
        "jupyter": {
          "outputs_hidden": false,
          "source_hidden": false
        },
        "nteract": {
          "transient": {
            "deleting": false
          }
        }
      },
      "outputs": [],
      "source": [
        "from azure.identity import DefaultAzureCredential, InteractiveBrowserCredential\n",
        "from azure.ai.ml import MLClient\n",
        "\n",
        "try:\n",
        "    credential = DefaultAzureCredential()\n",
        "    # Check if given credential can get token successfully.\n",
        "    credential.get_token(\"https://management.azure.com/.default\")\n",
        "except Exception as ex:\n",
        "    # Fall back to InteractiveBrowserCredential in case DefaultAzureCredential not work\n",
        "    credential = InteractiveBrowserCredential()"
      ]
    },
    {
      "cell_type": "code",
      "execution_count": null,
      "metadata": {},
      "outputs": [],
      "source": [
        "# Get a handle to workspace\n",
        "ml_client = MLClient.from_config(credential=credential)"
      ]
    },
    {
      "attachments": {},
      "cell_type": "markdown",
      "metadata": {},
      "source": [
        "## Configure MLflow\n",
        "\n",
        "As you're running this notebook on a compute instance in the Azure Machine Learning studio, you don't need to configure MLflow. \n",
        "\n",
        "Still, it's good to verify that the necessary library is indeed installed.\n",
        "\n",
        "> **Note**:\n",
        "> If the **mlflow** library is not installed, run `pip install mlflow` to install it."
      ]
    },
    {
      "cell_type": "code",
      "execution_count": 4,
      "metadata": {},
      "outputs": [
        {
          "name": "stdout",
          "output_type": "stream",
          "text": [
            "Collecting mlflow\n",
            "  Downloading mlflow-3.4.0-py3-none-any.whl (26.7 MB)\n",
            "\u001b[2K     \u001b[90m━━━━━━━━━━━━━━━━━━━━━━━━━━━━━━━━━━━━━━━━\u001b[0m \u001b[32m26.7/26.7 MB\u001b[0m \u001b[31m23.1 MB/s\u001b[0m eta \u001b[36m0:00:00\u001b[0m00:01\u001b[0m00:01\u001b[0m\n",
            "\u001b[?25hRequirement already satisfied: Flask<4 in /anaconda/envs/azureml_py38/lib/python3.10/site-packages (from mlflow) (3.0.3)\n",
            "Collecting mlflow-tracing==3.4.0\n",
            "  Downloading mlflow_tracing-3.4.0-py3-none-any.whl (1.2 MB)\n",
            "\u001b[2K     \u001b[90m━━━━━━━━━━━━━━━━━━━━━━━━━━━━━━━━━━━━━━━━\u001b[0m \u001b[32m1.2/1.2 MB\u001b[0m \u001b[31m33.8 MB/s\u001b[0m eta \u001b[36m0:00:00\u001b[0m:00:01\u001b[0m\n",
            "\u001b[?25hRequirement already satisfied: numpy<3 in /anaconda/envs/azureml_py38/lib/python3.10/site-packages (from mlflow) (1.23.5)\n",
            "Collecting cryptography<46,>=43.0.0\n",
            "  Downloading cryptography-45.0.7-cp37-abi3-manylinux_2_34_x86_64.whl (4.4 MB)\n",
            "\u001b[2K     \u001b[90m━━━━━━━━━━━━━━━━━━━━━━━━━━━━━━━━━━━━━━━━\u001b[0m \u001b[32m4.4/4.4 MB\u001b[0m \u001b[31m36.3 MB/s\u001b[0m eta \u001b[36m0:00:00\u001b[0m00:01\u001b[0m00:01\u001b[0m\n",
            "\u001b[?25hRequirement already satisfied: scipy<2 in /anaconda/envs/azureml_py38/lib/python3.10/site-packages (from mlflow) (1.11.0)\n",
            "Requirement already satisfied: pandas<3 in /anaconda/envs/azureml_py38/lib/python3.10/site-packages (from mlflow) (1.5.3)\n",
            "Requirement already satisfied: docker<8,>=4.0.0 in /anaconda/envs/azureml_py38/lib/python3.10/site-packages (from mlflow) (7.1.0)\n",
            "Collecting fastmcp<3,>=2.0.0\n",
            "  Downloading fastmcp-2.12.4-py3-none-any.whl (329 kB)\n",
            "\u001b[2K     \u001b[90m━━━━━━━━━━━━━━━━━━━━━━━━━━━━━━━━━━━━━━\u001b[0m \u001b[32m329.1/329.1 kB\u001b[0m \u001b[31m18.0 MB/s\u001b[0m eta \u001b[36m0:00:00\u001b[0m\n",
            "\u001b[?25hRequirement already satisfied: matplotlib<4 in /anaconda/envs/azureml_py38/lib/python3.10/site-packages (from mlflow) (3.7.1)\n",
            "Requirement already satisfied: pyarrow<22,>=4.0.0 in /anaconda/envs/azureml_py38/lib/python3.10/site-packages (from mlflow) (14.0.2)\n",
            "Requirement already satisfied: scikit-learn<2 in /anaconda/envs/azureml_py38/lib/python3.10/site-packages (from mlflow) (1.5.1)\n",
            "Collecting sqlalchemy<3,>=1.4.0\n",
            "  Downloading sqlalchemy-2.0.43-cp310-cp310-manylinux_2_17_x86_64.manylinux2014_x86_64.whl (3.2 MB)\n",
            "\u001b[2K     \u001b[90m━━━━━━━━━━━━━━━━━━━━━━━━━━━━━━━━━━━━━━━━\u001b[0m \u001b[32m3.2/3.2 MB\u001b[0m \u001b[31m61.6 MB/s\u001b[0m eta \u001b[36m0:00:00\u001b[0m:00:01\u001b[0m\n",
            "\u001b[?25hCollecting mlflow-skinny==3.4.0\n",
            "  Downloading mlflow_skinny-3.4.0-py3-none-any.whl (2.2 MB)\n",
            "\u001b[2K     \u001b[90m━━━━━━━━━━━━━━━━━━━━━━━━━━━━━━━━━━━━━━━━\u001b[0m \u001b[32m2.2/2.2 MB\u001b[0m \u001b[31m47.1 MB/s\u001b[0m eta \u001b[36m0:00:00\u001b[0m:00:01\u001b[0m\n",
            "\u001b[?25hCollecting alembic!=1.10.0,<2\n",
            "  Downloading alembic-1.16.5-py3-none-any.whl (247 kB)\n",
            "\u001b[2K     \u001b[90m━━━━━━━━━━━━━━━━━━━━━━━━━━━━━━━━━━━━━━\u001b[0m \u001b[32m247.4/247.4 kB\u001b[0m \u001b[31m14.4 MB/s\u001b[0m eta \u001b[36m0:00:00\u001b[0m\n",
            "\u001b[?25hRequirement already satisfied: gunicorn<24 in /anaconda/envs/azureml_py38/lib/python3.10/site-packages (from mlflow) (23.0.0)\n",
            "Collecting graphene<4\n",
            "  Downloading graphene-3.4.3-py2.py3-none-any.whl (114 kB)\n",
            "\u001b[2K     \u001b[90m━━━━━━━━━━━━━━━━━━━━━━━━━━━━━━━━━━━━━━━\u001b[0m \u001b[32m114.9/114.9 kB\u001b[0m \u001b[31m9.1 MB/s\u001b[0m eta \u001b[36m0:00:00\u001b[0m\n",
            "\u001b[?25hRequirement already satisfied: databricks-sdk<1,>=0.20.0 in /anaconda/envs/azureml_py38/lib/python3.10/site-packages (from mlflow-skinny==3.4.0->mlflow) (0.49.0)\n",
            "Requirement already satisfied: opentelemetry-sdk<3,>=1.9.0 in /anaconda/envs/azureml_py38/lib/python3.10/site-packages (from mlflow-skinny==3.4.0->mlflow) (1.37.0)\n",
            "Requirement already satisfied: opentelemetry-api<3,>=1.9.0 in /anaconda/envs/azureml_py38/lib/python3.10/site-packages (from mlflow-skinny==3.4.0->mlflow) (1.37.0)\n",
            "Requirement already satisfied: importlib_metadata!=4.7.0,<9,>=3.7.0 in /anaconda/envs/azureml_py38/lib/python3.10/site-packages (from mlflow-skinny==3.4.0->mlflow) (8.2.0)\n",
            "Requirement already satisfied: typing-extensions<5,>=4.0.0 in /anaconda/envs/azureml_py38/lib/python3.10/site-packages (from mlflow-skinny==3.4.0->mlflow) (4.14.1)\n",
            "Requirement already satisfied: click<9,>=7.0 in /anaconda/envs/azureml_py38/lib/python3.10/site-packages (from mlflow-skinny==3.4.0->mlflow) (8.1.8)\n",
            "Requirement already satisfied: protobuf<7,>=3.12.0 in /anaconda/envs/azureml_py38/lib/python3.10/site-packages (from mlflow-skinny==3.4.0->mlflow) (4.25.8)\n",
            "Requirement already satisfied: pyyaml<7,>=5.1 in /anaconda/envs/azureml_py38/lib/python3.10/site-packages (from mlflow-skinny==3.4.0->mlflow) (6.0.2)\n",
            "Requirement already satisfied: gitpython<4,>=3.1.9 in /anaconda/envs/azureml_py38/lib/python3.10/site-packages (from mlflow-skinny==3.4.0->mlflow) (3.1.44)\n",
            "Requirement already satisfied: opentelemetry-proto<3,>=1.9.0 in /anaconda/envs/azureml_py38/lib/python3.10/site-packages (from mlflow-skinny==3.4.0->mlflow) (1.35.0)\n",
            "Requirement already satisfied: cachetools<7,>=5.0.0 in /anaconda/envs/azureml_py38/lib/python3.10/site-packages (from mlflow-skinny==3.4.0->mlflow) (5.5.2)\n",
            "Requirement already satisfied: packaging<26 in /anaconda/envs/azureml_py38/lib/python3.10/site-packages (from mlflow-skinny==3.4.0->mlflow) (25.0)\n",
            "Requirement already satisfied: fastapi<1 in /anaconda/envs/azureml_py38/lib/python3.10/site-packages (from mlflow-skinny==3.4.0->mlflow) (0.115.12)\n",
            "Requirement already satisfied: cloudpickle<4 in /anaconda/envs/azureml_py38/lib/python3.10/site-packages (from mlflow-skinny==3.4.0->mlflow) (2.2.1)\n",
            "Requirement already satisfied: uvicorn<1 in /anaconda/envs/azureml_py38/lib/python3.10/site-packages (from mlflow-skinny==3.4.0->mlflow) (0.34.0)\n",
            "Requirement already satisfied: pydantic<3,>=1.10.8 in /anaconda/envs/azureml_py38/lib/python3.10/site-packages (from mlflow-skinny==3.4.0->mlflow) (2.9.2)\n",
            "Requirement already satisfied: python-dotenv<2,>=0.19.0 in /anaconda/envs/azureml_py38/lib/python3.10/site-packages (from mlflow-skinny==3.4.0->mlflow) (1.1.0)\n",
            "Requirement already satisfied: sqlparse<1,>=0.4.0 in /anaconda/envs/azureml_py38/lib/python3.10/site-packages (from mlflow-skinny==3.4.0->mlflow) (0.5.3)\n",
            "Requirement already satisfied: requests<3,>=2.17.3 in /anaconda/envs/azureml_py38/lib/python3.10/site-packages (from mlflow-skinny==3.4.0->mlflow) (2.32.4)\n",
            "Requirement already satisfied: tomli in /anaconda/envs/azureml_py38/lib/python3.10/site-packages (from alembic!=1.10.0,<2->mlflow) (2.2.1)\n",
            "Collecting Mako\n",
            "  Downloading mako-1.3.10-py3-none-any.whl (78 kB)\n",
            "\u001b[2K     \u001b[90m━━━━━━━━━━━━━━━━━━━━━━━━━━━━━━━━━━━━━━━━\u001b[0m \u001b[32m78.5/78.5 kB\u001b[0m \u001b[31m4.9 MB/s\u001b[0m eta \u001b[36m0:00:00\u001b[0m\n",
            "\u001b[?25hRequirement already satisfied: cffi>=1.14 in /anaconda/envs/azureml_py38/lib/python3.10/site-packages (from cryptography<46,>=43.0.0->mlflow) (1.17.1)\n",
            "Requirement already satisfied: urllib3>=1.26.0 in /anaconda/envs/azureml_py38/lib/python3.10/site-packages (from docker<8,>=4.0.0->mlflow) (2.5.0)\n",
            "Collecting pydantic[email]>=2.11.7\n",
            "  Downloading pydantic-2.11.10-py3-none-any.whl (444 kB)\n",
            "\u001b[2K     \u001b[90m━━━━━━━━━━━━━━━━━━━━━━━━━━━━━━━━━━━━━━\u001b[0m \u001b[32m444.8/444.8 kB\u001b[0m \u001b[31m22.9 MB/s\u001b[0m eta \u001b[36m0:00:00\u001b[0m\n",
            "\u001b[?25hRequirement already satisfied: rich>=13.9.4 in /anaconda/envs/azureml_py38/lib/python3.10/site-packages (from fastmcp<3,>=2.0.0->mlflow) (14.0.0)\n",
            "Collecting authlib>=1.5.2\n",
            "  Downloading authlib-1.6.5-py2.py3-none-any.whl (243 kB)\n",
            "\u001b[2K     \u001b[90m━━━━━━━━━━━━━━━━━━━━━━━━━━━━━━━━━━━━━━\u001b[0m \u001b[32m243.6/243.6 kB\u001b[0m \u001b[31m15.8 MB/s\u001b[0m eta \u001b[36m0:00:00\u001b[0m\n",
            "\u001b[?25hRequirement already satisfied: exceptiongroup>=1.2.2 in /anaconda/envs/azureml_py38/lib/python3.10/site-packages (from fastmcp<3,>=2.0.0->mlflow) (1.3.0)\n",
            "Collecting pyperclip>=1.9.0\n",
            "  Downloading pyperclip-1.11.0-py3-none-any.whl (11 kB)\n",
            "Collecting mcp<2.0.0,>=1.12.4\n",
            "  Downloading mcp-1.16.0-py3-none-any.whl (167 kB)\n",
            "\u001b[2K     \u001b[90m━━━━━━━━━━━━━━━━━━━━━━━━━━━━━━━━━━━━━━\u001b[0m \u001b[32m167.3/167.3 kB\u001b[0m \u001b[31m11.0 MB/s\u001b[0m eta \u001b[36m0:00:00\u001b[0m\n",
            "\u001b[?25hCollecting openapi-pydantic>=0.5.1\n",
            "  Downloading openapi_pydantic-0.5.1-py3-none-any.whl (96 kB)\n",
            "\u001b[2K     \u001b[90m━━━━━━━━━━━━━━━━━━━━━━━━━━━━━━━━━━━━━━━━\u001b[0m \u001b[32m96.4/96.4 kB\u001b[0m \u001b[31m7.7 MB/s\u001b[0m eta \u001b[36m0:00:00\u001b[0m\n",
            "\u001b[?25hRequirement already satisfied: httpx>=0.28.1 in /anaconda/envs/azureml_py38/lib/python3.10/site-packages (from fastmcp<3,>=2.0.0->mlflow) (0.28.1)\n",
            "Collecting cyclopts>=3.0.0\n",
            "  Downloading cyclopts-3.24.0-py3-none-any.whl (86 kB)\n",
            "\u001b[2K     \u001b[90m━━━━━━━━━━━━━━━━━━━━━━━━━━━━━━━━━━━━━━━━\u001b[0m \u001b[32m86.2/86.2 kB\u001b[0m \u001b[31m6.4 MB/s\u001b[0m eta \u001b[36m0:00:00\u001b[0m\n",
            "\u001b[?25hCollecting openapi-core>=0.19.5\n",
            "  Downloading openapi_core-0.19.5-py3-none-any.whl (106 kB)\n",
            "\u001b[2K     \u001b[90m━━━━━━━━━━━━━━━━━━━━━━━━━━━━━━━━━━━━━━━\u001b[0m \u001b[32m106.6/106.6 kB\u001b[0m \u001b[31m7.8 MB/s\u001b[0m eta \u001b[36m0:00:00\u001b[0m\n",
            "\u001b[?25hRequirement already satisfied: Jinja2>=3.1.2 in /anaconda/envs/azureml_py38/lib/python3.10/site-packages (from Flask<4->mlflow) (3.1.6)\n",
            "Requirement already satisfied: itsdangerous>=2.1.2 in /anaconda/envs/azureml_py38/lib/python3.10/site-packages (from Flask<4->mlflow) (2.1.2)\n",
            "Requirement already satisfied: Werkzeug>=3.0.0 in /anaconda/envs/azureml_py38/lib/python3.10/site-packages (from Flask<4->mlflow) (3.1.3)\n",
            "Requirement already satisfied: blinker>=1.6.2 in /anaconda/envs/azureml_py38/lib/python3.10/site-packages (from Flask<4->mlflow) (1.9.0)\n",
            "Requirement already satisfied: python-dateutil<3,>=2.7.0 in /anaconda/envs/azureml_py38/lib/python3.10/site-packages (from graphene<4->mlflow) (2.9.0.post0)\n",
            "Collecting graphql-core<3.3,>=3.1\n",
            "  Downloading graphql_core-3.2.6-py3-none-any.whl (203 kB)\n",
            "\u001b[2K     \u001b[90m━━━━━━━━━━━━━━━━━━━━━━━━━━━━━━━━━━━━━━\u001b[0m \u001b[32m203.4/203.4 kB\u001b[0m \u001b[31m15.0 MB/s\u001b[0m eta \u001b[36m0:00:00\u001b[0m\n",
            "\u001b[?25hCollecting graphql-relay<3.3,>=3.1\n",
            "  Downloading graphql_relay-3.2.0-py3-none-any.whl (16 kB)\n",
            "Requirement already satisfied: fonttools>=4.22.0 in /anaconda/envs/azureml_py38/lib/python3.10/site-packages (from matplotlib<4->mlflow) (4.51.0)\n",
            "Requirement already satisfied: cycler>=0.10 in /anaconda/envs/azureml_py38/lib/python3.10/site-packages (from matplotlib<4->mlflow) (0.12.1)\n",
            "Requirement already satisfied: kiwisolver>=1.0.1 in /anaconda/envs/azureml_py38/lib/python3.10/site-packages (from matplotlib<4->mlflow) (1.4.8)\n",
            "Requirement already satisfied: pyparsing>=2.3.1 in /anaconda/envs/azureml_py38/lib/python3.10/site-packages (from matplotlib<4->mlflow) (3.2.3)\n",
            "Requirement already satisfied: contourpy>=1.0.1 in /anaconda/envs/azureml_py38/lib/python3.10/site-packages (from matplotlib<4->mlflow) (1.3.1)\n",
            "Requirement already satisfied: pillow>=6.2.0 in /anaconda/envs/azureml_py38/lib/python3.10/site-packages (from matplotlib<4->mlflow) (9.2.0)\n",
            "Requirement already satisfied: pytz>=2020.1 in /anaconda/envs/azureml_py38/lib/python3.10/site-packages (from pandas<3->mlflow) (2022.5)\n",
            "Requirement already satisfied: joblib>=1.2.0 in /anaconda/envs/azureml_py38/lib/python3.10/site-packages (from scikit-learn<2->mlflow) (1.2.0)\n",
            "Requirement already satisfied: threadpoolctl>=3.1.0 in /anaconda/envs/azureml_py38/lib/python3.10/site-packages (from scikit-learn<2->mlflow) (3.6.0)\n",
            "Requirement already satisfied: greenlet>=1 in /anaconda/envs/azureml_py38/lib/python3.10/site-packages (from sqlalchemy<3,>=1.4.0->mlflow) (3.2.3)\n",
            "Requirement already satisfied: pycparser in /anaconda/envs/azureml_py38/lib/python3.10/site-packages (from cffi>=1.14->cryptography<46,>=43.0.0->mlflow) (2.22)\n",
            "Requirement already satisfied: attrs>=23.1.0 in /anaconda/envs/azureml_py38/lib/python3.10/site-packages (from cyclopts>=3.0.0->fastmcp<3,>=2.0.0->mlflow) (25.3.0)\n",
            "Collecting rich-rst<2.0.0,>=1.3.1\n",
            "  Downloading rich_rst-1.3.1-py3-none-any.whl (11 kB)\n",
            "Collecting docstring-parser>=0.15\n",
            "  Downloading docstring_parser-0.17.0-py3-none-any.whl (36 kB)\n",
            "Requirement already satisfied: google-auth~=2.0 in /anaconda/envs/azureml_py38/lib/python3.10/site-packages (from databricks-sdk<1,>=0.20.0->mlflow-skinny==3.4.0->mlflow) (2.38.0)\n",
            "Requirement already satisfied: starlette<0.47.0,>=0.40.0 in /anaconda/envs/azureml_py38/lib/python3.10/site-packages (from fastapi<1->mlflow-skinny==3.4.0->mlflow) (0.46.1)\n",
            "Requirement already satisfied: gitdb<5,>=4.0.1 in /anaconda/envs/azureml_py38/lib/python3.10/site-packages (from gitpython<4,>=3.1.9->mlflow-skinny==3.4.0->mlflow) (4.0.12)\n",
            "Requirement already satisfied: idna in /anaconda/envs/azureml_py38/lib/python3.10/site-packages (from httpx>=0.28.1->fastmcp<3,>=2.0.0->mlflow) (3.10)\n",
            "Requirement already satisfied: httpcore==1.* in /anaconda/envs/azureml_py38/lib/python3.10/site-packages (from httpx>=0.28.1->fastmcp<3,>=2.0.0->mlflow) (1.0.9)\n",
            "Requirement already satisfied: certifi in /anaconda/envs/azureml_py38/lib/python3.10/site-packages (from httpx>=0.28.1->fastmcp<3,>=2.0.0->mlflow) (2025.7.9)\n",
            "Requirement already satisfied: anyio in /anaconda/envs/azureml_py38/lib/python3.10/site-packages (from httpx>=0.28.1->fastmcp<3,>=2.0.0->mlflow) (4.9.0)\n",
            "Requirement already satisfied: h11>=0.16 in /anaconda/envs/azureml_py38/lib/python3.10/site-packages (from httpcore==1.*->httpx>=0.28.1->fastmcp<3,>=2.0.0->mlflow) (0.16.0)\n",
            "Requirement already satisfied: zipp>=0.5 in /anaconda/envs/azureml_py38/lib/python3.10/site-packages (from importlib_metadata!=4.7.0,<9,>=3.7.0->mlflow-skinny==3.4.0->mlflow) (3.19.2)\n",
            "Requirement already satisfied: MarkupSafe>=2.0 in /anaconda/envs/azureml_py38/lib/python3.10/site-packages (from Jinja2>=3.1.2->Flask<4->mlflow) (2.0.1)\n",
            "Requirement already satisfied: pydantic-settings>=2.5.2 in /anaconda/envs/azureml_py38/lib/python3.10/site-packages (from mcp<2.0.0,>=1.12.4->fastmcp<3,>=2.0.0->mlflow) (2.8.1)\n",
            "Requirement already satisfied: jsonschema>=4.20.0 in /anaconda/envs/azureml_py38/lib/python3.10/site-packages (from mcp<2.0.0,>=1.12.4->fastmcp<3,>=2.0.0->mlflow) (4.24.0)\n",
            "Collecting sse-starlette>=1.6.1\n",
            "  Downloading sse_starlette-3.0.2-py3-none-any.whl (11 kB)\n",
            "Collecting python-multipart>=0.0.9\n",
            "  Downloading python_multipart-0.0.20-py3-none-any.whl (24 kB)\n",
            "Collecting httpx-sse>=0.4\n",
            "  Downloading httpx_sse-0.4.1-py3-none-any.whl (8.1 kB)\n",
            "Collecting parse\n",
            "  Downloading parse-1.20.2-py2.py3-none-any.whl (20 kB)\n",
            "Collecting openapi-spec-validator<0.8.0,>=0.7.1\n",
            "  Downloading openapi_spec_validator-0.7.2-py3-none-any.whl (39 kB)\n",
            "Collecting more-itertools\n",
            "  Downloading more_itertools-10.8.0-py3-none-any.whl (69 kB)\n",
            "\u001b[2K     \u001b[90m━━━━━━━━━━━━━━━━━━━━━━━━━━━━━━━━━━━━━━━━\u001b[0m \u001b[32m69.7/69.7 kB\u001b[0m \u001b[31m4.9 MB/s\u001b[0m eta \u001b[36m0:00:00\u001b[0m\n",
            "\u001b[?25hCollecting openapi-schema-validator<0.7.0,>=0.6.0\n",
            "  Downloading openapi_schema_validator-0.6.3-py3-none-any.whl (8.8 kB)\n",
            "Collecting jsonschema-path<0.4.0,>=0.3.1\n",
            "  Downloading jsonschema_path-0.3.4-py3-none-any.whl (14 kB)\n",
            "Requirement already satisfied: isodate in /anaconda/envs/azureml_py38/lib/python3.10/site-packages (from openapi-core>=0.19.5->fastmcp<3,>=2.0.0->mlflow) (0.7.2)\n",
            "Collecting Werkzeug>=3.0.0\n",
            "  Downloading werkzeug-3.1.1-py3-none-any.whl (224 kB)\n",
            "\u001b[2K     \u001b[90m━━━━━━━━━━━━━━━━━━━━━━━━━━━━━━━━━━━━━━\u001b[0m \u001b[32m224.4/224.4 kB\u001b[0m \u001b[31m14.7 MB/s\u001b[0m eta \u001b[36m0:00:00\u001b[0m\n",
            "\u001b[?25hCollecting protobuf<7,>=3.12.0\n",
            "  Downloading protobuf-6.32.1-cp39-abi3-manylinux2014_x86_64.whl (322 kB)\n",
            "\u001b[2K     \u001b[90m━━━━━━━━━━━━━━━━━━━━━━━━━━━━━━━━━━━━━━\u001b[0m \u001b[32m322.0/322.0 kB\u001b[0m \u001b[31m17.8 MB/s\u001b[0m eta \u001b[36m0:00:00\u001b[0m\n",
            "\u001b[?25hRequirement already satisfied: opentelemetry-semantic-conventions==0.58b0 in /anaconda/envs/azureml_py38/lib/python3.10/site-packages (from opentelemetry-sdk<3,>=1.9.0->mlflow-skinny==3.4.0->mlflow) (0.58b0)\n",
            "Requirement already satisfied: annotated-types>=0.6.0 in /anaconda/envs/azureml_py38/lib/python3.10/site-packages (from pydantic[email]>=2.11.7->fastmcp<3,>=2.0.0->mlflow) (0.7.0)\n",
            "Collecting pydantic-core==2.33.2\n",
            "  Downloading pydantic_core-2.33.2-cp310-cp310-manylinux_2_17_x86_64.manylinux2014_x86_64.whl (2.0 MB)\n",
            "\u001b[2K     \u001b[90m━━━━━━━━━━━━━━━━━━━━━━━━━━━━━━━━━━━━━━━━\u001b[0m \u001b[32m2.0/2.0 MB\u001b[0m \u001b[31m38.2 MB/s\u001b[0m eta \u001b[36m0:00:00\u001b[0m00:01\u001b[0m\n",
            "\u001b[?25hCollecting typing-inspection>=0.4.0\n",
            "  Downloading typing_inspection-0.4.2-py3-none-any.whl (14 kB)\n",
            "Collecting email-validator>=2.0.0\n",
            "  Downloading email_validator-2.3.0-py3-none-any.whl (35 kB)\n",
            "Requirement already satisfied: six>=1.5 in /anaconda/envs/azureml_py38/lib/python3.10/site-packages (from python-dateutil<3,>=2.7.0->graphene<4->mlflow) (1.17.0)\n",
            "Requirement already satisfied: charset_normalizer<4,>=2 in /anaconda/envs/azureml_py38/lib/python3.10/site-packages (from requests<3,>=2.17.3->mlflow-skinny==3.4.0->mlflow) (3.4.2)\n",
            "Requirement already satisfied: pygments<3.0.0,>=2.13.0 in /anaconda/envs/azureml_py38/lib/python3.10/site-packages (from rich>=13.9.4->fastmcp<3,>=2.0.0->mlflow) (2.19.2)\n",
            "Requirement already satisfied: markdown-it-py>=2.2.0 in /anaconda/envs/azureml_py38/lib/python3.10/site-packages (from rich>=13.9.4->fastmcp<3,>=2.0.0->mlflow) (3.0.0)\n",
            "Collecting MarkupSafe>=2.0\n",
            "  Downloading markupsafe-3.0.3-cp310-cp310-manylinux2014_x86_64.manylinux_2_17_x86_64.manylinux_2_28_x86_64.whl (20 kB)\n",
            "Requirement already satisfied: sniffio>=1.1 in /anaconda/envs/azureml_py38/lib/python3.10/site-packages (from anyio->httpx>=0.28.1->fastmcp<3,>=2.0.0->mlflow) (1.3.1)\n",
            "Collecting dnspython>=2.0.0\n",
            "  Downloading dnspython-2.8.0-py3-none-any.whl (331 kB)\n",
            "\u001b[2K     \u001b[90m━━━━━━━━━━━━━━━━━━━━━━━━━━━━━━━━━━━━━━\u001b[0m \u001b[32m331.1/331.1 kB\u001b[0m \u001b[31m18.4 MB/s\u001b[0m eta \u001b[36m0:00:00\u001b[0m\n",
            "\u001b[?25hRequirement already satisfied: smmap<6,>=3.0.1 in /anaconda/envs/azureml_py38/lib/python3.10/site-packages (from gitdb<5,>=4.0.1->gitpython<4,>=3.1.9->mlflow-skinny==3.4.0->mlflow) (5.0.2)\n",
            "Requirement already satisfied: pyasn1-modules>=0.2.1 in /anaconda/envs/azureml_py38/lib/python3.10/site-packages (from google-auth~=2.0->databricks-sdk<1,>=0.20.0->mlflow-skinny==3.4.0->mlflow) (0.4.2)\n",
            "Requirement already satisfied: rsa<5,>=3.1.4 in /anaconda/envs/azureml_py38/lib/python3.10/site-packages (from google-auth~=2.0->databricks-sdk<1,>=0.20.0->mlflow-skinny==3.4.0->mlflow) (4.9)\n",
            "Requirement already satisfied: rpds-py>=0.7.1 in /anaconda/envs/azureml_py38/lib/python3.10/site-packages (from jsonschema>=4.20.0->mcp<2.0.0,>=1.12.4->fastmcp<3,>=2.0.0->mlflow) (0.24.0)\n",
            "Requirement already satisfied: jsonschema-specifications>=2023.03.6 in /anaconda/envs/azureml_py38/lib/python3.10/site-packages (from jsonschema>=4.20.0->mcp<2.0.0,>=1.12.4->fastmcp<3,>=2.0.0->mlflow) (2025.4.1)\n",
            "Requirement already satisfied: referencing>=0.28.4 in /anaconda/envs/azureml_py38/lib/python3.10/site-packages (from jsonschema>=4.20.0->mcp<2.0.0,>=1.12.4->fastmcp<3,>=2.0.0->mlflow) (0.36.2)\n",
            "Collecting pathable<0.5.0,>=0.4.1\n",
            "  Downloading pathable-0.4.4-py3-none-any.whl (9.6 kB)\n",
            "Requirement already satisfied: mdurl~=0.1 in /anaconda/envs/azureml_py38/lib/python3.10/site-packages (from markdown-it-py>=2.2.0->rich>=13.9.4->fastmcp<3,>=2.0.0->mlflow) (0.1.2)\n",
            "Requirement already satisfied: rfc3339-validator in /anaconda/envs/azureml_py38/lib/python3.10/site-packages (from openapi-schema-validator<0.7.0,>=0.6.0->openapi-core>=0.19.5->fastmcp<3,>=2.0.0->mlflow) (0.1.4)\n",
            "Collecting lazy-object-proxy<2.0.0,>=1.7.1\n",
            "  Downloading lazy_object_proxy-1.12.0-cp310-cp310-manylinux_2_5_x86_64.manylinux1_x86_64.manylinux_2_17_x86_64.manylinux2014_x86_64.whl (67 kB)\n",
            "\u001b[2K     \u001b[90m━━━━━━━━━━━━━━━━━━━━━━━━━━━━━━━━━━━━━━━━\u001b[0m \u001b[32m67.6/67.6 kB\u001b[0m \u001b[31m5.1 MB/s\u001b[0m eta \u001b[36m0:00:00\u001b[0m\n",
            "\u001b[?25hCollecting docutils\n",
            "  Downloading docutils-0.22.2-py3-none-any.whl (632 kB)\n",
            "\u001b[2K     \u001b[90m━━━━━━━━━━━━━━━━━━━━━━━━━━━━━━━━━━━━━━\u001b[0m \u001b[32m632.7/632.7 kB\u001b[0m \u001b[31m29.7 MB/s\u001b[0m eta \u001b[36m0:00:00\u001b[0m\n",
            "\u001b[?25hRequirement already satisfied: pyasn1<0.7.0,>=0.6.1 in /anaconda/envs/azureml_py38/lib/python3.10/site-packages (from pyasn1-modules>=0.2.1->google-auth~=2.0->databricks-sdk<1,>=0.20.0->mlflow-skinny==3.4.0->mlflow) (0.6.1)\n",
            "Installing collected packages: pyperclip, parse, typing-inspection, sqlalchemy, python-multipart, pydantic-core, protobuf, pathable, more-itertools, MarkupSafe, lazy-object-proxy, httpx-sse, graphql-core, docutils, docstring-parser, dnspython, Werkzeug, pydantic, Mako, jsonschema-path, graphql-relay, email-validator, cryptography, sse-starlette, rich-rst, openapi-pydantic, graphene, authlib, alembic, openapi-schema-validator, mcp, cyclopts, openapi-spec-validator, mlflow-tracing, mlflow-skinny, openapi-core, fastmcp, mlflow\n",
            "  Attempting uninstall: pydantic-core\n",
            "    Found existing installation: pydantic_core 2.23.4\n",
            "    Uninstalling pydantic_core-2.23.4:\n",
            "      Successfully uninstalled pydantic_core-2.23.4\n",
            "  Attempting uninstall: protobuf\n",
            "    Found existing installation: protobuf 4.25.8\n",
            "    Uninstalling protobuf-4.25.8:\n",
            "      Successfully uninstalled protobuf-4.25.8\n",
            "  Attempting uninstall: MarkupSafe\n",
            "    Found existing installation: MarkupSafe 2.0.1\n",
            "    Uninstalling MarkupSafe-2.0.1:\n",
            "      Successfully uninstalled MarkupSafe-2.0.1\n",
            "  Attempting uninstall: Werkzeug\n",
            "    Found existing installation: Werkzeug 3.1.3\n",
            "    Uninstalling Werkzeug-3.1.3:\n",
            "      Successfully uninstalled Werkzeug-3.1.3\n",
            "  Attempting uninstall: pydantic\n",
            "    Found existing installation: pydantic 2.9.2\n",
            "    Uninstalling pydantic-2.9.2:\n",
            "      Successfully uninstalled pydantic-2.9.2\n",
            "  Attempting uninstall: cryptography\n",
            "    Found existing installation: cryptography 38.0.4\n",
            "    Uninstalling cryptography-38.0.4:\n",
            "      Successfully uninstalled cryptography-38.0.4\n",
            "  Attempting uninstall: mlflow-skinny\n",
            "    Found existing installation: mlflow-skinny 2.21.3\n",
            "    Uninstalling mlflow-skinny-2.21.3:\n",
            "      Successfully uninstalled mlflow-skinny-2.21.3\n",
            "\u001b[31mERROR: pip's dependency resolver does not currently take into account all the packages that are installed. This behaviour is the source of the following dependency conflicts.\n",
            "tensorflow 2.19.0 requires numpy<2.2.0,>=1.26.0, but you have numpy 1.23.5 which is incompatible.\n",
            "tensorflow 2.19.0 requires protobuf!=4.21.0,!=4.21.1,!=4.21.2,!=4.21.3,!=4.21.4,!=4.21.5,<6.0.0dev,>=3.20.3, but you have protobuf 6.32.1 which is incompatible.\n",
            "pyopenssl 23.0.0 requires cryptography<40,>=38.0.0, but you have cryptography 45.0.7 which is incompatible.\n",
            "jupyter-resource-usage 0.7.2 requires psutil~=5.6, but you have psutil 7.1.0 which is incompatible.\n",
            "dask-sql 2024.5.0 requires dask[dataframe]>=2024.4.1, but you have dask 2023.2.0 which is incompatible.\n",
            "dask-sql 2024.5.0 requires distributed>=2024.4.1, but you have distributed 2023.2.0 which is incompatible.\n",
            "azureml-training-tabular 1.60.0 requires psutil<5.9.4,>=5.2.2, but you have psutil 7.1.0 which is incompatible.\n",
            "azureml-training-tabular 1.60.0 requires scipy<1.11.0,>=1.0.0, but you have scipy 1.11.0 which is incompatible.\n",
            "azureml-training-tabular 1.60.0 requires urllib3<2.0.0, but you have urllib3 2.5.0 which is incompatible.\n",
            "azureml-train-automl-runtime 1.60.0 requires urllib3<2.0.0, but you have urllib3 2.5.0 which is incompatible.\n",
            "azureml-mlflow 1.60.0 requires azure-storage-blob<=12.19.0,>=12.5.0, but you have azure-storage-blob 12.26.0 which is incompatible.\n",
            "azureml-inference-server-http 1.4.0 requires pydantic~=2.9.0, but you have pydantic 2.11.10 which is incompatible.\n",
            "azureml-automl-runtime 1.60.0 requires psutil<5.9.4,>=5.2.2, but you have psutil 7.1.0 which is incompatible.\n",
            "azureml-automl-runtime 1.60.0 requires urllib3<2.0.0, but you have urllib3 2.5.0 which is incompatible.\n",
            "azureml-automl-dnn-nlp 1.60.0 requires torch==2.2.2, but you have torch 2.7.1 which is incompatible.\n",
            "azure-cli 2.75.0 requires azure-datalake-store~=1.0.1, but you have azure-datalake-store 0.0.53 which is incompatible.\n",
            "azure-cli 2.75.0 requires azure-keyvault-keys==4.11.0b1, but you have azure-keyvault-keys 4.8.0 which is incompatible.\n",
            "azure-cli 2.75.0 requires azure-mgmt-containerregistry==14.1.0b1, but you have azure-mgmt-containerregistry 9.0.0 which is incompatible.\n",
            "azure-cli 2.75.0 requires azure-mgmt-keyvault==11.0.0, but you have azure-mgmt-keyvault 10.3.1 which is incompatible.\n",
            "azure-cli 2.75.0 requires azure-mgmt-storage==23.0.0, but you have azure-mgmt-storage 22.0.0 which is incompatible.\n",
            "azure-cli 2.75.0 requires websocket-client~=1.3.1, but you have websocket-client 1.8.0 which is incompatible.\n",
            "adlfs 2024.12.0 requires fsspec>=2023.12.0, but you have fsspec 2023.10.0 which is incompatible.\u001b[0m\u001b[31m\n",
            "\u001b[0mSuccessfully installed Mako-1.3.10 MarkupSafe-3.0.3 Werkzeug-3.1.1 alembic-1.16.5 authlib-1.6.5 cryptography-45.0.7 cyclopts-3.24.0 dnspython-2.8.0 docstring-parser-0.17.0 docutils-0.22.2 email-validator-2.3.0 fastmcp-2.12.4 graphene-3.4.3 graphql-core-3.2.6 graphql-relay-3.2.0 httpx-sse-0.4.1 jsonschema-path-0.3.4 lazy-object-proxy-1.12.0 mcp-1.16.0 mlflow-3.4.0 mlflow-skinny-3.4.0 mlflow-tracing-3.4.0 more-itertools-10.8.0 openapi-core-0.19.5 openapi-pydantic-0.5.1 openapi-schema-validator-0.6.3 openapi-spec-validator-0.7.2 parse-1.20.2 pathable-0.4.4 protobuf-6.32.1 pydantic-2.11.10 pydantic-core-2.33.2 pyperclip-1.11.0 python-multipart-0.0.20 rich-rst-1.3.1 sqlalchemy-2.0.43 sse-starlette-3.0.2 typing-inspection-0.4.2\n",
            "Note: you may need to restart the kernel to use updated packages.\n"
          ]
        }
      ],
      "source": [
        "!pip install mlflow"
      ]
    },
    {
      "cell_type": "code",
      "execution_count": 5,
      "metadata": {
        "gather": {
          "logged": 1668168155287
        },
        "jupyter": {
          "outputs_hidden": false,
          "source_hidden": false
        },
        "nteract": {
          "transient": {
            "deleting": false
          }
        }
      },
      "outputs": [
        {
          "name": "stdout",
          "output_type": "stream",
          "text": [
            "Name: mlflow\n",
            "Version: 3.4.0\n",
            "Summary: MLflow is an open source platform for the complete machine learning lifecycle\n",
            "Home-page: \n",
            "Author: \n",
            "Author-email: \n",
            "License: Copyright 2018 Databricks, Inc.  All rights reserved.\n",
            "        \n",
            "                                        Apache License\n",
            "                                   Version 2.0, January 2004\n",
            "                                http://www.apache.org/licenses/\n",
            "        \n",
            "           TERMS AND CONDITIONS FOR USE, REPRODUCTION, AND DISTRIBUTION\n",
            "        \n",
            "           1. Definitions.\n",
            "        \n",
            "              \"License\" shall mean the terms and conditions for use, reproduction,\n",
            "              and distribution as defined by Sections 1 through 9 of this document.\n",
            "        \n",
            "              \"Licensor\" shall mean the copyright owner or entity authorized by\n",
            "              the copyright owner that is granting the License.\n",
            "        \n",
            "              \"Legal Entity\" shall mean the union of the acting entity and all\n",
            "              other entities that control, are controlled by, or are under common\n",
            "              control with that entity. For the purposes of this definition,\n",
            "              \"control\" means (i) the power, direct or indirect, to cause the\n",
            "              direction or management of such entity, whether by contract or\n",
            "              otherwise, or (ii) ownership of fifty percent (50%) or more of the\n",
            "              outstanding shares, or (iii) beneficial ownership of such entity.\n",
            "        \n",
            "              \"You\" (or \"Your\") shall mean an individual or Legal Entity\n",
            "              exercising permissions granted by this License.\n",
            "        \n",
            "              \"Source\" form shall mean the preferred form for making modifications,\n",
            "              including but not limited to software source code, documentation\n",
            "              source, and configuration files.\n",
            "        \n",
            "              \"Object\" form shall mean any form resulting from mechanical\n",
            "              transformation or translation of a Source form, including but\n",
            "              not limited to compiled object code, generated documentation,\n",
            "              and conversions to other media types.\n",
            "        \n",
            "              \"Work\" shall mean the work of authorship, whether in Source or\n",
            "              Object form, made available under the License, as indicated by a\n",
            "              copyright notice that is included in or attached to the work\n",
            "              (an example is provided in the Appendix below).\n",
            "        \n",
            "              \"Derivative Works\" shall mean any work, whether in Source or Object\n",
            "              form, that is based on (or derived from) the Work and for which the\n",
            "              editorial revisions, annotations, elaborations, or other modifications\n",
            "              represent, as a whole, an original work of authorship. For the purposes\n",
            "              of this License, Derivative Works shall not include works that remain\n",
            "              separable from, or merely link (or bind by name) to the interfaces of,\n",
            "              the Work and Derivative Works thereof.\n",
            "        \n",
            "              \"Contribution\" shall mean any work of authorship, including\n",
            "              the original version of the Work and any modifications or additions\n",
            "              to that Work or Derivative Works thereof, that is intentionally\n",
            "              submitted to Licensor for inclusion in the Work by the copyright owner\n",
            "              or by an individual or Legal Entity authorized to submit on behalf of\n",
            "              the copyright owner. For the purposes of this definition, \"submitted\"\n",
            "              means any form of electronic, verbal, or written communication sent\n",
            "              to the Licensor or its representatives, including but not limited to\n",
            "              communication on electronic mailing lists, source code control systems,\n",
            "              and issue tracking systems that are managed by, or on behalf of, the\n",
            "              Licensor for the purpose of discussing and improving the Work, but\n",
            "              excluding communication that is conspicuously marked or otherwise\n",
            "              designated in writing by the copyright owner as \"Not a Contribution.\"\n",
            "        \n",
            "              \"Contributor\" shall mean Licensor and any individual or Legal Entity\n",
            "              on behalf of whom a Contribution has been received by Licensor and\n",
            "              subsequently incorporated within the Work.\n",
            "        \n",
            "           2. Grant of Copyright License. Subject to the terms and conditions of\n",
            "              this License, each Contributor hereby grants to You a perpetual,\n",
            "              worldwide, non-exclusive, no-charge, royalty-free, irrevocable\n",
            "              copyright license to reproduce, prepare Derivative Works of,\n",
            "              publicly display, publicly perform, sublicense, and distribute the\n",
            "              Work and such Derivative Works in Source or Object form.\n",
            "        \n",
            "           3. Grant of Patent License. Subject to the terms and conditions of\n",
            "              this License, each Contributor hereby grants to You a perpetual,\n",
            "              worldwide, non-exclusive, no-charge, royalty-free, irrevocable\n",
            "              (except as stated in this section) patent license to make, have made,\n",
            "              use, offer to sell, sell, import, and otherwise transfer the Work,\n",
            "              where such license applies only to those patent claims licensable\n",
            "              by such Contributor that are necessarily infringed by their\n",
            "              Contribution(s) alone or by combination of their Contribution(s)\n",
            "              with the Work to which such Contribution(s) was submitted. If You\n",
            "              institute patent litigation against any entity (including a\n",
            "              cross-claim or counterclaim in a lawsuit) alleging that the Work\n",
            "              or a Contribution incorporated within the Work constitutes direct\n",
            "              or contributory patent infringement, then any patent licenses\n",
            "              granted to You under this License for that Work shall terminate\n",
            "              as of the date such litigation is filed.\n",
            "        \n",
            "           4. Redistribution. You may reproduce and distribute copies of the\n",
            "              Work or Derivative Works thereof in any medium, with or without\n",
            "              modifications, and in Source or Object form, provided that You\n",
            "              meet the following conditions:\n",
            "        \n",
            "              (a) You must give any other recipients of the Work or\n",
            "                  Derivative Works a copy of this License; and\n",
            "        \n",
            "              (b) You must cause any modified files to carry prominent notices\n",
            "                  stating that You changed the files; and\n",
            "        \n",
            "              (c) You must retain, in the Source form of any Derivative Works\n",
            "                  that You distribute, all copyright, patent, trademark, and\n",
            "                  attribution notices from the Source form of the Work,\n",
            "                  excluding those notices that do not pertain to any part of\n",
            "                  the Derivative Works; and\n",
            "        \n",
            "              (d) If the Work includes a \"NOTICE\" text file as part of its\n",
            "                  distribution, then any Derivative Works that You distribute must\n",
            "                  include a readable copy of the attribution notices contained\n",
            "                  within such NOTICE file, excluding those notices that do not\n",
            "                  pertain to any part of the Derivative Works, in at least one\n",
            "                  of the following places: within a NOTICE text file distributed\n",
            "                  as part of the Derivative Works; within the Source form or\n",
            "                  documentation, if provided along with the Derivative Works; or,\n",
            "                  within a display generated by the Derivative Works, if and\n",
            "                  wherever such third-party notices normally appear. The contents\n",
            "                  of the NOTICE file are for informational purposes only and\n",
            "                  do not modify the License. You may add Your own attribution\n",
            "                  notices within Derivative Works that You distribute, alongside\n",
            "                  or as an addendum to the NOTICE text from the Work, provided\n",
            "                  that such additional attribution notices cannot be construed\n",
            "                  as modifying the License.\n",
            "        \n",
            "              You may add Your own copyright statement to Your modifications and\n",
            "              may provide additional or different license terms and conditions\n",
            "              for use, reproduction, or distribution of Your modifications, or\n",
            "              for any such Derivative Works as a whole, provided Your use,\n",
            "              reproduction, and distribution of the Work otherwise complies with\n",
            "              the conditions stated in this License.\n",
            "        \n",
            "           5. Submission of Contributions. Unless You explicitly state otherwise,\n",
            "              any Contribution intentionally submitted for inclusion in the Work\n",
            "              by You to the Licensor shall be under the terms and conditions of\n",
            "              this License, without any additional terms or conditions.\n",
            "              Notwithstanding the above, nothing herein shall supersede or modify\n",
            "              the terms of any separate license agreement you may have executed\n",
            "              with Licensor regarding such Contributions.\n",
            "        \n",
            "           6. Trademarks. This License does not grant permission to use the trade\n",
            "              names, trademarks, service marks, or product names of the Licensor,\n",
            "              except as required for reasonable and customary use in describing the\n",
            "              origin of the Work and reproducing the content of the NOTICE file.\n",
            "        \n",
            "           7. Disclaimer of Warranty. Unless required by applicable law or\n",
            "              agreed to in writing, Licensor provides the Work (and each\n",
            "              Contributor provides its Contributions) on an \"AS IS\" BASIS,\n",
            "              WITHOUT WARRANTIES OR CONDITIONS OF ANY KIND, either express or\n",
            "              implied, including, without limitation, any warranties or conditions\n",
            "              of TITLE, NON-INFRINGEMENT, MERCHANTABILITY, or FITNESS FOR A\n",
            "              PARTICULAR PURPOSE. You are solely responsible for determining the\n",
            "              appropriateness of using or redistributing the Work and assume any\n",
            "              risks associated with Your exercise of permissions under this License.\n",
            "        \n",
            "           8. Limitation of Liability. In no event and under no legal theory,\n",
            "              whether in tort (including negligence), contract, or otherwise,\n",
            "              unless required by applicable law (such as deliberate and grossly\n",
            "              negligent acts) or agreed to in writing, shall any Contributor be\n",
            "              liable to You for damages, including any direct, indirect, special,\n",
            "              incidental, or consequential damages of any character arising as a\n",
            "              result of this License or out of the use or inability to use the\n",
            "              Work (including but not limited to damages for loss of goodwill,\n",
            "              work stoppage, computer failure or malfunction, or any and all\n",
            "              other commercial damages or losses), even if such Contributor\n",
            "              has been advised of the possibility of such damages.\n",
            "        \n",
            "           9. Accepting Warranty or Additional Liability. While redistributing\n",
            "              the Work or Derivative Works thereof, You may choose to offer,\n",
            "              and charge a fee for, acceptance of support, warranty, indemnity,\n",
            "              or other liability obligations and/or rights consistent with this\n",
            "              License. However, in accepting such obligations, You may act only\n",
            "              on Your own behalf and on Your sole responsibility, not on behalf\n",
            "              of any other Contributor, and only if You agree to indemnify,\n",
            "              defend, and hold each Contributor harmless for any liability\n",
            "              incurred by, or claims asserted against, such Contributor by reason\n",
            "              of your accepting any such warranty or additional liability.\n",
            "        \n",
            "           END OF TERMS AND CONDITIONS\n",
            "           APPENDIX: How to apply the Apache License to your work.\n",
            "        \n",
            "              To apply the Apache License to your work, attach the following\n",
            "              boilerplate notice, with the fields enclosed by brackets \"[]\"\n",
            "              replaced with your own identifying information. (Don't include\n",
            "              the brackets!)  The text should be enclosed in the appropriate\n",
            "              comment syntax for the file format. We also recommend that a\n",
            "              file or class name and description of purpose be included on the\n",
            "              same \"printed page\" as the copyright notice for easier\n",
            "              identification within third-party archives.\n",
            "        \n",
            "           Copyright [yyyy] [name of copyright owner]\n",
            "        \n",
            "           Licensed under the Apache License, Version 2.0 (the \"License\");\n",
            "           you may not use this file except in compliance with the License.\n",
            "           You may obtain a copy of the License at\n",
            "        \n",
            "               http://www.apache.org/licenses/LICENSE-2.0\n",
            "        \n",
            "           Unless required by applicable law or agreed to in writing, software\n",
            "           distributed under the License is distributed on an \"AS IS\" BASIS,\n",
            "           WITHOUT WARRANTIES OR CONDITIONS OF ANY KIND, either express or implied.\n",
            "           See the License for the specific language governing permissions and\n",
            "           limitations under the License.\n",
            "        \n",
            "Location: /anaconda/envs/azureml_py38/lib/python3.10/site-packages\n",
            "Requires: alembic, cryptography, docker, fastmcp, Flask, graphene, gunicorn, matplotlib, mlflow-skinny, mlflow-tracing, numpy, pandas, pyarrow, scikit-learn, scipy, sqlalchemy\n",
            "Required-by: \n",
            "Note: you may need to restart the kernel to use updated packages.\n"
          ]
        }
      ],
      "source": [
        "pip show mlflow"
      ]
    },
    {
      "attachments": {},
      "cell_type": "markdown",
      "metadata": {},
      "source": [
        "## Prepare the data\n",
        "\n",
        "You'll train a diabetes classification model. The training data is stored in the **data** folder as **diabetes.csv**. \n",
        "\n",
        "First, let's read the data:"
      ]
    },
    {
      "cell_type": "code",
      "execution_count": 6,
      "metadata": {},
      "outputs": [
        {
          "name": "stdout",
          "output_type": "stream",
          "text": [
            "Current working directory: /mnt/batch/tasks/shared/LS_root/mounts/clusters/ciizzumanid2v3/code\n",
            "Successfully changed to: /mnt/batch/tasks/shared/LS_root/mounts/clusters/ciizzumanid2v3/code/Users/isaac.njiru/azure-ml-labs/Labs/07\n",
            "Files in current directory: ['data', 'images', 'setup.sh', 'setup1.sh', 'Track model training with MLflow.ipynb']\n",
            "Final working directory: /mnt/batch/tasks/shared/LS_root/mounts/clusters/ciizzumanid2v3/code/Users/isaac.njiru/azure-ml-labs/Labs/07\n"
          ]
        }
      ],
      "source": [
        "import os\n",
        "# Get the current working directory\n",
        "current_dir = os.getcwd()\n",
        "print(\"Current working directory:\", current_dir)\n",
        "\n",
        "# Set the correct directory path based on your terminal location\n",
        "target_dir = \"/home/azureuser/cloudfiles/code/Users/isaac.njiru/azure-ml-labs/Labs/07\"\n",
        "\n",
        "# Change to the target directory\n",
        "try:\n",
        "    os.chdir(target_dir)\n",
        "    print(\"Successfully changed to:\", os.getcwd())\n",
        "    \n",
        "    # List files to verify we're in the right place\n",
        "    print(\"Files in current directory:\", os.listdir('.'))\n",
        "   \n",
        "except FileNotFoundError:\n",
        "    print(f\"Directory {target_dir} not found\")\n",
        "except PermissionError:\n",
        "    print(f\"Permission denied to access {target_dir}\")\n",
        "    \n",
        "print(\"Final working directory:\", os.getcwd())"
      ]
    },
    {
      "cell_type": "code",
      "execution_count": 7,
      "metadata": {
        "gather": {
          "logged": 1668175953133
        }
      },
      "outputs": [
        {
          "name": "stdout",
          "output_type": "stream",
          "text": [
            "Reading data...\n"
          ]
        },
        {
          "data": {
            "text/html": [
              "<div>\n",
              "<style scoped>\n",
              "    .dataframe tbody tr th:only-of-type {\n",
              "        vertical-align: middle;\n",
              "    }\n",
              "\n",
              "    .dataframe tbody tr th {\n",
              "        vertical-align: top;\n",
              "    }\n",
              "\n",
              "    .dataframe thead th {\n",
              "        text-align: right;\n",
              "    }\n",
              "</style>\n",
              "<table border=\"1\" class=\"dataframe\">\n",
              "  <thead>\n",
              "    <tr style=\"text-align: right;\">\n",
              "      <th></th>\n",
              "      <th>PatientID</th>\n",
              "      <th>Pregnancies</th>\n",
              "      <th>PlasmaGlucose</th>\n",
              "      <th>DiastolicBloodPressure</th>\n",
              "      <th>TricepsThickness</th>\n",
              "      <th>SerumInsulin</th>\n",
              "      <th>BMI</th>\n",
              "      <th>DiabetesPedigree</th>\n",
              "      <th>Age</th>\n",
              "      <th>Diabetic</th>\n",
              "    </tr>\n",
              "  </thead>\n",
              "  <tbody>\n",
              "    <tr>\n",
              "      <th>0</th>\n",
              "      <td>1354778</td>\n",
              "      <td>0</td>\n",
              "      <td>171</td>\n",
              "      <td>80</td>\n",
              "      <td>34</td>\n",
              "      <td>23</td>\n",
              "      <td>43.509726</td>\n",
              "      <td>1.213191</td>\n",
              "      <td>21</td>\n",
              "      <td>0</td>\n",
              "    </tr>\n",
              "    <tr>\n",
              "      <th>1</th>\n",
              "      <td>1147438</td>\n",
              "      <td>8</td>\n",
              "      <td>92</td>\n",
              "      <td>93</td>\n",
              "      <td>47</td>\n",
              "      <td>36</td>\n",
              "      <td>21.240576</td>\n",
              "      <td>0.158365</td>\n",
              "      <td>23</td>\n",
              "      <td>0</td>\n",
              "    </tr>\n",
              "    <tr>\n",
              "      <th>2</th>\n",
              "      <td>1640031</td>\n",
              "      <td>7</td>\n",
              "      <td>115</td>\n",
              "      <td>47</td>\n",
              "      <td>52</td>\n",
              "      <td>35</td>\n",
              "      <td>41.511523</td>\n",
              "      <td>0.079019</td>\n",
              "      <td>23</td>\n",
              "      <td>0</td>\n",
              "    </tr>\n",
              "    <tr>\n",
              "      <th>3</th>\n",
              "      <td>1883350</td>\n",
              "      <td>9</td>\n",
              "      <td>103</td>\n",
              "      <td>78</td>\n",
              "      <td>25</td>\n",
              "      <td>304</td>\n",
              "      <td>29.582192</td>\n",
              "      <td>1.282870</td>\n",
              "      <td>43</td>\n",
              "      <td>1</td>\n",
              "    </tr>\n",
              "    <tr>\n",
              "      <th>4</th>\n",
              "      <td>1424119</td>\n",
              "      <td>1</td>\n",
              "      <td>85</td>\n",
              "      <td>59</td>\n",
              "      <td>27</td>\n",
              "      <td>35</td>\n",
              "      <td>42.604536</td>\n",
              "      <td>0.549542</td>\n",
              "      <td>22</td>\n",
              "      <td>0</td>\n",
              "    </tr>\n",
              "  </tbody>\n",
              "</table>\n",
              "</div>"
            ],
            "text/plain": [
              "   PatientID  Pregnancies  PlasmaGlucose  DiastolicBloodPressure  \\\n",
              "0    1354778            0            171                      80   \n",
              "1    1147438            8             92                      93   \n",
              "2    1640031            7            115                      47   \n",
              "3    1883350            9            103                      78   \n",
              "4    1424119            1             85                      59   \n",
              "\n",
              "   TricepsThickness  SerumInsulin        BMI  DiabetesPedigree  Age  Diabetic  \n",
              "0                34            23  43.509726          1.213191   21         0  \n",
              "1                47            36  21.240576          0.158365   23         0  \n",
              "2                52            35  41.511523          0.079019   23         0  \n",
              "3                25           304  29.582192          1.282870   43         1  \n",
              "4                27            35  42.604536          0.549542   22         0  "
            ]
          },
          "execution_count": 7,
          "metadata": {},
          "output_type": "execute_result"
        }
      ],
      "source": [
        "import pandas as pd\n",
        "\n",
        "print(\"Reading data...\")\n",
        "df = pd.read_csv('./data/diabetes.csv')\n",
        "df.head()"
      ]
    },
    {
      "attachments": {},
      "cell_type": "markdown",
      "metadata": {},
      "source": [
        "Next, you'll split the data into features and the label (Diabetes):"
      ]
    },
    {
      "cell_type": "code",
      "execution_count": 8,
      "metadata": {
        "gather": {
          "logged": 1668175956555
        }
      },
      "outputs": [
        {
          "name": "stdout",
          "output_type": "stream",
          "text": [
            "Splitting data...\n"
          ]
        }
      ],
      "source": [
        "print(\"Splitting data...\")\n",
        "X, y = df[['Pregnancies','PlasmaGlucose','DiastolicBloodPressure','TricepsThickness','SerumInsulin','BMI','DiabetesPedigree','Age']].values, df['Diabetic'].values"
      ]
    },
    {
      "cell_type": "code",
      "execution_count": 9,
      "metadata": {
        "gather": {
          "logged": 1668175959902
        }
      },
      "outputs": [],
      "source": [
        "from sklearn.model_selection import train_test_split\n",
        "\n",
        "X_train, X_test, y_train, y_test = train_test_split(X, y, test_size=0.30, random_state=0)"
      ]
    },
    {
      "attachments": {},
      "cell_type": "markdown",
      "metadata": {},
      "source": [
        "You now have four dataframes:\n",
        "\n",
        "- `X_train`: The training dataset containing the features.\n",
        "- `X_test`: The test dataset containing the features.\n",
        "- `y_train`: The label for the training dataset.\n",
        "- `y_test`: The label for the test dataset.\n",
        "\n",
        "You'll use these to train and evaluate the models you'll train.\n",
        "\n",
        "## Create an MLflow experiment\n",
        "\n",
        "Now that you're ready to train machine learning models, you'll first create an MLflow experiment. By creating the experiment, you can group all runs within one experiment and make it easier to find the runs in the studio."
      ]
    },
    {
      "cell_type": "code",
      "execution_count": 10,
      "metadata": {},
      "outputs": [
        {
          "name": "stderr",
          "output_type": "stream",
          "text": [
            "2025/10/04 16:51:38 INFO mlflow.tracking.fluent: Experiment with name 'mlflow-experiment-diabetes' does not exist. Creating a new experiment.\n"
          ]
        },
        {
          "data": {
            "text/plain": [
              "<Experiment: artifact_location='', creation_time=1759596700425, experiment_id='bbf6739b-1c9c-44ea-86e1-c9b6b9aaea50', last_update_time=None, lifecycle_stage='active', name='mlflow-experiment-diabetes', tags={}>"
            ]
          },
          "execution_count": 10,
          "metadata": {},
          "output_type": "execute_result"
        }
      ],
      "source": [
        "import mlflow\n",
        "experiment_name = \"mlflow-experiment-diabetes\"\n",
        "mlflow.set_experiment(experiment_name)"
      ]
    },
    {
      "attachments": {},
      "cell_type": "markdown",
      "metadata": {},
      "source": [
        "## Train and track models\n",
        "\n",
        "To track a model you train, you can use MLflow and enable autologging. The following cell will train a classification model using logistic regression. You'll notice that you don't need to calculate any evaluation metrics because they're automatically created and logged by MLflow."
      ]
    },
    {
      "cell_type": "code",
      "execution_count": 11,
      "metadata": {
        "gather": {
          "logged": 1668176121803
        }
      },
      "outputs": [
        {
          "name": "stderr",
          "output_type": "stream",
          "text": [
            "2025/10/04 16:51:54 WARNING mlflow.utils.autologging_utils: Encountered unexpected error during sklearn autologging: API request to endpoint /api/2.0/mlflow/logged-models failed with error code 404 != 200. Response body: ''\n"
          ]
        },
        {
          "name": "stdout",
          "output_type": "stream",
          "text": [
            "🏃 View run plucky_table_dvjjbvp0 at: https://canadaeast.api.azureml.ms/mlflow/v2.0/subscriptions/d9965121-bf98-41dd-bbad-a55f0233b417/resourceGroups/rg-dp100-labs-01-10-0712/providers/Microsoft.MachineLearningServices/workspaces/mlw-dp100-labs/#/experiments/bbf6739b-1c9c-44ea-86e1-c9b6b9aaea50/runs/584c6ba9-53cc-4ea9-a166-a709be89ec2a\n",
            "🧪 View experiment at: https://canadaeast.api.azureml.ms/mlflow/v2.0/subscriptions/d9965121-bf98-41dd-bbad-a55f0233b417/resourceGroups/rg-dp100-labs-01-10-0712/providers/Microsoft.MachineLearningServices/workspaces/mlw-dp100-labs/#/experiments/bbf6739b-1c9c-44ea-86e1-c9b6b9aaea50\n"
          ]
        }
      ],
      "source": [
        "from sklearn.linear_model import LogisticRegression\n",
        "\n",
        "with mlflow.start_run():\n",
        "    mlflow.sklearn.autolog()\n",
        "\n",
        "    model = LogisticRegression(C=1/0.1, solver=\"liblinear\").fit(X_train, y_train)\n"
      ]
    },
    {
      "attachments": {},
      "cell_type": "markdown",
      "metadata": {},
      "source": [
        "You can also use custom logging with MLflow. You can add custom logging to autologging, or you can use only custom logging.\n",
        "\n",
        "Let's train two more models with scikit-learn. Since you ran the `mlflow.sklearn.autolog()` command before, MLflow will now automatically log any model trained with scikit-learn. To disable the autologging, run the following cell:"
      ]
    },
    {
      "cell_type": "code",
      "execution_count": 12,
      "metadata": {
        "gather": {
          "logged": 1668177101622
        },
        "jupyter": {
          "outputs_hidden": false,
          "source_hidden": false
        },
        "nteract": {
          "transient": {
            "deleting": false
          }
        }
      },
      "outputs": [],
      "source": [
        "mlflow.sklearn.autolog(disable=True)"
      ]
    },
    {
      "attachments": {},
      "cell_type": "markdown",
      "metadata": {},
      "source": [
        "Now, you can train and track models using only custom logging. \n",
        "\n",
        "When you run the following cell, you'll only log one parameter and one metric."
      ]
    },
    {
      "cell_type": "code",
      "execution_count": 13,
      "metadata": {
        "jupyter": {
          "outputs_hidden": false,
          "source_hidden": false
        },
        "nteract": {
          "transient": {
            "deleting": false
          }
        }
      },
      "outputs": [
        {
          "name": "stdout",
          "output_type": "stream",
          "text": [
            "🏃 View run olden_turtle_86hjzw7t at: https://canadaeast.api.azureml.ms/mlflow/v2.0/subscriptions/d9965121-bf98-41dd-bbad-a55f0233b417/resourceGroups/rg-dp100-labs-01-10-0712/providers/Microsoft.MachineLearningServices/workspaces/mlw-dp100-labs/#/experiments/bbf6739b-1c9c-44ea-86e1-c9b6b9aaea50/runs/b9a3081e-de22-4d48-a830-a1cc95674f77\n",
            "🧪 View experiment at: https://canadaeast.api.azureml.ms/mlflow/v2.0/subscriptions/d9965121-bf98-41dd-bbad-a55f0233b417/resourceGroups/rg-dp100-labs-01-10-0712/providers/Microsoft.MachineLearningServices/workspaces/mlw-dp100-labs/#/experiments/bbf6739b-1c9c-44ea-86e1-c9b6b9aaea50\n"
          ]
        }
      ],
      "source": [
        "from sklearn.linear_model import LogisticRegression\n",
        "import numpy as np\n",
        "\n",
        "with mlflow.start_run():\n",
        "    model = LogisticRegression(C=1/0.1, solver=\"liblinear\").fit(X_train, y_train)\n",
        "\n",
        "    y_hat = model.predict(X_test)\n",
        "    acc = np.average(y_hat == y_test)\n",
        "\n",
        "    mlflow.log_param(\"regularization_rate\", 0.1)\n",
        "    mlflow.log_metric(\"Accuracy\", acc)"
      ]
    },
    {
      "attachments": {},
      "cell_type": "markdown",
      "metadata": {},
      "source": [
        "The reason why you'd want to track models, could be to compare the results of models you train with different hyperparameter values. \n",
        "\n",
        "For example, you just trained a logistic regression model with a regularization rate of 0.1. Now, train another model, but this time with a regularization rate of 0.01. Since you're also tracking the accuracy, you can compare and decide which rate results in a better performing model."
      ]
    },
    {
      "cell_type": "code",
      "execution_count": 14,
      "metadata": {
        "gather": {
          "logged": 1668177593117
        },
        "jupyter": {
          "outputs_hidden": false,
          "source_hidden": false
        },
        "nteract": {
          "transient": {
            "deleting": false
          }
        }
      },
      "outputs": [
        {
          "name": "stdout",
          "output_type": "stream",
          "text": [
            "🏃 View run teal_goat_8sv623jk at: https://canadaeast.api.azureml.ms/mlflow/v2.0/subscriptions/d9965121-bf98-41dd-bbad-a55f0233b417/resourceGroups/rg-dp100-labs-01-10-0712/providers/Microsoft.MachineLearningServices/workspaces/mlw-dp100-labs/#/experiments/bbf6739b-1c9c-44ea-86e1-c9b6b9aaea50/runs/2ebbfd28-4c0e-4ddd-90fd-6aa72e598544\n",
            "🧪 View experiment at: https://canadaeast.api.azureml.ms/mlflow/v2.0/subscriptions/d9965121-bf98-41dd-bbad-a55f0233b417/resourceGroups/rg-dp100-labs-01-10-0712/providers/Microsoft.MachineLearningServices/workspaces/mlw-dp100-labs/#/experiments/bbf6739b-1c9c-44ea-86e1-c9b6b9aaea50\n"
          ]
        }
      ],
      "source": [
        "from sklearn.linear_model import LogisticRegression\n",
        "import numpy as np\n",
        "\n",
        "with mlflow.start_run():\n",
        "    model = LogisticRegression(C=1/0.01, solver=\"liblinear\").fit(X_train, y_train)\n",
        "\n",
        "    y_hat = model.predict(X_test)\n",
        "    acc = np.average(y_hat == y_test)\n",
        "\n",
        "    mlflow.log_param(\"regularization_rate\", 0.01)\n",
        "    mlflow.log_metric(\"Accuracy\", acc)"
      ]
    },
    {
      "attachments": {},
      "cell_type": "markdown",
      "metadata": {},
      "source": [
        "Another reason to track your model's results is when you're testing another estimator. All models you've trained so far used the logistic regression estimator. \n",
        "\n",
        "Run the following cell to train a model with the decision tree classifier estimator and review whether the accuracy is higher compared to the other runs."
      ]
    },
    {
      "cell_type": "code",
      "execution_count": 15,
      "metadata": {
        "gather": {
          "logged": 1668177807904
        },
        "jupyter": {
          "outputs_hidden": false,
          "source_hidden": false
        },
        "nteract": {
          "transient": {
            "deleting": false
          }
        }
      },
      "outputs": [
        {
          "name": "stdout",
          "output_type": "stream",
          "text": [
            "🏃 View run ashy_spade_6k08tfp1 at: https://canadaeast.api.azureml.ms/mlflow/v2.0/subscriptions/d9965121-bf98-41dd-bbad-a55f0233b417/resourceGroups/rg-dp100-labs-01-10-0712/providers/Microsoft.MachineLearningServices/workspaces/mlw-dp100-labs/#/experiments/bbf6739b-1c9c-44ea-86e1-c9b6b9aaea50/runs/60843dfe-bf4e-498e-a00c-f1ac735dec17\n",
            "🧪 View experiment at: https://canadaeast.api.azureml.ms/mlflow/v2.0/subscriptions/d9965121-bf98-41dd-bbad-a55f0233b417/resourceGroups/rg-dp100-labs-01-10-0712/providers/Microsoft.MachineLearningServices/workspaces/mlw-dp100-labs/#/experiments/bbf6739b-1c9c-44ea-86e1-c9b6b9aaea50\n"
          ]
        }
      ],
      "source": [
        "from sklearn.tree import DecisionTreeClassifier\n",
        "import numpy as np\n",
        "\n",
        "with mlflow.start_run():\n",
        "    model = DecisionTreeClassifier().fit(X_train, y_train)\n",
        "\n",
        "    y_hat = model.predict(X_test)\n",
        "    acc = np.average(y_hat == y_test)\n",
        "\n",
        "    mlflow.log_param(\"estimator\", \"DecisionTreeClassifier\")\n",
        "    mlflow.log_metric(\"Accuracy\", acc)"
      ]
    },
    {
      "attachments": {},
      "cell_type": "markdown",
      "metadata": {},
      "source": [
        "Finally, let's try to log an artifact. An artifact can be any file. For example, you can plot the ROC curve and store the plot as an image. The image can be logged as an artifact. \n",
        "\n",
        "Run the following cell to log a parameter, metric, and an artifact."
      ]
    },
    {
      "cell_type": "code",
      "execution_count": 16,
      "metadata": {},
      "outputs": [
        {
          "name": "stderr",
          "output_type": "stream",
          "text": [
            "Matplotlib is building the font cache; this may take a moment.\n"
          ]
        },
        {
          "name": "stdout",
          "output_type": "stream",
          "text": [
            "🏃 View run amiable_shelf_cymk6689 at: https://canadaeast.api.azureml.ms/mlflow/v2.0/subscriptions/d9965121-bf98-41dd-bbad-a55f0233b417/resourceGroups/rg-dp100-labs-01-10-0712/providers/Microsoft.MachineLearningServices/workspaces/mlw-dp100-labs/#/experiments/bbf6739b-1c9c-44ea-86e1-c9b6b9aaea50/runs/214692c5-6903-469e-84ae-c0c99747b897\n",
            "🧪 View experiment at: https://canadaeast.api.azureml.ms/mlflow/v2.0/subscriptions/d9965121-bf98-41dd-bbad-a55f0233b417/resourceGroups/rg-dp100-labs-01-10-0712/providers/Microsoft.MachineLearningServices/workspaces/mlw-dp100-labs/#/experiments/bbf6739b-1c9c-44ea-86e1-c9b6b9aaea50\n"
          ]
        },
        {
          "ename": "TypeError",
          "evalue": "azureml_artifacts_builder() got an unexpected keyword argument 'tracking_uri'",
          "output_type": "error",
          "traceback": [
            "\u001b[0;31m---------------------------------------------------------------------------\u001b[0m",
            "\u001b[0;31mTypeError\u001b[0m                                 Traceback (most recent call last)",
            "Cell \u001b[0;32mIn[16], line 28\u001b[0m\n\u001b[1;32m     26\u001b[0m mlflow\u001b[38;5;241m.\u001b[39mlog_param(\u001b[38;5;124m\"\u001b[39m\u001b[38;5;124mestimator\u001b[39m\u001b[38;5;124m\"\u001b[39m, \u001b[38;5;124m\"\u001b[39m\u001b[38;5;124mDecisionTreeClassifier\u001b[39m\u001b[38;5;124m\"\u001b[39m)\n\u001b[1;32m     27\u001b[0m mlflow\u001b[38;5;241m.\u001b[39mlog_metric(\u001b[38;5;124m\"\u001b[39m\u001b[38;5;124mAccuracy\u001b[39m\u001b[38;5;124m\"\u001b[39m, acc)\n\u001b[0;32m---> 28\u001b[0m \u001b[43mmlflow\u001b[49m\u001b[38;5;241;43m.\u001b[39;49m\u001b[43mlog_artifact\u001b[49m\u001b[43m(\u001b[49m\u001b[38;5;124;43m\"\u001b[39;49m\u001b[38;5;124;43mROC-Curve.png\u001b[39;49m\u001b[38;5;124;43m\"\u001b[39;49m\u001b[43m)\u001b[49m\n",
            "File \u001b[0;32m/anaconda/envs/azureml_py38/lib/python3.10/site-packages/mlflow/tracking/fluent.py:1429\u001b[0m, in \u001b[0;36mlog_artifact\u001b[0;34m(local_path, artifact_path, run_id)\u001b[0m\n\u001b[1;32m   1399\u001b[0m \u001b[38;5;250m\u001b[39m\u001b[38;5;124;03m\"\"\"\u001b[39;00m\n\u001b[1;32m   1400\u001b[0m \u001b[38;5;124;03mLog a local file or directory as an artifact of the currently active run. If no run is\u001b[39;00m\n\u001b[1;32m   1401\u001b[0m \u001b[38;5;124;03mactive, this method will create a new active run.\u001b[39;00m\n\u001b[0;32m   (...)\u001b[0m\n\u001b[1;32m   1426\u001b[0m \u001b[38;5;124;03m            mlflow.log_artifact(path)\u001b[39;00m\n\u001b[1;32m   1427\u001b[0m \u001b[38;5;124;03m\"\"\"\u001b[39;00m\n\u001b[1;32m   1428\u001b[0m run_id \u001b[38;5;241m=\u001b[39m run_id \u001b[38;5;129;01mor\u001b[39;00m _get_or_start_run()\u001b[38;5;241m.\u001b[39minfo\u001b[38;5;241m.\u001b[39mrun_id\n\u001b[0;32m-> 1429\u001b[0m \u001b[43mMlflowClient\u001b[49m\u001b[43m(\u001b[49m\u001b[43m)\u001b[49m\u001b[38;5;241;43m.\u001b[39;49m\u001b[43mlog_artifact\u001b[49m\u001b[43m(\u001b[49m\u001b[43mrun_id\u001b[49m\u001b[43m,\u001b[49m\u001b[43m \u001b[49m\u001b[43mlocal_path\u001b[49m\u001b[43m,\u001b[49m\u001b[43m \u001b[49m\u001b[43martifact_path\u001b[49m\u001b[43m)\u001b[49m\n",
            "File \u001b[0;32m/anaconda/envs/azureml_py38/lib/python3.10/site-packages/mlflow/tracking/client.py:2497\u001b[0m, in \u001b[0;36mMlflowClient.log_artifact\u001b[0;34m(self, run_id, local_path, artifact_path)\u001b[0m\n\u001b[1;32m   2493\u001b[0m \u001b[38;5;28;01mif\u001b[39;00m run_id\u001b[38;5;241m.\u001b[39mstartswith(TRACE_REQUEST_ID_PREFIX):\n\u001b[1;32m   2494\u001b[0m     \u001b[38;5;28;01mraise\u001b[39;00m MlflowException(\n\u001b[1;32m   2495\u001b[0m         \u001b[38;5;124mf\u001b[39m\u001b[38;5;124m\"\u001b[39m\u001b[38;5;124mInvalid run id: \u001b[39m\u001b[38;5;132;01m{\u001b[39;00mrun_id\u001b[38;5;132;01m}\u001b[39;00m\u001b[38;5;124m. `log_artifact` run id must map to a valid run.\u001b[39m\u001b[38;5;124m\"\u001b[39m\n\u001b[1;32m   2496\u001b[0m     )\n\u001b[0;32m-> 2497\u001b[0m \u001b[38;5;28;43mself\u001b[39;49m\u001b[38;5;241;43m.\u001b[39;49m\u001b[43m_tracking_client\u001b[49m\u001b[38;5;241;43m.\u001b[39;49m\u001b[43mlog_artifact\u001b[49m\u001b[43m(\u001b[49m\u001b[43mrun_id\u001b[49m\u001b[43m,\u001b[49m\u001b[43m \u001b[49m\u001b[43mlocal_path\u001b[49m\u001b[43m,\u001b[49m\u001b[43m \u001b[49m\u001b[43martifact_path\u001b[49m\u001b[43m)\u001b[49m\n",
            "File \u001b[0;32m/anaconda/envs/azureml_py38/lib/python3.10/site-packages/mlflow/tracking/_tracking_service/client.py:666\u001b[0m, in \u001b[0;36mTrackingServiceClient.log_artifact\u001b[0;34m(self, run_id, local_path, artifact_path)\u001b[0m\n\u001b[1;32m    657\u001b[0m \u001b[38;5;28;01mdef\u001b[39;00m\u001b[38;5;250m \u001b[39m\u001b[38;5;21mlog_artifact\u001b[39m(\u001b[38;5;28mself\u001b[39m, run_id, local_path, artifact_path\u001b[38;5;241m=\u001b[39m\u001b[38;5;28;01mNone\u001b[39;00m):\n\u001b[1;32m    658\u001b[0m \u001b[38;5;250m    \u001b[39m\u001b[38;5;124;03m\"\"\"\u001b[39;00m\n\u001b[1;32m    659\u001b[0m \u001b[38;5;124;03m    Write a local file or directory to the remote ``artifact_uri``.\u001b[39;00m\n\u001b[1;32m    660\u001b[0m \n\u001b[0;32m   (...)\u001b[0m\n\u001b[1;32m    664\u001b[0m \u001b[38;5;124;03m        artifact_path: If provided, the directory in ``artifact_uri`` to write to.\u001b[39;00m\n\u001b[1;32m    665\u001b[0m \u001b[38;5;124;03m    \"\"\"\u001b[39;00m\n\u001b[0;32m--> 666\u001b[0m     artifact_repo \u001b[38;5;241m=\u001b[39m \u001b[38;5;28;43mself\u001b[39;49m\u001b[38;5;241;43m.\u001b[39;49m\u001b[43m_get_artifact_repo\u001b[49m\u001b[43m(\u001b[49m\u001b[43mrun_id\u001b[49m\u001b[43m)\u001b[49m\n\u001b[1;32m    667\u001b[0m     \u001b[38;5;28;01mif\u001b[39;00m os\u001b[38;5;241m.\u001b[39mpath\u001b[38;5;241m.\u001b[39misdir(local_path):\n\u001b[1;32m    668\u001b[0m         dir_name \u001b[38;5;241m=\u001b[39m os\u001b[38;5;241m.\u001b[39mpath\u001b[38;5;241m.\u001b[39mbasename(os\u001b[38;5;241m.\u001b[39mpath\u001b[38;5;241m.\u001b[39mnormpath(local_path))\n",
            "File \u001b[0;32m/anaconda/envs/azureml_py38/lib/python3.10/site-packages/mlflow/tracking/_tracking_service/client.py:649\u001b[0m, in \u001b[0;36mTrackingServiceClient._get_artifact_repo\u001b[0;34m(self, resource_id, resource)\u001b[0m\n\u001b[1;32m    644\u001b[0m     \u001b[38;5;28;01mraise\u001b[39;00m \u001b[38;5;167;01mValueError\u001b[39;00m(\u001b[38;5;124mf\u001b[39m\u001b[38;5;124m\"\u001b[39m\u001b[38;5;124mUnexpected resource type \u001b[39m\u001b[38;5;132;01m{\u001b[39;00mresource\u001b[38;5;132;01m!r}\u001b[39;00m\u001b[38;5;124m.\u001b[39m\u001b[38;5;124m\"\u001b[39m)\n\u001b[1;32m    646\u001b[0m artifact_uri \u001b[38;5;241m=\u001b[39m add_databricks_profile_info_to_artifact_uri(\n\u001b[1;32m    647\u001b[0m     artifact_location, \u001b[38;5;28mself\u001b[39m\u001b[38;5;241m.\u001b[39mtracking_uri\n\u001b[1;32m    648\u001b[0m )\n\u001b[0;32m--> 649\u001b[0m artifact_repo \u001b[38;5;241m=\u001b[39m \u001b[43mget_artifact_repository\u001b[49m\u001b[43m(\u001b[49m\u001b[43martifact_uri\u001b[49m\u001b[43m)\u001b[49m\n\u001b[1;32m    650\u001b[0m \u001b[38;5;66;03m# Cache the artifact repo to avoid a future network call, removing the oldest\u001b[39;00m\n\u001b[1;32m    651\u001b[0m \u001b[38;5;66;03m# entry in the cache if there are too many elements\u001b[39;00m\n\u001b[1;32m    652\u001b[0m \u001b[38;5;28;01mif\u001b[39;00m \u001b[38;5;28mlen\u001b[39m(utils\u001b[38;5;241m.\u001b[39m_artifact_repos_cache) \u001b[38;5;241m>\u001b[39m \u001b[38;5;241m1024\u001b[39m:\n",
            "File \u001b[0;32m/anaconda/envs/azureml_py38/lib/python3.10/site-packages/mlflow/store/artifact/artifact_repository_registry.py:143\u001b[0m, in \u001b[0;36mget_artifact_repository\u001b[0;34m(artifact_uri, tracking_uri)\u001b[0m\n\u001b[1;32m    126\u001b[0m \u001b[38;5;28;01mdef\u001b[39;00m\u001b[38;5;250m \u001b[39m\u001b[38;5;21mget_artifact_repository\u001b[39m(\n\u001b[1;32m    127\u001b[0m     artifact_uri: \u001b[38;5;28mstr\u001b[39m, tracking_uri: \u001b[38;5;28mstr\u001b[39m \u001b[38;5;241m|\u001b[39m \u001b[38;5;28;01mNone\u001b[39;00m \u001b[38;5;241m=\u001b[39m \u001b[38;5;28;01mNone\u001b[39;00m\n\u001b[1;32m    128\u001b[0m ) \u001b[38;5;241m-\u001b[39m\u001b[38;5;241m>\u001b[39m ArtifactRepository:\n\u001b[1;32m    129\u001b[0m \u001b[38;5;250m    \u001b[39m\u001b[38;5;124;03m\"\"\"\u001b[39;00m\n\u001b[1;32m    130\u001b[0m \u001b[38;5;124;03m    Get an artifact repository from the registry based on the scheme of artifact_uri\u001b[39;00m\n\u001b[1;32m    131\u001b[0m \n\u001b[0;32m   (...)\u001b[0m\n\u001b[1;32m    141\u001b[0m \u001b[38;5;124;03m        requirements.\u001b[39;00m\n\u001b[1;32m    142\u001b[0m \u001b[38;5;124;03m    \"\"\"\u001b[39;00m\n\u001b[0;32m--> 143\u001b[0m     \u001b[38;5;28;01mreturn\u001b[39;00m \u001b[43m_artifact_repository_registry\u001b[49m\u001b[38;5;241;43m.\u001b[39;49m\u001b[43mget_artifact_repository\u001b[49m\u001b[43m(\u001b[49m\u001b[43martifact_uri\u001b[49m\u001b[43m,\u001b[49m\u001b[43m \u001b[49m\u001b[43mtracking_uri\u001b[49m\u001b[43m)\u001b[49m\n",
            "File \u001b[0;32m/anaconda/envs/azureml_py38/lib/python3.10/site-packages/mlflow/store/artifact/artifact_repository_registry.py:81\u001b[0m, in \u001b[0;36mArtifactRepositoryRegistry.get_artifact_repository\u001b[0;34m(self, artifact_uri, tracking_uri)\u001b[0m\n\u001b[1;32m     76\u001b[0m \u001b[38;5;28;01mif\u001b[39;00m repository \u001b[38;5;129;01mis\u001b[39;00m \u001b[38;5;28;01mNone\u001b[39;00m:\n\u001b[1;32m     77\u001b[0m     \u001b[38;5;28;01mraise\u001b[39;00m MlflowException(\n\u001b[1;32m     78\u001b[0m         \u001b[38;5;124mf\u001b[39m\u001b[38;5;124m\"\u001b[39m\u001b[38;5;124mCould not find a registered artifact repository for: \u001b[39m\u001b[38;5;132;01m{\u001b[39;00martifact_uri\u001b[38;5;132;01m}\u001b[39;00m\u001b[38;5;124m. \u001b[39m\u001b[38;5;124m\"\u001b[39m\n\u001b[1;32m     79\u001b[0m         \u001b[38;5;124mf\u001b[39m\u001b[38;5;124m\"\u001b[39m\u001b[38;5;124mCurrently registered schemes are: \u001b[39m\u001b[38;5;132;01m{\u001b[39;00m\u001b[38;5;28mlist\u001b[39m(\u001b[38;5;28mself\u001b[39m\u001b[38;5;241m.\u001b[39m_registry\u001b[38;5;241m.\u001b[39mkeys())\u001b[38;5;132;01m}\u001b[39;00m\u001b[38;5;124m\"\u001b[39m\n\u001b[1;32m     80\u001b[0m     )\n\u001b[0;32m---> 81\u001b[0m \u001b[38;5;28;01mreturn\u001b[39;00m \u001b[43mrepository\u001b[49m\u001b[43m(\u001b[49m\u001b[43martifact_uri\u001b[49m\u001b[43m,\u001b[49m\u001b[43m \u001b[49m\u001b[43mtracking_uri\u001b[49m\u001b[38;5;241;43m=\u001b[39;49m\u001b[43mtracking_uri\u001b[49m\u001b[43m)\u001b[49m\n",
            "\u001b[0;31mTypeError\u001b[0m: azureml_artifacts_builder() got an unexpected keyword argument 'tracking_uri'"
          ]
        },
        {
          "data": {
            "image/png": "[encoded data removed]",
            "text/plain": [
              "<Figure size 600x400 with 1 Axes>"
            ]
          },
          "metadata": {},
          "output_type": "display_data"
        }
      ],
      "source": [
        "from sklearn.tree import DecisionTreeClassifier\n",
        "from sklearn.metrics import roc_curve\n",
        "import matplotlib.pyplot as plt\n",
        "import numpy as np\n",
        "\n",
        "with mlflow.start_run():\n",
        "    model = DecisionTreeClassifier().fit(X_train, y_train)\n",
        "\n",
        "    y_hat = model.predict(X_test)\n",
        "    acc = np.average(y_hat == y_test)\n",
        "\n",
        "    # plot ROC curve\n",
        "    y_scores = model.predict_proba(X_test)\n",
        "\n",
        "    fpr, tpr, thresholds = roc_curve(y_test, y_scores[:,1])\n",
        "    fig = plt.figure(figsize=(6, 4))\n",
        "    # Plot the diagonal 50% line\n",
        "    plt.plot([0, 1], [0, 1], 'k--')\n",
        "    # Plot the FPR and TPR achieved by our model\n",
        "    plt.plot(fpr, tpr)\n",
        "    plt.xlabel('False Positive Rate')\n",
        "    plt.ylabel('True Positive Rate')\n",
        "    plt.title('ROC Curve')\n",
        "    plt.savefig(\"ROC-Curve.png\")\n",
        "\n",
        "    mlflow.log_param(\"estimator\", \"DecisionTreeClassifier\")\n",
        "    mlflow.log_metric(\"Accuracy\", acc)\n",
        "    mlflow.log_artifact(\"ROC-Curve.png\")"
      ]
    },
    {
      "attachments": {},
      "cell_type": "markdown",
      "metadata": {},
      "source": [
        "Review the model's results on the Jobs page of the Azure Machine Learning studio. \n",
        "\n",
        "- You'll find the parameters under **Params** in the **Overview** tab.\n",
        "- You'll find the metrics under **Metrics** in the **Overview** tab, and in the **Metrics** tab.\n",
        "- You'll find the artifacts in the **Outputs + logs** tab.\n",
        "\n",
        "![Screenshot of outputs and logs tab on the Jobs page.](./images/output-logs.png)"
      ]
    }
  ],
  "metadata": {
    "interpreter": {
      "hash": "f2b2cd046deda8eabef1e765a11d0ec9aa9bd1d31d56ce79c815a38c323e14ec"
    },
    "kernel_info": {
      "name": "python38-azureml"
    },
    "kernelspec": {
      "display_name": "Python 3.10 - AzureML",
      "language": "python",
      "name": "python38-azureml"
    },
    "language_info": {
      "codemirror_mode": {
        "name": "ipython",
        "version": 3
      },
      "file_extension": ".py",
      "mimetype": "text/x-python",
      "name": "python",
      "nbconvert_exporter": "python",
      "pygments_lexer": "ipython3",
      "version": "3.10.11"
    },
    "microsoft": {
      "host": {
        "AzureML": {
          "notebookHasBeenCompleted": true
        }
      }
    },
    "nteract": {
      "version": "nteract-front-end@1.0.0"
    }
  },
  "nbformat": 4,
  "nbformat_minor": 0
}
