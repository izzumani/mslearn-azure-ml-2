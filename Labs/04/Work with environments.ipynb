{
  "cells": [
    {
      "attachments": {},
      "cell_type": "markdown",
      "metadata": {
        "nteract": {
          "transient": {
            "deleting": false
          }
        }
      },
      "source": [
        "# Work with environments\n",
        "\n",
        "\n",
        "When you run a script as an Azure Machine Learning job, you need to define the execution context for the job run. One key configuration is the compute target on which the script will be run. This could be the local workstation (in this case the compute instance), or a remote compute target such as the Azure Machine Learning managed compute cluster that is provisioned on-demand.\n",
        "\n",
        "In this notebook, you'll create a compute cluster and explore compute targets for jobs.\n",
        "\n",
        "## Before you start\n",
        "\n",
        "You'll need the latest version of the  **azure-ai-ml** package to run the code in this notebook. Run the cell below to verify that it is installed.\n",
        "\n",
        "> **Note**:\n",
        "> If the **azure-ai-ml** package is not installed, run `pip install azure-ai-ml` to install it."
      ]
    },
    {
      "cell_type": "code",
      "execution_count": 1,
      "metadata": {},
      "outputs": [
        {
          "name": "stdout",
          "output_type": "stream",
          "text": [
            "Requirement already satisfied: azure-identity in /anaconda/envs/azureml_py38/lib/python3.10/site-packages (1.21.0)\n",
            "Requirement already satisfied: azureml-core in /anaconda/envs/azureml_py38/lib/python3.10/site-packages (1.60.0)\n",
            "Requirement already satisfied: azureml-widgets in /anaconda/envs/azureml_py38/lib/python3.10/site-packages (1.60.0)\n",
            "Requirement already satisfied: azure-ai-ml in /anaconda/envs/azureml_py38/lib/python3.10/site-packages (1.29.0)\n",
            "Requirement already satisfied: mltable in /anaconda/envs/azureml_py38/lib/python3.10/site-packages (1.6.3)\n",
            "Requirement already satisfied: typing-extensions>=4.0.0 in /anaconda/envs/azureml_py38/lib/python3.10/site-packages (from azure-identity) (4.14.1)\n",
            "Requirement already satisfied: msal>=1.30.0 in /anaconda/envs/azureml_py38/lib/python3.10/site-packages (from azure-identity) (1.33.0b1)\n",
            "Requirement already satisfied: azure-core>=1.31.0 in /anaconda/envs/azureml_py38/lib/python3.10/site-packages (from azure-identity) (1.33.0)\n",
            "Requirement already satisfied: msal-extensions>=1.2.0 in /anaconda/envs/azureml_py38/lib/python3.10/site-packages (from azure-identity) (1.2.0)\n",
            "Requirement already satisfied: cryptography>=2.5 in /anaconda/envs/azureml_py38/lib/python3.10/site-packages (from azure-identity) (38.0.4)\n",
            "Requirement already satisfied: azure-mgmt-network<=29.0.0 in /anaconda/envs/azureml_py38/lib/python3.10/site-packages (from azureml-core) (26.0.0)\n",
            "Requirement already satisfied: requests[socks]<3.0.0,>=2.19.1 in /anaconda/envs/azureml_py38/lib/python3.10/site-packages (from azureml-core) (2.32.4)\n",
            "Requirement already satisfied: packaging<=25.0,>=20.0 in /anaconda/envs/azureml_py38/lib/python3.10/site-packages (from azureml-core) (25.0)\n",
            "Requirement already satisfied: pytz in /anaconda/envs/azureml_py38/lib/python3.10/site-packages (from azureml-core) (2022.5)\n",
            "Requirement already satisfied: adal<=1.2.7,>=1.2.0 in /anaconda/envs/azureml_py38/lib/python3.10/site-packages (from azureml-core) (1.2.7)\n",
            "Requirement already satisfied: paramiko<4.0.0,>=2.0.8 in /anaconda/envs/azureml_py38/lib/python3.10/site-packages (from azureml-core) (3.5.1)\n",
            "Requirement already satisfied: backports.tempfile in /anaconda/envs/azureml_py38/lib/python3.10/site-packages (from azureml-core) (1.0)\n",
            "Requirement already satisfied: jsonpickle<5.0.0 in /anaconda/envs/azureml_py38/lib/python3.10/site-packages (from azureml-core) (4.0.5)\n",
            "Requirement already satisfied: pkginfo in /anaconda/envs/azureml_py38/lib/python3.10/site-packages (from azureml-core) (1.12.1.2)\n",
            "Requirement already satisfied: azure-mgmt-resource<=24.0.0,>=15.0.0 in /anaconda/envs/azureml_py38/lib/python3.10/site-packages (from azureml-core) (23.3.0)\n",
            "Requirement already satisfied: azure-mgmt-authorization<5,>=0.40.0 in /anaconda/envs/azureml_py38/lib/python3.10/site-packages (from azureml-core) (4.0.0)\n",
            "Requirement already satisfied: azure-mgmt-containerregistry<11,>=8.2.0 in /anaconda/envs/azureml_py38/lib/python3.10/site-packages (from azureml-core) (9.0.0)\n",
            "Requirement already satisfied: pyopenssl<26.0.0 in /anaconda/envs/azureml_py38/lib/python3.10/site-packages (from azureml-core) (23.0.0)\n",
            "Requirement already satisfied: contextlib2<22.0.0 in /anaconda/envs/azureml_py38/lib/python3.10/site-packages (from azureml-core) (21.6.0)\n",
            "Requirement already satisfied: msrestazure<=0.7,>=0.4.33 in /anaconda/envs/azureml_py38/lib/python3.10/site-packages (from azureml-core) (0.6.4.post1)\n",
            "Requirement already satisfied: msrest<=0.7.1,>=0.5.1 in /anaconda/envs/azureml_py38/lib/python3.10/site-packages (from azureml-core) (0.7.1)\n",
            "Requirement already satisfied: azure-common<2.0.0,>=1.1.12 in /anaconda/envs/azureml_py38/lib/python3.10/site-packages (from azureml-core) (1.1.28)\n",
            "Requirement already satisfied: ndg-httpsclient<=0.5.1 in /anaconda/envs/azureml_py38/lib/python3.10/site-packages (from azureml-core) (0.5.1)\n",
            "Requirement already satisfied: urllib3<3.0.0,>1.26.17 in /anaconda/envs/azureml_py38/lib/python3.10/site-packages (from azureml-core) (2.5.0)\n",
            "Requirement already satisfied: knack<0.13.0 in /anaconda/envs/azureml_py38/lib/python3.10/site-packages (from azureml-core) (0.11.0)\n",
            "Requirement already satisfied: SecretStorage<4.0.0 in /anaconda/envs/azureml_py38/lib/python3.10/site-packages (from azureml-core) (3.3.3)\n",
            "Requirement already satisfied: jmespath<2.0.0 in /anaconda/envs/azureml_py38/lib/python3.10/site-packages (from azureml-core) (0.10.0)\n",
            "Requirement already satisfied: azure-mgmt-keyvault<11.0.0,>=0.40.0 in /anaconda/envs/azureml_py38/lib/python3.10/site-packages (from azureml-core) (10.3.1)\n",
            "Requirement already satisfied: python-dateutil<3.0.0,>=2.7.3 in /anaconda/envs/azureml_py38/lib/python3.10/site-packages (from azureml-core) (2.9.0.post0)\n",
            "Requirement already satisfied: argcomplete<4 in /anaconda/envs/azureml_py38/lib/python3.10/site-packages (from azureml-core) (3.5.3)\n",
            "Requirement already satisfied: PyJWT<3.0.0 in /anaconda/envs/azureml_py38/lib/python3.10/site-packages (from azureml-core) (2.4.0)\n",
            "Requirement already satisfied: docker<8.0.0 in /anaconda/envs/azureml_py38/lib/python3.10/site-packages (from azureml-core) (7.1.0)\n",
            "Requirement already satisfied: azure-graphrbac<1.0.0,>=0.40.0 in /anaconda/envs/azureml_py38/lib/python3.10/site-packages (from azureml-core) (0.60.0)\n",
            "Requirement already satisfied: humanfriendly<11.0,>=4.7 in /anaconda/envs/azureml_py38/lib/python3.10/site-packages (from azureml-core) (10.0)\n",
            "Requirement already satisfied: pathspec<1.0.0 in /anaconda/envs/azureml_py38/lib/python3.10/site-packages (from azureml-core) (0.12.1)\n",
            "Requirement already satisfied: azure-mgmt-storage<=23.0.0,>=16.0.0 in /anaconda/envs/azureml_py38/lib/python3.10/site-packages (from azureml-core) (22.0.0)\n",
            "Requirement already satisfied: ipywidgets<8.0.0,>=7.0.0 in /anaconda/envs/azureml_py38/lib/python3.10/site-packages (from azureml-widgets) (7.0.0)\n",
            "Requirement already satisfied: azureml-telemetry~=1.60.0 in /anaconda/envs/azureml_py38/lib/python3.10/site-packages (from azureml-widgets) (1.60.0)\n",
            "Requirement already satisfied: azure-storage-blob>=12.6.0 in /anaconda/envs/azureml_py38/lib/python3.10/site-packages (from azureml-widgets) (12.26.0)\n",
            "Requirement already satisfied: jinja2<4.0 in /anaconda/envs/azureml_py38/lib/python3.10/site-packages (from azureml-widgets) (3.1.6)\n",
            "Requirement already satisfied: marshmallow<4.0.0,>=3.5 in /anaconda/envs/azureml_py38/lib/python3.10/site-packages (from azure-ai-ml) (3.26.1)\n",
            "Requirement already satisfied: tqdm<5.0.0 in /anaconda/envs/azureml_py38/lib/python3.10/site-packages (from azure-ai-ml) (4.67.1)\n",
            "Requirement already satisfied: jsonschema<5.0.0,>=4.0.0 in /anaconda/envs/azureml_py38/lib/python3.10/site-packages (from azure-ai-ml) (4.24.0)\n",
            "Requirement already satisfied: azure-monitor-opentelemetry in /anaconda/envs/azureml_py38/lib/python3.10/site-packages (from azure-ai-ml) (1.8.1)\n",
            "Requirement already satisfied: strictyaml<2.0.0 in /anaconda/envs/azureml_py38/lib/python3.10/site-packages (from azure-ai-ml) (1.7.3)\n",
            "Requirement already satisfied: azure-storage-file-share in /anaconda/envs/azureml_py38/lib/python3.10/site-packages (from azure-ai-ml) (12.22.0)\n",
            "Requirement already satisfied: colorama<1.0.0 in /anaconda/envs/azureml_py38/lib/python3.10/site-packages (from azure-ai-ml) (0.4.6)\n",
            "Requirement already satisfied: azure-storage-file-datalake>=12.2.0 in /anaconda/envs/azureml_py38/lib/python3.10/site-packages (from azure-ai-ml) (12.21.0)\n",
            "Requirement already satisfied: isodate<1.0.0 in /anaconda/envs/azureml_py38/lib/python3.10/site-packages (from azure-ai-ml) (0.7.2)\n",
            "Requirement already satisfied: azure-mgmt-core>=1.3.0 in /anaconda/envs/azureml_py38/lib/python3.10/site-packages (from azure-ai-ml) (1.5.0)\n",
            "Requirement already satisfied: pydash<9.0.0,>=6.0.0 in /anaconda/envs/azureml_py38/lib/python3.10/site-packages (from azure-ai-ml) (8.0.5)\n",
            "Requirement already satisfied: pyyaml<7.0.0,>=5.1.0 in /anaconda/envs/azureml_py38/lib/python3.10/site-packages (from azure-ai-ml) (6.0.2)\n",
            "Requirement already satisfied: azureml-dataprep[parquet]<5.5.0a,>=5.1.0a in /anaconda/envs/azureml_py38/lib/python3.10/site-packages (from mltable) (5.1.6)\n",
            "Requirement already satisfied: six>=1.11.0 in /anaconda/envs/azureml_py38/lib/python3.10/site-packages (from azure-core>=1.31.0->azure-identity) (1.17.0)\n",
            "Requirement already satisfied: cloudpickle<3.0.0,>=1.1.0 in /anaconda/envs/azureml_py38/lib/python3.10/site-packages (from azureml-dataprep[parquet]<5.5.0a,>=5.1.0a->mltable) (2.2.1)\n",
            "Requirement already satisfied: azureml-dataprep-native<42.0.0,>=41.0.0 in /anaconda/envs/azureml_py38/lib/python3.10/site-packages (from azureml-dataprep[parquet]<5.5.0a,>=5.1.0a->mltable) (41.0.0)\n",
            "Requirement already satisfied: azureml-dataprep-rslex~=2.22.2dev0 in /anaconda/envs/azureml_py38/lib/python3.10/site-packages (from azureml-dataprep[parquet]<5.5.0a,>=5.1.0a->mltable) (2.22.5)\n",
            "Requirement already satisfied: pyarrow>=0.17.0 in /anaconda/envs/azureml_py38/lib/python3.10/site-packages (from azureml-dataprep[parquet]<5.5.0a,>=5.1.0a->mltable) (14.0.2)\n",
            "Requirement already satisfied: applicationinsights in /anaconda/envs/azureml_py38/lib/python3.10/site-packages (from azureml-telemetry~=1.60.0->azureml-widgets) (0.11.10)\n",
            "Requirement already satisfied: cffi>=1.12 in /anaconda/envs/azureml_py38/lib/python3.10/site-packages (from cryptography>=2.5->azure-identity) (1.17.1)\n",
            "Requirement already satisfied: ipython>=4.0.0 in /anaconda/envs/azureml_py38/lib/python3.10/site-packages (from ipywidgets<8.0.0,>=7.0.0->azureml-widgets) (8.37.0)\n",
            "Requirement already satisfied: widgetsnbextension~=3.0.0 in /anaconda/envs/azureml_py38/lib/python3.10/site-packages (from ipywidgets<8.0.0,>=7.0.0->azureml-widgets) (3.0.8)\n",
            "Requirement already satisfied: ipykernel>=4.5.1 in /anaconda/envs/azureml_py38/lib/python3.10/site-packages (from ipywidgets<8.0.0,>=7.0.0->azureml-widgets) (6.29.5)\n",
            "Requirement already satisfied: nbformat>=4.2.0 in /anaconda/envs/azureml_py38/lib/python3.10/site-packages (from ipywidgets<8.0.0,>=7.0.0->azureml-widgets) (5.10.4)\n",
            "Requirement already satisfied: traitlets>=4.3.1 in /anaconda/envs/azureml_py38/lib/python3.10/site-packages (from ipywidgets<8.0.0,>=7.0.0->azureml-widgets) (5.14.3)\n",
            "Requirement already satisfied: MarkupSafe>=2.0 in /anaconda/envs/azureml_py38/lib/python3.10/site-packages (from jinja2<4.0->azureml-widgets) (2.0.1)\n",
            "Requirement already satisfied: jsonschema-specifications>=2023.03.6 in /anaconda/envs/azureml_py38/lib/python3.10/site-packages (from jsonschema<5.0.0,>=4.0.0->azure-ai-ml) (2025.4.1)\n",
            "Requirement already satisfied: referencing>=0.28.4 in /anaconda/envs/azureml_py38/lib/python3.10/site-packages (from jsonschema<5.0.0,>=4.0.0->azure-ai-ml) (0.36.2)\n",
            "Requirement already satisfied: rpds-py>=0.7.1 in /anaconda/envs/azureml_py38/lib/python3.10/site-packages (from jsonschema<5.0.0,>=4.0.0->azure-ai-ml) (0.24.0)\n",
            "Requirement already satisfied: attrs>=22.2.0 in /anaconda/envs/azureml_py38/lib/python3.10/site-packages (from jsonschema<5.0.0,>=4.0.0->azure-ai-ml) (25.3.0)\n",
            "Requirement already satisfied: tabulate in /anaconda/envs/azureml_py38/lib/python3.10/site-packages (from knack<0.13.0->azureml-core) (0.9.0)\n",
            "Requirement already satisfied: pygments in /anaconda/envs/azureml_py38/lib/python3.10/site-packages (from knack<0.13.0->azureml-core) (2.19.2)\n",
            "Requirement already satisfied: portalocker<3,>=1.4 in /anaconda/envs/azureml_py38/lib/python3.10/site-packages (from msal-extensions>=1.2.0->azure-identity) (2.10.1)\n",
            "Requirement already satisfied: certifi>=2017.4.17 in /anaconda/envs/azureml_py38/lib/python3.10/site-packages (from msrest<=0.7.1,>=0.5.1->azureml-core) (2025.7.9)\n",
            "Requirement already satisfied: requests-oauthlib>=0.5.0 in /anaconda/envs/azureml_py38/lib/python3.10/site-packages (from msrest<=0.7.1,>=0.5.1->azureml-core) (2.0.0)\n",
            "Requirement already satisfied: pyasn1>=0.1.1 in /anaconda/envs/azureml_py38/lib/python3.10/site-packages (from ndg-httpsclient<=0.5.1->azureml-core) (0.6.1)\n",
            "Requirement already satisfied: pynacl>=1.5 in /anaconda/envs/azureml_py38/lib/python3.10/site-packages (from paramiko<4.0.0,>=2.0.8->azureml-core) (1.5.0)\n",
            "Requirement already satisfied: bcrypt>=3.2 in /anaconda/envs/azureml_py38/lib/python3.10/site-packages (from paramiko<4.0.0,>=2.0.8->azureml-core) (4.3.0)\n",
            "Requirement already satisfied: charset_normalizer<4,>=2 in /anaconda/envs/azureml_py38/lib/python3.10/site-packages (from requests[socks]<3.0.0,>=2.19.1->azureml-core) (3.4.2)\n",
            "Requirement already satisfied: idna<4,>=2.5 in /anaconda/envs/azureml_py38/lib/python3.10/site-packages (from requests[socks]<3.0.0,>=2.19.1->azureml-core) (3.10)\n",
            "Requirement already satisfied: PySocks!=1.5.7,>=1.5.6 in /anaconda/envs/azureml_py38/lib/python3.10/site-packages (from requests[socks]<3.0.0,>=2.19.1->azureml-core) (1.7.1)\n",
            "Requirement already satisfied: jeepney>=0.6 in /anaconda/envs/azureml_py38/lib/python3.10/site-packages (from SecretStorage<4.0.0->azureml-core) (0.9.0)\n",
            "Requirement already satisfied: opentelemetry-instrumentation-fastapi~=0.57b0 in /anaconda/envs/azureml_py38/lib/python3.10/site-packages (from azure-monitor-opentelemetry->azure-ai-ml) (0.58b0)\n",
            "Requirement already satisfied: opentelemetry-sdk~=1.36 in /anaconda/envs/azureml_py38/lib/python3.10/site-packages (from azure-monitor-opentelemetry->azure-ai-ml) (1.37.0)\n",
            "Requirement already satisfied: opentelemetry-instrumentation-requests~=0.57b0 in /anaconda/envs/azureml_py38/lib/python3.10/site-packages (from azure-monitor-opentelemetry->azure-ai-ml) (0.58b0)\n",
            "Requirement already satisfied: opentelemetry-instrumentation-urllib3~=0.57b0 in /anaconda/envs/azureml_py38/lib/python3.10/site-packages (from azure-monitor-opentelemetry->azure-ai-ml) (0.58b0)\n",
            "Requirement already satisfied: opentelemetry-instrumentation-psycopg2~=0.57b0 in /anaconda/envs/azureml_py38/lib/python3.10/site-packages (from azure-monitor-opentelemetry->azure-ai-ml) (0.58b0)\n",
            "Requirement already satisfied: opentelemetry-instrumentation-flask~=0.57b0 in /anaconda/envs/azureml_py38/lib/python3.10/site-packages (from azure-monitor-opentelemetry->azure-ai-ml) (0.58b0)\n",
            "Requirement already satisfied: opentelemetry-instrumentation-urllib~=0.57b0 in /anaconda/envs/azureml_py38/lib/python3.10/site-packages (from azure-monitor-opentelemetry->azure-ai-ml) (0.58b0)\n",
            "Requirement already satisfied: opentelemetry-resource-detector-azure~=0.1.5 in /anaconda/envs/azureml_py38/lib/python3.10/site-packages (from azure-monitor-opentelemetry->azure-ai-ml) (0.1.5)\n",
            "Requirement already satisfied: azure-monitor-opentelemetry-exporter~=1.0.0b41 in /anaconda/envs/azureml_py38/lib/python3.10/site-packages (from azure-monitor-opentelemetry->azure-ai-ml) (1.0.0b42)\n",
            "Requirement already satisfied: opentelemetry-instrumentation-django~=0.57b0 in /anaconda/envs/azureml_py38/lib/python3.10/site-packages (from azure-monitor-opentelemetry->azure-ai-ml) (0.58b0)\n",
            "Requirement already satisfied: azure-core-tracing-opentelemetry~=1.0.0b11 in /anaconda/envs/azureml_py38/lib/python3.10/site-packages (from azure-monitor-opentelemetry->azure-ai-ml) (1.0.0b12)\n",
            "Requirement already satisfied: backports.weakref in /anaconda/envs/azureml_py38/lib/python3.10/site-packages (from backports.tempfile->azureml-core) (1.0.post1)\n",
            "Requirement already satisfied: opentelemetry-api>=1.12.0 in /anaconda/envs/azureml_py38/lib/python3.10/site-packages (from azure-core-tracing-opentelemetry~=1.0.0b11->azure-monitor-opentelemetry->azure-ai-ml) (1.37.0)\n",
            "Requirement already satisfied: psutil<8,>=5.9 in /anaconda/envs/azureml_py38/lib/python3.10/site-packages (from azure-monitor-opentelemetry-exporter~=1.0.0b41->azure-monitor-opentelemetry->azure-ai-ml) (7.1.0)\n",
            "Requirement already satisfied: fixedint==0.1.6 in /anaconda/envs/azureml_py38/lib/python3.10/site-packages (from azure-monitor-opentelemetry-exporter~=1.0.0b41->azure-monitor-opentelemetry->azure-ai-ml) (0.1.6)\n",
            "Requirement already satisfied: pycparser in /anaconda/envs/azureml_py38/lib/python3.10/site-packages (from cffi>=1.12->cryptography>=2.5->azure-identity) (2.22)\n",
            "Requirement already satisfied: jupyter-client>=6.1.12 in /anaconda/envs/azureml_py38/lib/python3.10/site-packages (from ipykernel>=4.5.1->ipywidgets<8.0.0,>=7.0.0->azureml-widgets) (7.4.9)\n",
            "Requirement already satisfied: tornado>=6.1 in /anaconda/envs/azureml_py38/lib/python3.10/site-packages (from ipykernel>=4.5.1->ipywidgets<8.0.0,>=7.0.0->azureml-widgets) (6.5.1)\n",
            "Requirement already satisfied: matplotlib-inline>=0.1 in /anaconda/envs/azureml_py38/lib/python3.10/site-packages (from ipykernel>=4.5.1->ipywidgets<8.0.0,>=7.0.0->azureml-widgets) (0.1.7)\n",
            "Requirement already satisfied: jupyter-core!=5.0.*,>=4.12 in /anaconda/envs/azureml_py38/lib/python3.10/site-packages (from ipykernel>=4.5.1->ipywidgets<8.0.0,>=7.0.0->azureml-widgets) (5.7.2)\n",
            "Requirement already satisfied: nest-asyncio in /anaconda/envs/azureml_py38/lib/python3.10/site-packages (from ipykernel>=4.5.1->ipywidgets<8.0.0,>=7.0.0->azureml-widgets) (1.6.0)\n",
            "Requirement already satisfied: comm>=0.1.1 in /anaconda/envs/azureml_py38/lib/python3.10/site-packages (from ipykernel>=4.5.1->ipywidgets<8.0.0,>=7.0.0->azureml-widgets) (0.2.2)\n",
            "Requirement already satisfied: pyzmq>=24 in /anaconda/envs/azureml_py38/lib/python3.10/site-packages (from ipykernel>=4.5.1->ipywidgets<8.0.0,>=7.0.0->azureml-widgets) (27.0.0)\n",
            "Requirement already satisfied: debugpy>=1.6.5 in /anaconda/envs/azureml_py38/lib/python3.10/site-packages (from ipykernel>=4.5.1->ipywidgets<8.0.0,>=7.0.0->azureml-widgets) (1.8.14)\n",
            "Requirement already satisfied: pexpect>4.3 in /anaconda/envs/azureml_py38/lib/python3.10/site-packages (from ipython>=4.0.0->ipywidgets<8.0.0,>=7.0.0->azureml-widgets) (4.9.0)\n",
            "Requirement already satisfied: prompt_toolkit<3.1.0,>=3.0.41 in /anaconda/envs/azureml_py38/lib/python3.10/site-packages (from ipython>=4.0.0->ipywidgets<8.0.0,>=7.0.0->azureml-widgets) (3.0.50)\n",
            "Requirement already satisfied: decorator in /anaconda/envs/azureml_py38/lib/python3.10/site-packages (from ipython>=4.0.0->ipywidgets<8.0.0,>=7.0.0->azureml-widgets) (5.2.1)\n",
            "Requirement already satisfied: stack_data in /anaconda/envs/azureml_py38/lib/python3.10/site-packages (from ipython>=4.0.0->ipywidgets<8.0.0,>=7.0.0->azureml-widgets) (0.6.3)\n",
            "Requirement already satisfied: exceptiongroup in /anaconda/envs/azureml_py38/lib/python3.10/site-packages (from ipython>=4.0.0->ipywidgets<8.0.0,>=7.0.0->azureml-widgets) (1.3.0)\n",
            "Requirement already satisfied: jedi>=0.16 in /anaconda/envs/azureml_py38/lib/python3.10/site-packages (from ipython>=4.0.0->ipywidgets<8.0.0,>=7.0.0->azureml-widgets) (0.18.0)\n",
            "Requirement already satisfied: fastjsonschema>=2.15 in /anaconda/envs/azureml_py38/lib/python3.10/site-packages (from nbformat>=4.2.0->ipywidgets<8.0.0,>=7.0.0->azureml-widgets) (2.21.1)\n",
            "Requirement already satisfied: opentelemetry-instrumentation-wsgi==0.58b0 in /anaconda/envs/azureml_py38/lib/python3.10/site-packages (from opentelemetry-instrumentation-django~=0.57b0->azure-monitor-opentelemetry->azure-ai-ml) (0.58b0)\n",
            "Requirement already satisfied: opentelemetry-util-http==0.58b0 in /anaconda/envs/azureml_py38/lib/python3.10/site-packages (from opentelemetry-instrumentation-django~=0.57b0->azure-monitor-opentelemetry->azure-ai-ml) (0.58b0)\n",
            "Requirement already satisfied: opentelemetry-instrumentation==0.58b0 in /anaconda/envs/azureml_py38/lib/python3.10/site-packages (from opentelemetry-instrumentation-django~=0.57b0->azure-monitor-opentelemetry->azure-ai-ml) (0.58b0)\n",
            "Requirement already satisfied: opentelemetry-semantic-conventions==0.58b0 in /anaconda/envs/azureml_py38/lib/python3.10/site-packages (from opentelemetry-instrumentation-django~=0.57b0->azure-monitor-opentelemetry->azure-ai-ml) (0.58b0)\n",
            "Requirement already satisfied: wrapt<2.0.0,>=1.0.0 in /anaconda/envs/azureml_py38/lib/python3.10/site-packages (from opentelemetry-instrumentation==0.58b0->opentelemetry-instrumentation-django~=0.57b0->azure-monitor-opentelemetry->azure-ai-ml) (1.14.1)\n",
            "Requirement already satisfied: importlib-metadata<8.8.0,>=6.0 in /anaconda/envs/azureml_py38/lib/python3.10/site-packages (from opentelemetry-api>=1.12.0->azure-core-tracing-opentelemetry~=1.0.0b11->azure-monitor-opentelemetry->azure-ai-ml) (8.2.0)\n",
            "Requirement already satisfied: opentelemetry-instrumentation-asgi==0.58b0 in /anaconda/envs/azureml_py38/lib/python3.10/site-packages (from opentelemetry-instrumentation-fastapi~=0.57b0->azure-monitor-opentelemetry->azure-ai-ml) (0.58b0)\n",
            "Requirement already satisfied: asgiref~=3.0 in /anaconda/envs/azureml_py38/lib/python3.10/site-packages (from opentelemetry-instrumentation-asgi==0.58b0->opentelemetry-instrumentation-fastapi~=0.57b0->azure-monitor-opentelemetry->azure-ai-ml) (3.9.2)\n",
            "Requirement already satisfied: opentelemetry-instrumentation-dbapi==0.58b0 in /anaconda/envs/azureml_py38/lib/python3.10/site-packages (from opentelemetry-instrumentation-psycopg2~=0.57b0->azure-monitor-opentelemetry->azure-ai-ml) (0.58b0)\n",
            "Requirement already satisfied: numpy>=1.16.6 in /anaconda/envs/azureml_py38/lib/python3.10/site-packages (from pyarrow>=0.17.0->azureml-dataprep[parquet]<5.5.0a,>=5.1.0a->mltable) (1.23.5)\n",
            "Requirement already satisfied: oauthlib>=3.0.0 in /anaconda/envs/azureml_py38/lib/python3.10/site-packages (from requests-oauthlib>=0.5.0->msrest<=0.7.1,>=0.5.1->azureml-core) (3.2.2)\n",
            "Requirement already satisfied: notebook>=4.4.1 in /anaconda/envs/azureml_py38/lib/python3.10/site-packages (from widgetsnbextension~=3.0.0->ipywidgets<8.0.0,>=7.0.0->azureml-widgets) (6.5.7)\n",
            "Requirement already satisfied: parso<0.9.0,>=0.8.0 in /anaconda/envs/azureml_py38/lib/python3.10/site-packages (from jedi>=0.16->ipython>=4.0.0->ipywidgets<8.0.0,>=7.0.0->azureml-widgets) (0.8.4)\n",
            "Requirement already satisfied: entrypoints in /anaconda/envs/azureml_py38/lib/python3.10/site-packages (from jupyter-client>=6.1.12->ipykernel>=4.5.1->ipywidgets<8.0.0,>=7.0.0->azureml-widgets) (0.4)\n",
            "Requirement already satisfied: platformdirs>=2.5 in /anaconda/envs/azureml_py38/lib/python3.10/site-packages (from jupyter-core!=5.0.*,>=4.12->ipykernel>=4.5.1->ipywidgets<8.0.0,>=7.0.0->azureml-widgets) (4.3.8)\n",
            "Requirement already satisfied: argon2-cffi in /anaconda/envs/azureml_py38/lib/python3.10/site-packages (from notebook>=4.4.1->widgetsnbextension~=3.0.0->ipywidgets<8.0.0,>=7.0.0->azureml-widgets) (25.1.0)\n",
            "Requirement already satisfied: prometheus-client in /anaconda/envs/azureml_py38/lib/python3.10/site-packages (from notebook>=4.4.1->widgetsnbextension~=3.0.0->ipywidgets<8.0.0,>=7.0.0->azureml-widgets) (0.22.1)\n",
            "Requirement already satisfied: nbconvert>=5 in /anaconda/envs/azureml_py38/lib/python3.10/site-packages (from notebook>=4.4.1->widgetsnbextension~=3.0.0->ipywidgets<8.0.0,>=7.0.0->azureml-widgets) (7.16.6)\n",
            "Requirement already satisfied: ipython-genutils in /anaconda/envs/azureml_py38/lib/python3.10/site-packages (from notebook>=4.4.1->widgetsnbextension~=3.0.0->ipywidgets<8.0.0,>=7.0.0->azureml-widgets) (0.2.0)\n",
            "Requirement already satisfied: Send2Trash>=1.8.0 in /anaconda/envs/azureml_py38/lib/python3.10/site-packages (from notebook>=4.4.1->widgetsnbextension~=3.0.0->ipywidgets<8.0.0,>=7.0.0->azureml-widgets) (1.8.3)\n",
            "Requirement already satisfied: nbclassic>=0.4.7 in /anaconda/envs/azureml_py38/lib/python3.10/site-packages (from notebook>=4.4.1->widgetsnbextension~=3.0.0->ipywidgets<8.0.0,>=7.0.0->azureml-widgets) (1.3.1)\n",
            "Requirement already satisfied: terminado>=0.8.3 in /anaconda/envs/azureml_py38/lib/python3.10/site-packages (from notebook>=4.4.1->widgetsnbextension~=3.0.0->ipywidgets<8.0.0,>=7.0.0->azureml-widgets) (0.18.1)\n",
            "Requirement already satisfied: ptyprocess>=0.5 in /anaconda/envs/azureml_py38/lib/python3.10/site-packages (from pexpect>4.3->ipython>=4.0.0->ipywidgets<8.0.0,>=7.0.0->azureml-widgets) (0.7.0)\n",
            "Requirement already satisfied: wcwidth in /anaconda/envs/azureml_py38/lib/python3.10/site-packages (from prompt_toolkit<3.1.0,>=3.0.41->ipython>=4.0.0->ipywidgets<8.0.0,>=7.0.0->azureml-widgets) (0.2.13)\n",
            "Requirement already satisfied: asttokens>=2.1.0 in /anaconda/envs/azureml_py38/lib/python3.10/site-packages (from stack_data->ipython>=4.0.0->ipywidgets<8.0.0,>=7.0.0->azureml-widgets) (3.0.0)\n",
            "Requirement already satisfied: executing>=1.2.0 in /anaconda/envs/azureml_py38/lib/python3.10/site-packages (from stack_data->ipython>=4.0.0->ipywidgets<8.0.0,>=7.0.0->azureml-widgets) (2.2.0)\n",
            "Requirement already satisfied: pure-eval in /anaconda/envs/azureml_py38/lib/python3.10/site-packages (from stack_data->ipython>=4.0.0->ipywidgets<8.0.0,>=7.0.0->azureml-widgets) (0.2.3)\n",
            "Requirement already satisfied: zipp>=0.5 in /anaconda/envs/azureml_py38/lib/python3.10/site-packages (from importlib-metadata<8.8.0,>=6.0->opentelemetry-api>=1.12.0->azure-core-tracing-opentelemetry~=1.0.0b11->azure-monitor-opentelemetry->azure-ai-ml) (3.19.2)\n",
            "Requirement already satisfied: notebook-shim>=0.2.3 in /anaconda/envs/azureml_py38/lib/python3.10/site-packages (from nbclassic>=0.4.7->notebook>=4.4.1->widgetsnbextension~=3.0.0->ipywidgets<8.0.0,>=7.0.0->azureml-widgets) (0.2.4)\n",
            "Requirement already satisfied: jupyterlab-pygments in /anaconda/envs/azureml_py38/lib/python3.10/site-packages (from nbconvert>=5->notebook>=4.4.1->widgetsnbextension~=3.0.0->ipywidgets<8.0.0,>=7.0.0->azureml-widgets) (0.3.0)\n",
            "Requirement already satisfied: beautifulsoup4 in /anaconda/envs/azureml_py38/lib/python3.10/site-packages (from nbconvert>=5->notebook>=4.4.1->widgetsnbextension~=3.0.0->ipywidgets<8.0.0,>=7.0.0->azureml-widgets) (4.13.4)\n",
            "Requirement already satisfied: pandocfilters>=1.4.1 in /anaconda/envs/azureml_py38/lib/python3.10/site-packages (from nbconvert>=5->notebook>=4.4.1->widgetsnbextension~=3.0.0->ipywidgets<8.0.0,>=7.0.0->azureml-widgets) (1.5.1)\n",
            "Requirement already satisfied: nbclient>=0.5.0 in /anaconda/envs/azureml_py38/lib/python3.10/site-packages (from nbconvert>=5->notebook>=4.4.1->widgetsnbextension~=3.0.0->ipywidgets<8.0.0,>=7.0.0->azureml-widgets) (0.10.2)\n",
            "Requirement already satisfied: defusedxml in /anaconda/envs/azureml_py38/lib/python3.10/site-packages (from nbconvert>=5->notebook>=4.4.1->widgetsnbextension~=3.0.0->ipywidgets<8.0.0,>=7.0.0->azureml-widgets) (0.7.1)\n",
            "Requirement already satisfied: mistune<4,>=2.0.3 in /anaconda/envs/azureml_py38/lib/python3.10/site-packages (from nbconvert>=5->notebook>=4.4.1->widgetsnbextension~=3.0.0->ipywidgets<8.0.0,>=7.0.0->azureml-widgets) (3.1.3)\n",
            "Requirement already satisfied: bleach[css]!=5.0.0 in /anaconda/envs/azureml_py38/lib/python3.10/site-packages (from nbconvert>=5->notebook>=4.4.1->widgetsnbextension~=3.0.0->ipywidgets<8.0.0,>=7.0.0->azureml-widgets) (6.2.0)\n",
            "Requirement already satisfied: argon2-cffi-bindings in /anaconda/envs/azureml_py38/lib/python3.10/site-packages (from argon2-cffi->notebook>=4.4.1->widgetsnbextension~=3.0.0->ipywidgets<8.0.0,>=7.0.0->azureml-widgets) (21.2.0)\n",
            "Requirement already satisfied: webencodings in /anaconda/envs/azureml_py38/lib/python3.10/site-packages (from bleach[css]!=5.0.0->nbconvert>=5->notebook>=4.4.1->widgetsnbextension~=3.0.0->ipywidgets<8.0.0,>=7.0.0->azureml-widgets) (0.5.1)\n",
            "Requirement already satisfied: tinycss2<1.5,>=1.1.0 in /anaconda/envs/azureml_py38/lib/python3.10/site-packages (from bleach[css]!=5.0.0->nbconvert>=5->notebook>=4.4.1->widgetsnbextension~=3.0.0->ipywidgets<8.0.0,>=7.0.0->azureml-widgets) (1.4.0)\n",
            "Requirement already satisfied: jupyter-server<3,>=1.8 in /anaconda/envs/azureml_py38/lib/python3.10/site-packages (from notebook-shim>=0.2.3->nbclassic>=0.4.7->notebook>=4.4.1->widgetsnbextension~=3.0.0->ipywidgets<8.0.0,>=7.0.0->azureml-widgets) (2.16.0)\n",
            "Requirement already satisfied: soupsieve>1.2 in /anaconda/envs/azureml_py38/lib/python3.10/site-packages (from beautifulsoup4->nbconvert>=5->notebook>=4.4.1->widgetsnbextension~=3.0.0->ipywidgets<8.0.0,>=7.0.0->azureml-widgets) (2.7)\n",
            "Requirement already satisfied: anyio>=3.1.0 in /anaconda/envs/azureml_py38/lib/python3.10/site-packages (from jupyter-server<3,>=1.8->notebook-shim>=0.2.3->nbclassic>=0.4.7->notebook>=4.4.1->widgetsnbextension~=3.0.0->ipywidgets<8.0.0,>=7.0.0->azureml-widgets) (4.9.0)\n",
            "Requirement already satisfied: overrides>=5.0 in /anaconda/envs/azureml_py38/lib/python3.10/site-packages (from jupyter-server<3,>=1.8->notebook-shim>=0.2.3->nbclassic>=0.4.7->notebook>=4.4.1->widgetsnbextension~=3.0.0->ipywidgets<8.0.0,>=7.0.0->azureml-widgets) (7.7.0)\n",
            "Requirement already satisfied: websocket-client>=1.7 in /anaconda/envs/azureml_py38/lib/python3.10/site-packages (from jupyter-server<3,>=1.8->notebook-shim>=0.2.3->nbclassic>=0.4.7->notebook>=4.4.1->widgetsnbextension~=3.0.0->ipywidgets<8.0.0,>=7.0.0->azureml-widgets) (1.8.0)\n",
            "Requirement already satisfied: jupyter-events>=0.11.0 in /anaconda/envs/azureml_py38/lib/python3.10/site-packages (from jupyter-server<3,>=1.8->notebook-shim>=0.2.3->nbclassic>=0.4.7->notebook>=4.4.1->widgetsnbextension~=3.0.0->ipywidgets<8.0.0,>=7.0.0->azureml-widgets) (0.12.0)\n",
            "Requirement already satisfied: jupyter-server-terminals>=0.4.4 in /anaconda/envs/azureml_py38/lib/python3.10/site-packages (from jupyter-server<3,>=1.8->notebook-shim>=0.2.3->nbclassic>=0.4.7->notebook>=4.4.1->widgetsnbextension~=3.0.0->ipywidgets<8.0.0,>=7.0.0->azureml-widgets) (0.5.3)\n",
            "Requirement already satisfied: sniffio>=1.1 in /anaconda/envs/azureml_py38/lib/python3.10/site-packages (from anyio>=3.1.0->jupyter-server<3,>=1.8->notebook-shim>=0.2.3->nbclassic>=0.4.7->notebook>=4.4.1->widgetsnbextension~=3.0.0->ipywidgets<8.0.0,>=7.0.0->azureml-widgets) (1.3.1)\n",
            "Requirement already satisfied: rfc3986-validator>=0.1.1 in /anaconda/envs/azureml_py38/lib/python3.10/site-packages (from jupyter-events>=0.11.0->jupyter-server<3,>=1.8->notebook-shim>=0.2.3->nbclassic>=0.4.7->notebook>=4.4.1->widgetsnbextension~=3.0.0->ipywidgets<8.0.0,>=7.0.0->azureml-widgets) (0.1.1)\n",
            "Requirement already satisfied: rfc3339-validator in /anaconda/envs/azureml_py38/lib/python3.10/site-packages (from jupyter-events>=0.11.0->jupyter-server<3,>=1.8->notebook-shim>=0.2.3->nbclassic>=0.4.7->notebook>=4.4.1->widgetsnbextension~=3.0.0->ipywidgets<8.0.0,>=7.0.0->azureml-widgets) (0.1.4)\n",
            "Requirement already satisfied: python-json-logger>=2.0.4 in /anaconda/envs/azureml_py38/lib/python3.10/site-packages (from jupyter-events>=0.11.0->jupyter-server<3,>=1.8->notebook-shim>=0.2.3->nbclassic>=0.4.7->notebook>=4.4.1->widgetsnbextension~=3.0.0->ipywidgets<8.0.0,>=7.0.0->azureml-widgets) (3.3.0)\n",
            "Requirement already satisfied: webcolors>=24.6.0 in /anaconda/envs/azureml_py38/lib/python3.10/site-packages (from jsonschema<5.0.0,>=4.0.0->azure-ai-ml) (24.11.1)\n",
            "Requirement already satisfied: jsonpointer>1.13 in /anaconda/envs/azureml_py38/lib/python3.10/site-packages (from jsonschema<5.0.0,>=4.0.0->azure-ai-ml) (3.0.0)\n",
            "Requirement already satisfied: isoduration in /anaconda/envs/azureml_py38/lib/python3.10/site-packages (from jsonschema<5.0.0,>=4.0.0->azure-ai-ml) (20.11.0)\n",
            "Requirement already satisfied: uri-template in /anaconda/envs/azureml_py38/lib/python3.10/site-packages (from jsonschema<5.0.0,>=4.0.0->azure-ai-ml) (1.3.0)\n",
            "Requirement already satisfied: fqdn in /anaconda/envs/azureml_py38/lib/python3.10/site-packages (from jsonschema<5.0.0,>=4.0.0->azure-ai-ml) (1.5.1)\n",
            "Requirement already satisfied: arrow>=0.15.0 in /anaconda/envs/azureml_py38/lib/python3.10/site-packages (from isoduration->jsonschema<5.0.0,>=4.0.0->azure-ai-ml) (1.3.0)\n",
            "Requirement already satisfied: types-python-dateutil>=2.8.10 in /anaconda/envs/azureml_py38/lib/python3.10/site-packages (from arrow>=0.15.0->isoduration->jsonschema<5.0.0,>=4.0.0->azure-ai-ml) (2.9.0.20250708)\n"
          ]
        }
      ],
      "source": [
        "!pip install azure-identity azureml-core azureml-widgets azure-ai-ml mltable"
      ]
    },
    {
      "cell_type": "code",
      "execution_count": null,
      "metadata": {
        "gather": {
          "logged": 1665745893251
        }
      },
      "outputs": [],
      "source": [
        "pip show azure-ai-ml"
      ]
    },
    {
      "attachments": {},
      "cell_type": "markdown",
      "metadata": {
        "nteract": {
          "transient": {
            "deleting": false
          }
        }
      },
      "source": [
        "## Connect to your workspace\n",
        "\n",
        "With the required SDK packages installed, now you're ready to connect to your workspace.\n",
        "\n",
        "To connect to a workspace, we need identifier parameters - a subscription ID, resource group name, and workspace name. Since you're working with a compute instance, managed by Azure Machine Learning, you can use the default values to connect to the workspace."
      ]
    },
    {
      "cell_type": "code",
      "execution_count": 2,
      "metadata": {
        "gather": {
          "logged": 1665745927409
        },
        "jupyter": {
          "outputs_hidden": false,
          "source_hidden": false
        },
        "nteract": {
          "transient": {
            "deleting": false
          }
        }
      },
      "outputs": [],
      "source": [
        "from azure.identity import DefaultAzureCredential, InteractiveBrowserCredential\n",
        "from azure.ai.ml import MLClient\n",
        "\n",
        "try:\n",
        "    credential = DefaultAzureCredential()\n",
        "    # Check if given credential can get token successfully.\n",
        "    credential.get_token(\"https://management.azure.com/.default\")\n",
        "except Exception as ex:\n",
        "    # Fall back to InteractiveBrowserCredential in case DefaultAzureCredential not work\n",
        "    credential = InteractiveBrowserCredential()"
      ]
    },
    {
      "cell_type": "code",
      "execution_count": 3,
      "metadata": {},
      "outputs": [
        {
          "name": "stderr",
          "output_type": "stream",
          "text": [
            "Found the config file in: /config.json\n"
          ]
        }
      ],
      "source": [
        "# Get a handle to workspace\n",
        "ml_client = MLClient.from_config(credential=credential)"
      ]
    },
    {
      "cell_type": "code",
      "execution_count": 5,
      "metadata": {},
      "outputs": [
        {
          "name": "stdout",
          "output_type": "stream",
          "text": [
            "Current working directory: /mnt/batch/tasks/shared/LS_root/mounts/clusters/ciizzumanid2v3/code\n",
            "Successfully changed to: /mnt/batch/tasks/shared/LS_root/mounts/clusters/ciizzumanid2v3/code/Users/isaac.njiru/azure-ml-labs/Labs/04\n",
            "Files in current directory: ['images', 'setup.sh', 'src', 'Work with compute.ipynb', 'Work with environments.ipynb']\n",
            "Final working directory: /mnt/batch/tasks/shared/LS_root/mounts/clusters/ciizzumanid2v3/code/Users/isaac.njiru/azure-ml-labs/Labs/04\n"
          ]
        }
      ],
      "source": [
        "import os\n",
        "# Get the current working directory\n",
        "current_dir = os.getcwd()\n",
        "print(\"Current working directory:\", current_dir)\n",
        "\n",
        "# Set the correct directory path based on your terminal location\n",
        "target_dir = \"/home/azureuser/cloudfiles/code/Users/isaac.njiru/azure-ml-labs/Labs/04\"\n",
        "\n",
        "# Change to the target directory\n",
        "try:\n",
        "    os.chdir(target_dir)\n",
        "    print(\"Successfully changed to:\", os.getcwd())\n",
        "    \n",
        "    # List files to verify we're in the right place\n",
        "    print(\"Files in current directory:\", os.listdir('.'))\n",
        "  \n",
        "except FileNotFoundError:\n",
        "    print(f\"Directory {target_dir} not found\")\n",
        "except PermissionError:\n",
        "    print(f\"Permission denied to access {target_dir}\")\n",
        "    \n",
        "print(\"Final working directory:\", os.getcwd())"
      ]
    },
    {
      "attachments": {},
      "cell_type": "markdown",
      "metadata": {},
      "source": [
        "## Run a script as a job\n",
        "\n",
        "To train a model, you'll first create the **diabetes_training.py** script in the **src** folder. The script uses the **diabetes.csv** file in the same folder as the training data.\n",
        "\n",
        "Note that you import libraries at the beginning of the script. Functions from these libraries are used to process the data and train the model. Whatever compute you use to run the script must have these libraries installed."
      ]
    },
    {
      "cell_type": "code",
      "execution_count": 6,
      "metadata": {},
      "outputs": [
        {
          "name": "stdout",
          "output_type": "stream",
          "text": [
            "Writing src/diabetes-training.py\n"
          ]
        }
      ],
      "source": [
        "%%writefile src/diabetes-training.py\n",
        "# import libraries\n",
        "import pandas as pd\n",
        "import numpy as np\n",
        "from sklearn.model_selection import train_test_split\n",
        "from sklearn.linear_model import LogisticRegression\n",
        "from sklearn.metrics import roc_auc_score\n",
        "from sklearn.metrics import roc_curve\n",
        "\n",
        "# load the diabetes dataset\n",
        "print(\"Loading Data...\")\n",
        "diabetes = pd.read_csv('diabetes.csv')\n",
        "\n",
        "# separate features and labels\n",
        "X, y = diabetes[['Pregnancies','PlasmaGlucose','DiastolicBloodPressure','TricepsThickness','SerumInsulin','BMI','DiabetesPedigree','Age']].values, diabetes['Diabetic'].values\n",
        "\n",
        "# split data into training set and test set\n",
        "X_train, X_test, y_train, y_test = train_test_split(X, y, test_size=0.30, random_state=0)\n",
        "\n",
        "# set regularization hyperparameter\n",
        "reg = 0.01\n",
        "\n",
        "# train a logistic regression model\n",
        "print('Training a logistic regression model with regularization rate of', reg)\n",
        "model = LogisticRegression(C=1/reg, solver=\"liblinear\").fit(X_train, y_train)\n",
        "\n",
        "# calculate accuracy\n",
        "y_hat = model.predict(X_test)\n",
        "acc = np.average(y_hat == y_test)\n",
        "print('Accuracy:', acc)\n",
        "\n",
        "# calculate AUC\n",
        "y_scores = model.predict_proba(X_test)\n",
        "auc = roc_auc_score(y_test,y_scores[:,1])\n",
        "print('AUC: ' + str(auc))"
      ]
    },
    {
      "attachments": {},
      "cell_type": "markdown",
      "metadata": {},
      "source": [
        "After you create the script, you can run the script as a job. The script uses common libraries. So you can use a curated environment that includes pandas, numpy, and scikit-learn, among others.\n",
        "\n",
        "The job uses the latest version of the curated environment: `AzureML-sklearn-0.24-ubuntu18.04-py37-cpu`."
      ]
    },
    {
      "cell_type": "code",
      "execution_count": 7,
      "metadata": {},
      "outputs": [
        {
          "name": "stderr",
          "output_type": "stream",
          "text": [
            "Class AutoDeleteSettingSchema: This is an experimental class, and may change at any time. Please see https://aka.ms/azuremlexperimental for more information.\n",
            "Class AutoDeleteConditionSchema: This is an experimental class, and may change at any time. Please see https://aka.ms/azuremlexperimental for more information.\n",
            "Class BaseAutoDeleteSettingSchema: This is an experimental class, and may change at any time. Please see https://aka.ms/azuremlexperimental for more information.\n",
            "Class IntellectualPropertySchema: This is an experimental class, and may change at any time. Please see https://aka.ms/azuremlexperimental for more information.\n",
            "Class ProtectionLevelSchema: This is an experimental class, and may change at any time. Please see https://aka.ms/azuremlexperimental for more information.\n",
            "Class BaseIntellectualPropertySchema: This is an experimental class, and may change at any time. Please see https://aka.ms/azuremlexperimental for more information.\n"
          ]
        },
        {
          "name": "stdout",
          "output_type": "stream",
          "text": [
            "Monitor your job at https://ml.azure.com/runs/frank_pump_jklyr86tzd?wsid=/subscriptions/d9965121-bf98-41dd-bbad-a55f0233b417/resourcegroups/rg-dp100-labs-01-10-0712/workspaces/mlw-dp100-labs&tid=4bc108a4-1a31-4b14-ac4e-f2d6abd9c8a9\n"
          ]
        }
      ],
      "source": [
        "from azure.ai.ml import command\n",
        "\n",
        "# configure job\n",
        "job = command(\n",
        "    code=\"./src\",\n",
        "    command=\"python diabetes-training.py\",\n",
        "    environment=\"AzureML-sklearn-0.24-ubuntu18.04-py37-cpu@latest\",\n",
        "    compute=\"ciIzzumaniD2v3Cluster\",\n",
        "    display_name=\"diabetes-train-curated-env\",\n",
        "    experiment_name=\"diabetes-training\"\n",
        ")\n",
        "\n",
        "# submit job\n",
        "returned_job = ml_client.create_or_update(job)\n",
        "aml_url = returned_job.studio_url\n",
        "print(\"Monitor your job at\", aml_url)"
      ]
    },
    {
      "attachments": {},
      "cell_type": "markdown",
      "metadata": {},
      "source": [
        "While the job is running, you can already run the next cells."
      ]
    },
    {
      "attachments": {},
      "cell_type": "markdown",
      "metadata": {},
      "source": [
        "## List environments\n",
        "\n",
        "Let's explore the environments within the workspace. \n",
        "\n",
        "In the previous job, you used one of the curated environments. To explore all environments that already exist in the workspace, you can list the environments: "
      ]
    },
    {
      "cell_type": "code",
      "execution_count": 8,
      "metadata": {},
      "outputs": [
        {
          "name": "stdout",
          "output_type": "stream",
          "text": [
            "AzureML-AI-Studio-Development\n",
            "AzureML-VowpalWabbit-8.8.0\n",
            "AzureML-Triton\n",
            "AzureML-PyTorch-1.3-CPU\n",
            "AzureML-Designer-Score\n",
            "AzureML-ACPT-pytorch-1.13-py38-cuda11.7-gpu\n",
            "AzureML-ACPT-pytorch-1.12-py38-cuda11.6-gpu\n",
            "AzureML-ACPT-pytorch-1.12-py39-cuda11.6-gpu\n",
            "AzureML-ACPT-pytorch-1.11-py38-cuda11.5-gpu\n",
            "AzureML-ACPT-pytorch-1.11-py38-cuda11.3-gpu\n",
            "AzureML-responsibleai-0.21-ubuntu20.04-py38-cpu\n",
            "AzureML-responsibleai-0.20-ubuntu20.04-py38-cpu\n",
            "AzureML-sklearn-1.0-ubuntu20.04-py38-cpu\n",
            "AzureML-tensorflow-2.7-ubuntu20.04-py38-cuda11-gpu\n",
            "AzureML-pytorch-1.9-ubuntu18.04-py37-cuda11-gpu\n",
            "AzureML-pytorch-1.10-ubuntu18.04-py38-cuda11-gpu\n",
            "AzureML-pytorch-1.8-ubuntu18.04-py37-cuda11-gpu\n",
            "AzureML-tensorflow-2.6-ubuntu20.04-py38-cuda11-gpu\n",
            "AzureML-tensorflow-2.4-ubuntu18.04-py37-cuda11-gpu\n",
            "AzureML-lightgbm-3.2-ubuntu18.04-py37-cpu\n",
            "AzureML-pytorch-1.7-ubuntu18.04-py37-cuda11-gpu\n",
            "AzureML-sklearn-0.24-ubuntu18.04-py37-cpu\n",
            "AzureML-tensorflow-2.5-ubuntu20.04-py38-cuda11-gpu\n"
          ]
        }
      ],
      "source": [
        "envs = ml_client.environments.list()\n",
        "for env in envs:\n",
        "    print(env.name)"
      ]
    },
    {
      "attachments": {},
      "cell_type": "markdown",
      "metadata": {},
      "source": [
        "Note that all curated environments have names that begin **AzureML-** (you can't use this prefix for your own environments).\n",
        "\n",
        "To review a specific environment, you can retrieve an environment by its name and version. For example, you can retrieve the *description* and *tags* of the curated environment you used for the previous job:"
      ]
    },
    {
      "cell_type": "code",
      "execution_count": 9,
      "metadata": {},
      "outputs": [
        {
          "name": "stdout",
          "output_type": "stream",
          "text": [
            "An environment for tasks such as regression, clustering, and classification with Scikit-learn. Contains the Azure ML SDK and additional python packages. {'Scikit-learn': '0.24.1', 'OS': 'Ubuntu18.04', 'Training': ''}\n"
          ]
        }
      ],
      "source": [
        "env = ml_client.environments.get(\"AzureML-sklearn-0.24-ubuntu18.04-py37-cpu\", version=44)\n",
        "print(env.description, env.tags)"
      ]
    },
    {
      "attachments": {},
      "cell_type": "markdown",
      "metadata": {},
      "source": [
        "## Create and use a custom environment\n",
        "\n",
        "If a curated environment doesn't include all the Python packages you need to run your script, you can create your own custom environment. By listing all necessary packages in an environment, you can easily re-run your scripts. All the dependencies are stored in the environment which you can then specify in the job configuration, independent of the compute you use.\n",
        "\n",
        "For example, you can create an environment simply from a Docker image. Certain frameworks like PyTorch will have a public Docker image that already includes everything you need. \n",
        "\n",
        "Let's create an environment from a Docker image:"
      ]
    },
    {
      "cell_type": "code",
      "execution_count": 10,
      "metadata": {},
      "outputs": [
        {
          "data": {
            "text/plain": [
              "Environment({'arm_type': 'environment_version', 'latest_version': None, 'image': 'mcr.microsoft.com/azureml/openmpi3.1.2-ubuntu18.04', 'intellectual_property': None, 'is_anonymous': False, 'auto_increment_version': False, 'auto_delete_setting': None, 'name': 'docker-image-example', 'description': 'Environment created from a Docker image.', 'tags': {}, 'properties': {'azureml.labels': 'latest'}, 'print_as_yaml': False, 'id': '/subscriptions/d9965121-bf98-41dd-bbad-a55f0233b417/resourceGroups/rg-dp100-labs-01-10-0712/providers/Microsoft.MachineLearningServices/workspaces/mlw-dp100-labs/environments/docker-image-example/versions/1', 'Resource__source_path': '', 'base_path': '/mnt/batch/tasks/shared/LS_root/mounts/clusters/ciizzumanid2v3/code/Users/isaac.njiru/azure-ml-labs/Labs/04', 'creation_context': <azure.ai.ml.entities._system_data.SystemData object at 0x7fbec63638e0>, 'serialize': <msrest.serialization.Serializer object at 0x7fbeca3c63e0>, 'version': '1', 'conda_file': None, 'build': None, 'inference_config': None, 'os_type': 'Linux', 'conda_file_path': None, 'path': None, 'datastore': None, 'upload_hash': None, 'translated_conda_file': None})"
            ]
          },
          "execution_count": 10,
          "metadata": {},
          "output_type": "execute_result"
        }
      ],
      "source": [
        "from azure.ai.ml.entities import Environment\n",
        "\n",
        "env_docker_image = Environment(\n",
        "    image=\"mcr.microsoft.com/azureml/openmpi3.1.2-ubuntu18.04\",\n",
        "    name=\"docker-image-example\",\n",
        "    description=\"Environment created from a Docker image.\",\n",
        ")\n",
        "ml_client.environments.create_or_update(env_docker_image)"
      ]
    },
    {
      "attachments": {},
      "cell_type": "markdown",
      "metadata": {},
      "source": [
        "The environment is now registered in your workspace and you can reference it when you run a script as a job:"
      ]
    },
    {
      "cell_type": "code",
      "execution_count": 11,
      "metadata": {},
      "outputs": [
        {
          "name": "stdout",
          "output_type": "stream",
          "text": [
            "Monitor your job at https://ml.azure.com/runs/keen_pen_5l1p9pfhzc?wsid=/subscriptions/d9965121-bf98-41dd-bbad-a55f0233b417/resourcegroups/rg-dp100-labs-01-10-0712/workspaces/mlw-dp100-labs&tid=4bc108a4-1a31-4b14-ac4e-f2d6abd9c8a9\n"
          ]
        }
      ],
      "source": [
        "from azure.ai.ml import command\n",
        "\n",
        "# configure job\n",
        "job = command(\n",
        "    code=\"./src\",\n",
        "    command=\"python diabetes-training.py\",\n",
        "    environment=\"docker-image-example:1\",\n",
        "    compute=\"ciIzzumaniD2v3Cluster\",\n",
        "    display_name=\"diabetes-train-custom-env\",\n",
        "    experiment_name=\"diabetes-training\"\n",
        ")\n",
        "\n",
        "# submit job\n",
        "returned_job = ml_client.create_or_update(job)\n",
        "aml_url = returned_job.studio_url\n",
        "print(\"Monitor your job at\", aml_url)"
      ]
    },
    {
      "attachments": {},
      "cell_type": "markdown",
      "metadata": {},
      "source": [
        "<p style=\"color:red;font-size:120%;background-color:yellow;font-weight:bold\"> The job will quickly fail! Review the error message. </p>\n",
        "\n",
        "The error message will tell you that there is no module named pandas. There are two possible causes for such an error:\n",
        "\n",
        "- The script uses pandas but didn't import the library (`import pandas as pd`). \n",
        "- The script does import the library at the top of the script but the compute didn't have the library installed (`pip install pandas`).\n",
        "\n",
        "After reviewing the `diabetes-training.py` script you can observe the script is correct, which means the library wasn't installed. In other words, the environment didn't include the necessary packages.\n",
        "\n",
        "Let's create a new environment, using the base Docker image used in the previous job. Now, you'll add a conda specification to ensure the necessary packages will be installed. First, run the following cell to create the conda specification file:"
      ]
    },
    {
      "cell_type": "code",
      "execution_count": 12,
      "metadata": {},
      "outputs": [
        {
          "name": "stdout",
          "output_type": "stream",
          "text": [
            "Writing src/conda-env.yml\n"
          ]
        }
      ],
      "source": [
        "%%writefile src/conda-env.yml\n",
        "name: basic-env-cpu\n",
        "channels:\n",
        "  - conda-forge\n",
        "dependencies:\n",
        "  - python=3.11\n",
        "  - scikit-learn\n",
        "  - pandas\n",
        "  - numpy\n",
        "  - matplotlib"
      ]
    },
    {
      "attachments": {},
      "cell_type": "markdown",
      "metadata": {},
      "source": [
        "Note that all necessary dependencies are included in the conda specification file for the script to run successfully.\n",
        "\n",
        "Create a new environment using the base Docker image **and** the conda specification file to add the necessary dependencies. Azure Machine Learning will build the conda environment on top of the Docker image you provided. "
      ]
    },
    {
      "cell_type": "code",
      "execution_count": 13,
      "metadata": {},
      "outputs": [
        {
          "data": {
            "text/plain": [
              "Environment({'arm_type': 'environment_version', 'latest_version': None, 'image': 'mcr.microsoft.com/azureml/openmpi3.1.2-ubuntu18.04', 'intellectual_property': None, 'is_anonymous': False, 'auto_increment_version': False, 'auto_delete_setting': None, 'name': 'docker-image-plus-conda-example', 'description': 'Environment created from a Docker image plus Conda environment.', 'tags': {}, 'properties': {'azureml.labels': 'latest'}, 'print_as_yaml': False, 'id': '/subscriptions/d9965121-bf98-41dd-bbad-a55f0233b417/resourceGroups/rg-dp100-labs-01-10-0712/providers/Microsoft.MachineLearningServices/workspaces/mlw-dp100-labs/environments/docker-image-plus-conda-example/versions/1', 'Resource__source_path': '', 'base_path': '/mnt/batch/tasks/shared/LS_root/mounts/clusters/ciizzumanid2v3/code/Users/isaac.njiru/azure-ml-labs/Labs/04', 'creation_context': <azure.ai.ml.entities._system_data.SystemData object at 0x7fbe9f0ffc10>, 'serialize': <msrest.serialization.Serializer object at 0x7fbe9f0feb00>, 'version': '1', 'conda_file': {'channels': ['conda-forge'], 'dependencies': ['python=3.11', 'scikit-learn', 'pandas', 'numpy', 'matplotlib'], 'name': 'basic-env-cpu'}, 'build': None, 'inference_config': None, 'os_type': 'Linux', 'conda_file_path': None, 'path': None, 'datastore': None, 'upload_hash': None, 'translated_conda_file': '{\\n  \"channels\": [\\n    \"conda-forge\"\\n  ],\\n  \"dependencies\": [\\n    \"python=3.11\",\\n    \"scikit-learn\",\\n    \"pandas\",\\n    \"numpy\",\\n    \"matplotlib\"\\n  ],\\n  \"name\": \"basic-env-cpu\"\\n}'})"
            ]
          },
          "execution_count": 13,
          "metadata": {},
          "output_type": "execute_result"
        }
      ],
      "source": [
        "from azure.ai.ml.entities import Environment\n",
        "\n",
        "env_docker_conda = Environment(\n",
        "    image=\"mcr.microsoft.com/azureml/openmpi3.1.2-ubuntu18.04\",\n",
        "    conda_file=\"./src/conda-env.yml\",\n",
        "    name=\"docker-image-plus-conda-example\",\n",
        "    description=\"Environment created from a Docker image plus Conda environment.\",\n",
        ")\n",
        "ml_client.environments.create_or_update(env_docker_conda)"
      ]
    },
    {
      "attachments": {},
      "cell_type": "markdown",
      "metadata": {},
      "source": [
        "Now, you can submit a job with the new environment to run the script:"
      ]
    },
    {
      "cell_type": "code",
      "execution_count": 14,
      "metadata": {},
      "outputs": [
        {
          "name": "stderr",
          "output_type": "stream",
          "text": [
            "\u001b[32mUploading src (0.52 MBs): 100%|██████████| 519035/519035 [00:00<00:00, 15812189.14it/s]\n",
            "\u001b[39m\n",
            "\n"
          ]
        },
        {
          "name": "stdout",
          "output_type": "stream",
          "text": [
            "Monitor your job at https://ml.azure.com/runs/red_quill_7j9bhj4xlb?wsid=/subscriptions/d9965121-bf98-41dd-bbad-a55f0233b417/resourcegroups/rg-dp100-labs-01-10-0712/workspaces/mlw-dp100-labs&tid=4bc108a4-1a31-4b14-ac4e-f2d6abd9c8a9\n"
          ]
        }
      ],
      "source": [
        "from azure.ai.ml import command\n",
        "\n",
        "# configure job\n",
        "job = command(\n",
        "    code=\"./src\",\n",
        "    command=\"python diabetes-training.py\",\n",
        "    environment=\"docker-image-plus-conda-example:1\",\n",
        "    compute=\"ciIzzumaniD2v3Cluster\",\n",
        "    display_name=\"diabetes-train-custom-env\",\n",
        "    experiment_name=\"diabetes-training\"\n",
        ")\n",
        "\n",
        "# submit job\n",
        "returned_job = ml_client.create_or_update(job)\n",
        "aml_url = returned_job.studio_url\n",
        "print(\"Monitor your job at\", aml_url)"
      ]
    },
    {
      "attachments": {},
      "cell_type": "markdown",
      "metadata": {},
      "source": [
        "Submitting the job with the new custom environment triggers the build of the environment. The first time you use a newly created environment, it can take 10-15 minutes to build the environment, which also means your job will take longer to complete. \n",
        "\n",
        "You can also choose to manually trigger the build of the environment before you submit a job. The environment only needs to be built the first time you use it. \n",
        "\n",
        "When the job triggers the build of a new environment, you can review the logs of the build in the **Outputs + logs** tab of the job. Open **azureml-logs/20_image_build_log.txt** to inspect the logs of the environment build. \n",
        "\n",
        "![Screenshot build logs](./images/screenshot-logs.png)"
      ]
    }
  ],
  "metadata": {
    "kernel_info": {
      "name": "python38-azureml"
    },
    "kernelspec": {
      "display_name": "Python 3.10 - AzureML",
      "language": "python",
      "name": "python38-azureml"
    },
    "language_info": {
      "codemirror_mode": {
        "name": "ipython",
        "version": 3
      },
      "file_extension": ".py",
      "mimetype": "text/x-python",
      "name": "python",
      "nbconvert_exporter": "python",
      "pygments_lexer": "ipython3",
      "version": "3.10.11"
    },
    "microsoft": {
      "host": {
        "AzureML": {
          "notebookHasBeenCompleted": true
        }
      }
    },
    "nteract": {
      "version": "nteract-front-end@1.0.0"
    },
    "vscode": {
      "interpreter": {
        "hash": "f2b2cd046deda8eabef1e765a11d0ec9aa9bd1d31d56ce79c815a38c323e14ec"
      }
    }
  },
  "nbformat": 4,
  "nbformat_minor": 2
}
