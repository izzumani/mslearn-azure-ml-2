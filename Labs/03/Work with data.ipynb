{
  "cells": [
    {
      "attachments": {},
      "cell_type": "markdown",
      "metadata": {
        "nteract": {
          "transient": {
            "deleting": false
          }
        }
      },
      "source": [
        "# Work with Data\n",
        "\n",
        "Data is the foundation on which machine learning models are built. Managing data centrally in the cloud, and making it accessible to teams of data scientists who are running experiments and training models on multiple workstations and compute targets is an important part of any professional data science solution.\n",
        "\n",
        "In this notebook, you'll explore two Azure Machine Learning objects for working with data: *datastores*, and *data assets*.\n",
        "\n",
        "## Before you start\n",
        "\n",
        "You'll need the latest version of the **azure-ai-ml** package to run the code in this notebook. Run the cell below to verify that it is installed.\n",
        "\n",
        "> **Note**:\n",
        "> If the **azure-ai-ml** package is not installed, run `pip install azure-ai-ml` to install it."
      ]
    },
    {
      "cell_type": "code",
      "execution_count": 1,
      "metadata": {},
      "outputs": [
        {
          "name": "stdout",
          "output_type": "stream",
          "text": [
            "Requirement already satisfied: azure-identity in /anaconda/envs/azureml_py38/lib/python3.10/site-packages (1.21.0)\n",
            "Requirement already satisfied: azureml-core in /anaconda/envs/azureml_py38/lib/python3.10/site-packages (1.60.0)\n",
            "Requirement already satisfied: azureml-widgets in /anaconda/envs/azureml_py38/lib/python3.10/site-packages (1.60.0)\n",
            "Requirement already satisfied: azure-ai-ml in /anaconda/envs/azureml_py38/lib/python3.10/site-packages (1.29.0)\n",
            "Requirement already satisfied: mltable in /anaconda/envs/azureml_py38/lib/python3.10/site-packages (1.6.3)\n",
            "Requirement already satisfied: typing-extensions>=4.0.0 in /anaconda/envs/azureml_py38/lib/python3.10/site-packages (from azure-identity) (4.14.1)\n",
            "Requirement already satisfied: msal>=1.30.0 in /anaconda/envs/azureml_py38/lib/python3.10/site-packages (from azure-identity) (1.33.0b1)\n",
            "Requirement already satisfied: cryptography>=2.5 in /anaconda/envs/azureml_py38/lib/python3.10/site-packages (from azure-identity) (38.0.4)\n",
            "Requirement already satisfied: msal-extensions>=1.2.0 in /anaconda/envs/azureml_py38/lib/python3.10/site-packages (from azure-identity) (1.2.0)\n",
            "Requirement already satisfied: azure-core>=1.31.0 in /anaconda/envs/azureml_py38/lib/python3.10/site-packages (from azure-identity) (1.33.0)\n",
            "Requirement already satisfied: msrestazure<=0.7,>=0.4.33 in /anaconda/envs/azureml_py38/lib/python3.10/site-packages (from azureml-core) (0.6.4.post1)\n",
            "Requirement already satisfied: paramiko<4.0.0,>=2.0.8 in /anaconda/envs/azureml_py38/lib/python3.10/site-packages (from azureml-core) (3.5.1)\n",
            "Requirement already satisfied: azure-mgmt-containerregistry<11,>=8.2.0 in /anaconda/envs/azureml_py38/lib/python3.10/site-packages (from azureml-core) (9.0.0)\n",
            "Requirement already satisfied: pytz in /anaconda/envs/azureml_py38/lib/python3.10/site-packages (from azureml-core) (2022.5)\n",
            "Requirement already satisfied: azure-mgmt-storage<=23.0.0,>=16.0.0 in /anaconda/envs/azureml_py38/lib/python3.10/site-packages (from azureml-core) (22.0.0)\n",
            "Requirement already satisfied: azure-common<2.0.0,>=1.1.12 in /anaconda/envs/azureml_py38/lib/python3.10/site-packages (from azureml-core) (1.1.28)\n",
            "Requirement already satisfied: knack<0.13.0 in /anaconda/envs/azureml_py38/lib/python3.10/site-packages (from azureml-core) (0.11.0)\n",
            "Requirement already satisfied: packaging<=25.0,>=20.0 in /anaconda/envs/azureml_py38/lib/python3.10/site-packages (from azureml-core) (25.0)\n",
            "Requirement already satisfied: docker<8.0.0 in /anaconda/envs/azureml_py38/lib/python3.10/site-packages (from azureml-core) (7.1.0)\n",
            "Requirement already satisfied: humanfriendly<11.0,>=4.7 in /anaconda/envs/azureml_py38/lib/python3.10/site-packages (from azureml-core) (10.0)\n",
            "Requirement already satisfied: pkginfo in /anaconda/envs/azureml_py38/lib/python3.10/site-packages (from azureml-core) (1.12.1.2)\n",
            "Requirement already satisfied: SecretStorage<4.0.0 in /anaconda/envs/azureml_py38/lib/python3.10/site-packages (from azureml-core) (3.3.3)\n",
            "Requirement already satisfied: msrest<=0.7.1,>=0.5.1 in /anaconda/envs/azureml_py38/lib/python3.10/site-packages (from azureml-core) (0.7.1)\n",
            "Requirement already satisfied: jmespath<2.0.0 in /anaconda/envs/azureml_py38/lib/python3.10/site-packages (from azureml-core) (0.10.0)\n",
            "Requirement already satisfied: azure-mgmt-authorization<5,>=0.40.0 in /anaconda/envs/azureml_py38/lib/python3.10/site-packages (from azureml-core) (4.0.0)\n",
            "Requirement already satisfied: argcomplete<4 in /anaconda/envs/azureml_py38/lib/python3.10/site-packages (from azureml-core) (3.5.3)\n",
            "Requirement already satisfied: requests[socks]<3.0.0,>=2.19.1 in /anaconda/envs/azureml_py38/lib/python3.10/site-packages (from azureml-core) (2.32.4)\n",
            "Requirement already satisfied: backports.tempfile in /anaconda/envs/azureml_py38/lib/python3.10/site-packages (from azureml-core) (1.0)\n",
            "Requirement already satisfied: ndg-httpsclient<=0.5.1 in /anaconda/envs/azureml_py38/lib/python3.10/site-packages (from azureml-core) (0.5.1)\n",
            "Requirement already satisfied: pyopenssl<26.0.0 in /anaconda/envs/azureml_py38/lib/python3.10/site-packages (from azureml-core) (23.0.0)\n",
            "Requirement already satisfied: contextlib2<22.0.0 in /anaconda/envs/azureml_py38/lib/python3.10/site-packages (from azureml-core) (21.6.0)\n",
            "Requirement already satisfied: jsonpickle<5.0.0 in /anaconda/envs/azureml_py38/lib/python3.10/site-packages (from azureml-core) (4.0.5)\n",
            "Requirement already satisfied: python-dateutil<3.0.0,>=2.7.3 in /anaconda/envs/azureml_py38/lib/python3.10/site-packages (from azureml-core) (2.9.0.post0)\n",
            "Requirement already satisfied: PyJWT<3.0.0 in /anaconda/envs/azureml_py38/lib/python3.10/site-packages (from azureml-core) (2.4.0)\n",
            "Requirement already satisfied: azure-mgmt-resource<=24.0.0,>=15.0.0 in /anaconda/envs/azureml_py38/lib/python3.10/site-packages (from azureml-core) (23.3.0)\n",
            "Requirement already satisfied: urllib3<3.0.0,>1.26.17 in /anaconda/envs/azureml_py38/lib/python3.10/site-packages (from azureml-core) (2.5.0)\n",
            "Requirement already satisfied: azure-mgmt-network<=29.0.0 in /anaconda/envs/azureml_py38/lib/python3.10/site-packages (from azureml-core) (26.0.0)\n",
            "Requirement already satisfied: azure-mgmt-keyvault<11.0.0,>=0.40.0 in /anaconda/envs/azureml_py38/lib/python3.10/site-packages (from azureml-core) (10.3.1)\n",
            "Requirement already satisfied: adal<=1.2.7,>=1.2.0 in /anaconda/envs/azureml_py38/lib/python3.10/site-packages (from azureml-core) (1.2.7)\n",
            "Requirement already satisfied: pathspec<1.0.0 in /anaconda/envs/azureml_py38/lib/python3.10/site-packages (from azureml-core) (0.12.1)\n",
            "Requirement already satisfied: azure-graphrbac<1.0.0,>=0.40.0 in /anaconda/envs/azureml_py38/lib/python3.10/site-packages (from azureml-core) (0.60.0)\n",
            "Requirement already satisfied: azure-storage-blob>=12.6.0 in /anaconda/envs/azureml_py38/lib/python3.10/site-packages (from azureml-widgets) (12.26.0)\n",
            "Requirement already satisfied: azureml-telemetry~=1.60.0 in /anaconda/envs/azureml_py38/lib/python3.10/site-packages (from azureml-widgets) (1.60.0)\n",
            "Requirement already satisfied: jinja2<4.0 in /anaconda/envs/azureml_py38/lib/python3.10/site-packages (from azureml-widgets) (3.1.6)\n",
            "Requirement already satisfied: ipywidgets<8.0.0,>=7.0.0 in /anaconda/envs/azureml_py38/lib/python3.10/site-packages (from azureml-widgets) (7.0.0)\n",
            "Requirement already satisfied: isodate<1.0.0 in /anaconda/envs/azureml_py38/lib/python3.10/site-packages (from azure-ai-ml) (0.7.2)\n",
            "Requirement already satisfied: marshmallow<4.0.0,>=3.5 in /anaconda/envs/azureml_py38/lib/python3.10/site-packages (from azure-ai-ml) (3.26.1)\n",
            "Requirement already satisfied: tqdm<5.0.0 in /anaconda/envs/azureml_py38/lib/python3.10/site-packages (from azure-ai-ml) (4.67.1)\n",
            "Requirement already satisfied: azure-storage-file-share in /anaconda/envs/azureml_py38/lib/python3.10/site-packages (from azure-ai-ml) (12.22.0)\n",
            "Requirement already satisfied: jsonschema<5.0.0,>=4.0.0 in /anaconda/envs/azureml_py38/lib/python3.10/site-packages (from azure-ai-ml) (4.24.0)\n",
            "Requirement already satisfied: pyyaml<7.0.0,>=5.1.0 in /anaconda/envs/azureml_py38/lib/python3.10/site-packages (from azure-ai-ml) (6.0.2)\n",
            "Requirement already satisfied: colorama<1.0.0 in /anaconda/envs/azureml_py38/lib/python3.10/site-packages (from azure-ai-ml) (0.4.6)\n",
            "Requirement already satisfied: azure-monitor-opentelemetry in /anaconda/envs/azureml_py38/lib/python3.10/site-packages (from azure-ai-ml) (1.8.1)\n",
            "Requirement already satisfied: strictyaml<2.0.0 in /anaconda/envs/azureml_py38/lib/python3.10/site-packages (from azure-ai-ml) (1.7.3)\n",
            "Requirement already satisfied: pydash<9.0.0,>=6.0.0 in /anaconda/envs/azureml_py38/lib/python3.10/site-packages (from azure-ai-ml) (8.0.5)\n",
            "Requirement already satisfied: azure-storage-file-datalake>=12.2.0 in /anaconda/envs/azureml_py38/lib/python3.10/site-packages (from azure-ai-ml) (12.21.0)\n",
            "Requirement already satisfied: azure-mgmt-core>=1.3.0 in /anaconda/envs/azureml_py38/lib/python3.10/site-packages (from azure-ai-ml) (1.5.0)\n",
            "Requirement already satisfied: azureml-dataprep[parquet]<5.5.0a,>=5.1.0a in /anaconda/envs/azureml_py38/lib/python3.10/site-packages (from mltable) (5.1.6)\n",
            "Requirement already satisfied: six>=1.11.0 in /anaconda/envs/azureml_py38/lib/python3.10/site-packages (from azure-core>=1.31.0->azure-identity) (1.17.0)\n",
            "Requirement already satisfied: azureml-dataprep-rslex~=2.22.2dev0 in /anaconda/envs/azureml_py38/lib/python3.10/site-packages (from azureml-dataprep[parquet]<5.5.0a,>=5.1.0a->mltable) (2.22.5)\n",
            "Requirement already satisfied: cloudpickle<3.0.0,>=1.1.0 in /anaconda/envs/azureml_py38/lib/python3.10/site-packages (from azureml-dataprep[parquet]<5.5.0a,>=5.1.0a->mltable) (2.2.1)\n",
            "Requirement already satisfied: azureml-dataprep-native<42.0.0,>=41.0.0 in /anaconda/envs/azureml_py38/lib/python3.10/site-packages (from azureml-dataprep[parquet]<5.5.0a,>=5.1.0a->mltable) (41.0.0)\n",
            "Requirement already satisfied: pyarrow>=0.17.0 in /anaconda/envs/azureml_py38/lib/python3.10/site-packages (from azureml-dataprep[parquet]<5.5.0a,>=5.1.0a->mltable) (14.0.2)\n",
            "Requirement already satisfied: applicationinsights in /anaconda/envs/azureml_py38/lib/python3.10/site-packages (from azureml-telemetry~=1.60.0->azureml-widgets) (0.11.10)\n",
            "Requirement already satisfied: cffi>=1.12 in /anaconda/envs/azureml_py38/lib/python3.10/site-packages (from cryptography>=2.5->azure-identity) (1.17.1)\n",
            "Requirement already satisfied: widgetsnbextension~=3.0.0 in /anaconda/envs/azureml_py38/lib/python3.10/site-packages (from ipywidgets<8.0.0,>=7.0.0->azureml-widgets) (3.0.8)\n",
            "Requirement already satisfied: ipython>=4.0.0 in /anaconda/envs/azureml_py38/lib/python3.10/site-packages (from ipywidgets<8.0.0,>=7.0.0->azureml-widgets) (8.37.0)\n",
            "Requirement already satisfied: traitlets>=4.3.1 in /anaconda/envs/azureml_py38/lib/python3.10/site-packages (from ipywidgets<8.0.0,>=7.0.0->azureml-widgets) (5.14.3)\n",
            "Requirement already satisfied: nbformat>=4.2.0 in /anaconda/envs/azureml_py38/lib/python3.10/site-packages (from ipywidgets<8.0.0,>=7.0.0->azureml-widgets) (5.10.4)\n",
            "Requirement already satisfied: ipykernel>=4.5.1 in /anaconda/envs/azureml_py38/lib/python3.10/site-packages (from ipywidgets<8.0.0,>=7.0.0->azureml-widgets) (6.29.5)\n",
            "Requirement already satisfied: MarkupSafe>=2.0 in /anaconda/envs/azureml_py38/lib/python3.10/site-packages (from jinja2<4.0->azureml-widgets) (2.0.1)\n",
            "Requirement already satisfied: rpds-py>=0.7.1 in /anaconda/envs/azureml_py38/lib/python3.10/site-packages (from jsonschema<5.0.0,>=4.0.0->azure-ai-ml) (0.24.0)\n",
            "Requirement already satisfied: attrs>=22.2.0 in /anaconda/envs/azureml_py38/lib/python3.10/site-packages (from jsonschema<5.0.0,>=4.0.0->azure-ai-ml) (25.3.0)\n",
            "Requirement already satisfied: referencing>=0.28.4 in /anaconda/envs/azureml_py38/lib/python3.10/site-packages (from jsonschema<5.0.0,>=4.0.0->azure-ai-ml) (0.36.2)\n",
            "Requirement already satisfied: jsonschema-specifications>=2023.03.6 in /anaconda/envs/azureml_py38/lib/python3.10/site-packages (from jsonschema<5.0.0,>=4.0.0->azure-ai-ml) (2025.4.1)\n",
            "Requirement already satisfied: tabulate in /anaconda/envs/azureml_py38/lib/python3.10/site-packages (from knack<0.13.0->azureml-core) (0.9.0)\n",
            "Requirement already satisfied: pygments in /anaconda/envs/azureml_py38/lib/python3.10/site-packages (from knack<0.13.0->azureml-core) (2.19.2)\n",
            "Requirement already satisfied: portalocker<3,>=1.4 in /anaconda/envs/azureml_py38/lib/python3.10/site-packages (from msal-extensions>=1.2.0->azure-identity) (2.10.1)\n",
            "Requirement already satisfied: requests-oauthlib>=0.5.0 in /anaconda/envs/azureml_py38/lib/python3.10/site-packages (from msrest<=0.7.1,>=0.5.1->azureml-core) (2.0.0)\n",
            "Requirement already satisfied: certifi>=2017.4.17 in /anaconda/envs/azureml_py38/lib/python3.10/site-packages (from msrest<=0.7.1,>=0.5.1->azureml-core) (2025.7.9)\n",
            "Requirement already satisfied: pyasn1>=0.1.1 in /anaconda/envs/azureml_py38/lib/python3.10/site-packages (from ndg-httpsclient<=0.5.1->azureml-core) (0.6.1)\n",
            "Requirement already satisfied: pynacl>=1.5 in /anaconda/envs/azureml_py38/lib/python3.10/site-packages (from paramiko<4.0.0,>=2.0.8->azureml-core) (1.5.0)\n",
            "Requirement already satisfied: bcrypt>=3.2 in /anaconda/envs/azureml_py38/lib/python3.10/site-packages (from paramiko<4.0.0,>=2.0.8->azureml-core) (4.3.0)\n",
            "Requirement already satisfied: charset_normalizer<4,>=2 in /anaconda/envs/azureml_py38/lib/python3.10/site-packages (from requests[socks]<3.0.0,>=2.19.1->azureml-core) (3.4.2)\n",
            "Requirement already satisfied: idna<4,>=2.5 in /anaconda/envs/azureml_py38/lib/python3.10/site-packages (from requests[socks]<3.0.0,>=2.19.1->azureml-core) (3.10)\n",
            "Requirement already satisfied: PySocks!=1.5.7,>=1.5.6 in /anaconda/envs/azureml_py38/lib/python3.10/site-packages (from requests[socks]<3.0.0,>=2.19.1->azureml-core) (1.7.1)\n",
            "Requirement already satisfied: jeepney>=0.6 in /anaconda/envs/azureml_py38/lib/python3.10/site-packages (from SecretStorage<4.0.0->azureml-core) (0.9.0)\n",
            "Requirement already satisfied: opentelemetry-instrumentation-flask~=0.57b0 in /anaconda/envs/azureml_py38/lib/python3.10/site-packages (from azure-monitor-opentelemetry->azure-ai-ml) (0.58b0)\n",
            "Requirement already satisfied: opentelemetry-resource-detector-azure~=0.1.5 in /anaconda/envs/azureml_py38/lib/python3.10/site-packages (from azure-monitor-opentelemetry->azure-ai-ml) (0.1.5)\n",
            "Requirement already satisfied: opentelemetry-instrumentation-psycopg2~=0.57b0 in /anaconda/envs/azureml_py38/lib/python3.10/site-packages (from azure-monitor-opentelemetry->azure-ai-ml) (0.58b0)\n",
            "Requirement already satisfied: opentelemetry-instrumentation-urllib3~=0.57b0 in /anaconda/envs/azureml_py38/lib/python3.10/site-packages (from azure-monitor-opentelemetry->azure-ai-ml) (0.58b0)\n",
            "Requirement already satisfied: opentelemetry-instrumentation-fastapi~=0.57b0 in /anaconda/envs/azureml_py38/lib/python3.10/site-packages (from azure-monitor-opentelemetry->azure-ai-ml) (0.58b0)\n",
            "Requirement already satisfied: opentelemetry-sdk~=1.36 in /anaconda/envs/azureml_py38/lib/python3.10/site-packages (from azure-monitor-opentelemetry->azure-ai-ml) (1.37.0)\n",
            "Requirement already satisfied: azure-monitor-opentelemetry-exporter~=1.0.0b41 in /anaconda/envs/azureml_py38/lib/python3.10/site-packages (from azure-monitor-opentelemetry->azure-ai-ml) (1.0.0b42)\n",
            "Requirement already satisfied: opentelemetry-instrumentation-django~=0.57b0 in /anaconda/envs/azureml_py38/lib/python3.10/site-packages (from azure-monitor-opentelemetry->azure-ai-ml) (0.58b0)\n",
            "Requirement already satisfied: opentelemetry-instrumentation-urllib~=0.57b0 in /anaconda/envs/azureml_py38/lib/python3.10/site-packages (from azure-monitor-opentelemetry->azure-ai-ml) (0.58b0)\n",
            "Requirement already satisfied: azure-core-tracing-opentelemetry~=1.0.0b11 in /anaconda/envs/azureml_py38/lib/python3.10/site-packages (from azure-monitor-opentelemetry->azure-ai-ml) (1.0.0b12)\n",
            "Requirement already satisfied: opentelemetry-instrumentation-requests~=0.57b0 in /anaconda/envs/azureml_py38/lib/python3.10/site-packages (from azure-monitor-opentelemetry->azure-ai-ml) (0.58b0)\n",
            "Requirement already satisfied: backports.weakref in /anaconda/envs/azureml_py38/lib/python3.10/site-packages (from backports.tempfile->azureml-core) (1.0.post1)\n",
            "Requirement already satisfied: opentelemetry-api>=1.12.0 in /anaconda/envs/azureml_py38/lib/python3.10/site-packages (from azure-core-tracing-opentelemetry~=1.0.0b11->azure-monitor-opentelemetry->azure-ai-ml) (1.37.0)\n",
            "Requirement already satisfied: fixedint==0.1.6 in /anaconda/envs/azureml_py38/lib/python3.10/site-packages (from azure-monitor-opentelemetry-exporter~=1.0.0b41->azure-monitor-opentelemetry->azure-ai-ml) (0.1.6)\n",
            "Requirement already satisfied: psutil<8,>=5.9 in /anaconda/envs/azureml_py38/lib/python3.10/site-packages (from azure-monitor-opentelemetry-exporter~=1.0.0b41->azure-monitor-opentelemetry->azure-ai-ml) (7.1.0)\n",
            "Requirement already satisfied: pycparser in /anaconda/envs/azureml_py38/lib/python3.10/site-packages (from cffi>=1.12->cryptography>=2.5->azure-identity) (2.22)\n",
            "Requirement already satisfied: jupyter-client>=6.1.12 in /anaconda/envs/azureml_py38/lib/python3.10/site-packages (from ipykernel>=4.5.1->ipywidgets<8.0.0,>=7.0.0->azureml-widgets) (7.4.9)\n",
            "Requirement already satisfied: tornado>=6.1 in /anaconda/envs/azureml_py38/lib/python3.10/site-packages (from ipykernel>=4.5.1->ipywidgets<8.0.0,>=7.0.0->azureml-widgets) (6.5.1)\n",
            "Requirement already satisfied: matplotlib-inline>=0.1 in /anaconda/envs/azureml_py38/lib/python3.10/site-packages (from ipykernel>=4.5.1->ipywidgets<8.0.0,>=7.0.0->azureml-widgets) (0.1.7)\n",
            "Requirement already satisfied: debugpy>=1.6.5 in /anaconda/envs/azureml_py38/lib/python3.10/site-packages (from ipykernel>=4.5.1->ipywidgets<8.0.0,>=7.0.0->azureml-widgets) (1.8.14)\n",
            "Requirement already satisfied: jupyter-core!=5.0.*,>=4.12 in /anaconda/envs/azureml_py38/lib/python3.10/site-packages (from ipykernel>=4.5.1->ipywidgets<8.0.0,>=7.0.0->azureml-widgets) (5.7.2)\n",
            "Requirement already satisfied: nest-asyncio in /anaconda/envs/azureml_py38/lib/python3.10/site-packages (from ipykernel>=4.5.1->ipywidgets<8.0.0,>=7.0.0->azureml-widgets) (1.6.0)\n",
            "Requirement already satisfied: pyzmq>=24 in /anaconda/envs/azureml_py38/lib/python3.10/site-packages (from ipykernel>=4.5.1->ipywidgets<8.0.0,>=7.0.0->azureml-widgets) (27.0.0)\n",
            "Requirement already satisfied: comm>=0.1.1 in /anaconda/envs/azureml_py38/lib/python3.10/site-packages (from ipykernel>=4.5.1->ipywidgets<8.0.0,>=7.0.0->azureml-widgets) (0.2.2)\n",
            "Requirement already satisfied: exceptiongroup in /anaconda/envs/azureml_py38/lib/python3.10/site-packages (from ipython>=4.0.0->ipywidgets<8.0.0,>=7.0.0->azureml-widgets) (1.3.0)\n",
            "Requirement already satisfied: stack_data in /anaconda/envs/azureml_py38/lib/python3.10/site-packages (from ipython>=4.0.0->ipywidgets<8.0.0,>=7.0.0->azureml-widgets) (0.6.3)\n",
            "Requirement already satisfied: jedi>=0.16 in /anaconda/envs/azureml_py38/lib/python3.10/site-packages (from ipython>=4.0.0->ipywidgets<8.0.0,>=7.0.0->azureml-widgets) (0.18.0)\n",
            "Requirement already satisfied: prompt_toolkit<3.1.0,>=3.0.41 in /anaconda/envs/azureml_py38/lib/python3.10/site-packages (from ipython>=4.0.0->ipywidgets<8.0.0,>=7.0.0->azureml-widgets) (3.0.50)\n",
            "Requirement already satisfied: pexpect>4.3 in /anaconda/envs/azureml_py38/lib/python3.10/site-packages (from ipython>=4.0.0->ipywidgets<8.0.0,>=7.0.0->azureml-widgets) (4.9.0)\n",
            "Requirement already satisfied: decorator in /anaconda/envs/azureml_py38/lib/python3.10/site-packages (from ipython>=4.0.0->ipywidgets<8.0.0,>=7.0.0->azureml-widgets) (5.2.1)\n",
            "Requirement already satisfied: fastjsonschema>=2.15 in /anaconda/envs/azureml_py38/lib/python3.10/site-packages (from nbformat>=4.2.0->ipywidgets<8.0.0,>=7.0.0->azureml-widgets) (2.21.1)\n",
            "Requirement already satisfied: opentelemetry-instrumentation==0.58b0 in /anaconda/envs/azureml_py38/lib/python3.10/site-packages (from opentelemetry-instrumentation-django~=0.57b0->azure-monitor-opentelemetry->azure-ai-ml) (0.58b0)\n",
            "Requirement already satisfied: opentelemetry-util-http==0.58b0 in /anaconda/envs/azureml_py38/lib/python3.10/site-packages (from opentelemetry-instrumentation-django~=0.57b0->azure-monitor-opentelemetry->azure-ai-ml) (0.58b0)\n",
            "Requirement already satisfied: opentelemetry-instrumentation-wsgi==0.58b0 in /anaconda/envs/azureml_py38/lib/python3.10/site-packages (from opentelemetry-instrumentation-django~=0.57b0->azure-monitor-opentelemetry->azure-ai-ml) (0.58b0)\n",
            "Requirement already satisfied: opentelemetry-semantic-conventions==0.58b0 in /anaconda/envs/azureml_py38/lib/python3.10/site-packages (from opentelemetry-instrumentation-django~=0.57b0->azure-monitor-opentelemetry->azure-ai-ml) (0.58b0)\n",
            "Requirement already satisfied: wrapt<2.0.0,>=1.0.0 in /anaconda/envs/azureml_py38/lib/python3.10/site-packages (from opentelemetry-instrumentation==0.58b0->opentelemetry-instrumentation-django~=0.57b0->azure-monitor-opentelemetry->azure-ai-ml) (1.14.1)\n",
            "Requirement already satisfied: importlib-metadata<8.8.0,>=6.0 in /anaconda/envs/azureml_py38/lib/python3.10/site-packages (from opentelemetry-api>=1.12.0->azure-core-tracing-opentelemetry~=1.0.0b11->azure-monitor-opentelemetry->azure-ai-ml) (8.2.0)\n",
            "Requirement already satisfied: opentelemetry-instrumentation-asgi==0.58b0 in /anaconda/envs/azureml_py38/lib/python3.10/site-packages (from opentelemetry-instrumentation-fastapi~=0.57b0->azure-monitor-opentelemetry->azure-ai-ml) (0.58b0)\n",
            "Requirement already satisfied: asgiref~=3.0 in /anaconda/envs/azureml_py38/lib/python3.10/site-packages (from opentelemetry-instrumentation-asgi==0.58b0->opentelemetry-instrumentation-fastapi~=0.57b0->azure-monitor-opentelemetry->azure-ai-ml) (3.9.2)\n",
            "Requirement already satisfied: opentelemetry-instrumentation-dbapi==0.58b0 in /anaconda/envs/azureml_py38/lib/python3.10/site-packages (from opentelemetry-instrumentation-psycopg2~=0.57b0->azure-monitor-opentelemetry->azure-ai-ml) (0.58b0)\n",
            "Requirement already satisfied: numpy>=1.16.6 in /anaconda/envs/azureml_py38/lib/python3.10/site-packages (from pyarrow>=0.17.0->azureml-dataprep[parquet]<5.5.0a,>=5.1.0a->mltable) (1.23.5)\n",
            "Requirement already satisfied: oauthlib>=3.0.0 in /anaconda/envs/azureml_py38/lib/python3.10/site-packages (from requests-oauthlib>=0.5.0->msrest<=0.7.1,>=0.5.1->azureml-core) (3.2.2)\n",
            "Requirement already satisfied: notebook>=4.4.1 in /anaconda/envs/azureml_py38/lib/python3.10/site-packages (from widgetsnbextension~=3.0.0->ipywidgets<8.0.0,>=7.0.0->azureml-widgets) (6.5.7)\n",
            "Requirement already satisfied: parso<0.9.0,>=0.8.0 in /anaconda/envs/azureml_py38/lib/python3.10/site-packages (from jedi>=0.16->ipython>=4.0.0->ipywidgets<8.0.0,>=7.0.0->azureml-widgets) (0.8.4)\n",
            "Requirement already satisfied: entrypoints in /anaconda/envs/azureml_py38/lib/python3.10/site-packages (from jupyter-client>=6.1.12->ipykernel>=4.5.1->ipywidgets<8.0.0,>=7.0.0->azureml-widgets) (0.4)\n",
            "Requirement already satisfied: platformdirs>=2.5 in /anaconda/envs/azureml_py38/lib/python3.10/site-packages (from jupyter-core!=5.0.*,>=4.12->ipykernel>=4.5.1->ipywidgets<8.0.0,>=7.0.0->azureml-widgets) (4.3.8)\n",
            "Requirement already satisfied: argon2-cffi in /anaconda/envs/azureml_py38/lib/python3.10/site-packages (from notebook>=4.4.1->widgetsnbextension~=3.0.0->ipywidgets<8.0.0,>=7.0.0->azureml-widgets) (25.1.0)\n",
            "Requirement already satisfied: nbclassic>=0.4.7 in /anaconda/envs/azureml_py38/lib/python3.10/site-packages (from notebook>=4.4.1->widgetsnbextension~=3.0.0->ipywidgets<8.0.0,>=7.0.0->azureml-widgets) (1.3.1)\n",
            "Requirement already satisfied: prometheus-client in /anaconda/envs/azureml_py38/lib/python3.10/site-packages (from notebook>=4.4.1->widgetsnbextension~=3.0.0->ipywidgets<8.0.0,>=7.0.0->azureml-widgets) (0.22.1)\n",
            "Requirement already satisfied: Send2Trash>=1.8.0 in /anaconda/envs/azureml_py38/lib/python3.10/site-packages (from notebook>=4.4.1->widgetsnbextension~=3.0.0->ipywidgets<8.0.0,>=7.0.0->azureml-widgets) (1.8.3)\n",
            "Requirement already satisfied: nbconvert>=5 in /anaconda/envs/azureml_py38/lib/python3.10/site-packages (from notebook>=4.4.1->widgetsnbextension~=3.0.0->ipywidgets<8.0.0,>=7.0.0->azureml-widgets) (7.16.6)\n",
            "Requirement already satisfied: terminado>=0.8.3 in /anaconda/envs/azureml_py38/lib/python3.10/site-packages (from notebook>=4.4.1->widgetsnbextension~=3.0.0->ipywidgets<8.0.0,>=7.0.0->azureml-widgets) (0.18.1)\n",
            "Requirement already satisfied: ipython-genutils in /anaconda/envs/azureml_py38/lib/python3.10/site-packages (from notebook>=4.4.1->widgetsnbextension~=3.0.0->ipywidgets<8.0.0,>=7.0.0->azureml-widgets) (0.2.0)\n",
            "Requirement already satisfied: ptyprocess>=0.5 in /anaconda/envs/azureml_py38/lib/python3.10/site-packages (from pexpect>4.3->ipython>=4.0.0->ipywidgets<8.0.0,>=7.0.0->azureml-widgets) (0.7.0)\n",
            "Requirement already satisfied: wcwidth in /anaconda/envs/azureml_py38/lib/python3.10/site-packages (from prompt_toolkit<3.1.0,>=3.0.41->ipython>=4.0.0->ipywidgets<8.0.0,>=7.0.0->azureml-widgets) (0.2.13)\n",
            "Requirement already satisfied: asttokens>=2.1.0 in /anaconda/envs/azureml_py38/lib/python3.10/site-packages (from stack_data->ipython>=4.0.0->ipywidgets<8.0.0,>=7.0.0->azureml-widgets) (3.0.0)\n",
            "Requirement already satisfied: executing>=1.2.0 in /anaconda/envs/azureml_py38/lib/python3.10/site-packages (from stack_data->ipython>=4.0.0->ipywidgets<8.0.0,>=7.0.0->azureml-widgets) (2.2.0)\n",
            "Requirement already satisfied: pure-eval in /anaconda/envs/azureml_py38/lib/python3.10/site-packages (from stack_data->ipython>=4.0.0->ipywidgets<8.0.0,>=7.0.0->azureml-widgets) (0.2.3)\n",
            "Requirement already satisfied: zipp>=0.5 in /anaconda/envs/azureml_py38/lib/python3.10/site-packages (from importlib-metadata<8.8.0,>=6.0->opentelemetry-api>=1.12.0->azure-core-tracing-opentelemetry~=1.0.0b11->azure-monitor-opentelemetry->azure-ai-ml) (3.19.2)\n",
            "Requirement already satisfied: notebook-shim>=0.2.3 in /anaconda/envs/azureml_py38/lib/python3.10/site-packages (from nbclassic>=0.4.7->notebook>=4.4.1->widgetsnbextension~=3.0.0->ipywidgets<8.0.0,>=7.0.0->azureml-widgets) (0.2.4)\n",
            "Requirement already satisfied: bleach[css]!=5.0.0 in /anaconda/envs/azureml_py38/lib/python3.10/site-packages (from nbconvert>=5->notebook>=4.4.1->widgetsnbextension~=3.0.0->ipywidgets<8.0.0,>=7.0.0->azureml-widgets) (6.2.0)\n",
            "Requirement already satisfied: nbclient>=0.5.0 in /anaconda/envs/azureml_py38/lib/python3.10/site-packages (from nbconvert>=5->notebook>=4.4.1->widgetsnbextension~=3.0.0->ipywidgets<8.0.0,>=7.0.0->azureml-widgets) (0.10.2)\n",
            "Requirement already satisfied: jupyterlab-pygments in /anaconda/envs/azureml_py38/lib/python3.10/site-packages (from nbconvert>=5->notebook>=4.4.1->widgetsnbextension~=3.0.0->ipywidgets<8.0.0,>=7.0.0->azureml-widgets) (0.3.0)\n",
            "Requirement already satisfied: beautifulsoup4 in /anaconda/envs/azureml_py38/lib/python3.10/site-packages (from nbconvert>=5->notebook>=4.4.1->widgetsnbextension~=3.0.0->ipywidgets<8.0.0,>=7.0.0->azureml-widgets) (4.13.4)\n",
            "Requirement already satisfied: defusedxml in /anaconda/envs/azureml_py38/lib/python3.10/site-packages (from nbconvert>=5->notebook>=4.4.1->widgetsnbextension~=3.0.0->ipywidgets<8.0.0,>=7.0.0->azureml-widgets) (0.7.1)\n",
            "Requirement already satisfied: pandocfilters>=1.4.1 in /anaconda/envs/azureml_py38/lib/python3.10/site-packages (from nbconvert>=5->notebook>=4.4.1->widgetsnbextension~=3.0.0->ipywidgets<8.0.0,>=7.0.0->azureml-widgets) (1.5.1)\n",
            "Requirement already satisfied: mistune<4,>=2.0.3 in /anaconda/envs/azureml_py38/lib/python3.10/site-packages (from nbconvert>=5->notebook>=4.4.1->widgetsnbextension~=3.0.0->ipywidgets<8.0.0,>=7.0.0->azureml-widgets) (3.1.3)\n",
            "Requirement already satisfied: argon2-cffi-bindings in /anaconda/envs/azureml_py38/lib/python3.10/site-packages (from argon2-cffi->notebook>=4.4.1->widgetsnbextension~=3.0.0->ipywidgets<8.0.0,>=7.0.0->azureml-widgets) (21.2.0)\n",
            "Requirement already satisfied: webencodings in /anaconda/envs/azureml_py38/lib/python3.10/site-packages (from bleach[css]!=5.0.0->nbconvert>=5->notebook>=4.4.1->widgetsnbextension~=3.0.0->ipywidgets<8.0.0,>=7.0.0->azureml-widgets) (0.5.1)\n",
            "Requirement already satisfied: tinycss2<1.5,>=1.1.0 in /anaconda/envs/azureml_py38/lib/python3.10/site-packages (from bleach[css]!=5.0.0->nbconvert>=5->notebook>=4.4.1->widgetsnbextension~=3.0.0->ipywidgets<8.0.0,>=7.0.0->azureml-widgets) (1.4.0)\n",
            "Requirement already satisfied: jupyter-server<3,>=1.8 in /anaconda/envs/azureml_py38/lib/python3.10/site-packages (from notebook-shim>=0.2.3->nbclassic>=0.4.7->notebook>=4.4.1->widgetsnbextension~=3.0.0->ipywidgets<8.0.0,>=7.0.0->azureml-widgets) (2.16.0)\n",
            "Requirement already satisfied: soupsieve>1.2 in /anaconda/envs/azureml_py38/lib/python3.10/site-packages (from beautifulsoup4->nbconvert>=5->notebook>=4.4.1->widgetsnbextension~=3.0.0->ipywidgets<8.0.0,>=7.0.0->azureml-widgets) (2.7)\n",
            "Requirement already satisfied: anyio>=3.1.0 in /anaconda/envs/azureml_py38/lib/python3.10/site-packages (from jupyter-server<3,>=1.8->notebook-shim>=0.2.3->nbclassic>=0.4.7->notebook>=4.4.1->widgetsnbextension~=3.0.0->ipywidgets<8.0.0,>=7.0.0->azureml-widgets) (4.9.0)\n",
            "Requirement already satisfied: jupyter-events>=0.11.0 in /anaconda/envs/azureml_py38/lib/python3.10/site-packages (from jupyter-server<3,>=1.8->notebook-shim>=0.2.3->nbclassic>=0.4.7->notebook>=4.4.1->widgetsnbextension~=3.0.0->ipywidgets<8.0.0,>=7.0.0->azureml-widgets) (0.12.0)\n",
            "Requirement already satisfied: websocket-client>=1.7 in /anaconda/envs/azureml_py38/lib/python3.10/site-packages (from jupyter-server<3,>=1.8->notebook-shim>=0.2.3->nbclassic>=0.4.7->notebook>=4.4.1->widgetsnbextension~=3.0.0->ipywidgets<8.0.0,>=7.0.0->azureml-widgets) (1.8.0)\n",
            "Requirement already satisfied: overrides>=5.0 in /anaconda/envs/azureml_py38/lib/python3.10/site-packages (from jupyter-server<3,>=1.8->notebook-shim>=0.2.3->nbclassic>=0.4.7->notebook>=4.4.1->widgetsnbextension~=3.0.0->ipywidgets<8.0.0,>=7.0.0->azureml-widgets) (7.7.0)\n",
            "Requirement already satisfied: jupyter-server-terminals>=0.4.4 in /anaconda/envs/azureml_py38/lib/python3.10/site-packages (from jupyter-server<3,>=1.8->notebook-shim>=0.2.3->nbclassic>=0.4.7->notebook>=4.4.1->widgetsnbextension~=3.0.0->ipywidgets<8.0.0,>=7.0.0->azureml-widgets) (0.5.3)\n",
            "Requirement already satisfied: sniffio>=1.1 in /anaconda/envs/azureml_py38/lib/python3.10/site-packages (from anyio>=3.1.0->jupyter-server<3,>=1.8->notebook-shim>=0.2.3->nbclassic>=0.4.7->notebook>=4.4.1->widgetsnbextension~=3.0.0->ipywidgets<8.0.0,>=7.0.0->azureml-widgets) (1.3.1)\n",
            "Requirement already satisfied: python-json-logger>=2.0.4 in /anaconda/envs/azureml_py38/lib/python3.10/site-packages (from jupyter-events>=0.11.0->jupyter-server<3,>=1.8->notebook-shim>=0.2.3->nbclassic>=0.4.7->notebook>=4.4.1->widgetsnbextension~=3.0.0->ipywidgets<8.0.0,>=7.0.0->azureml-widgets) (3.3.0)\n",
            "Requirement already satisfied: rfc3986-validator>=0.1.1 in /anaconda/envs/azureml_py38/lib/python3.10/site-packages (from jupyter-events>=0.11.0->jupyter-server<3,>=1.8->notebook-shim>=0.2.3->nbclassic>=0.4.7->notebook>=4.4.1->widgetsnbextension~=3.0.0->ipywidgets<8.0.0,>=7.0.0->azureml-widgets) (0.1.1)\n",
            "Requirement already satisfied: rfc3339-validator in /anaconda/envs/azureml_py38/lib/python3.10/site-packages (from jupyter-events>=0.11.0->jupyter-server<3,>=1.8->notebook-shim>=0.2.3->nbclassic>=0.4.7->notebook>=4.4.1->widgetsnbextension~=3.0.0->ipywidgets<8.0.0,>=7.0.0->azureml-widgets) (0.1.4)\n",
            "Requirement already satisfied: webcolors>=24.6.0 in /anaconda/envs/azureml_py38/lib/python3.10/site-packages (from jsonschema<5.0.0,>=4.0.0->azure-ai-ml) (24.11.1)\n",
            "Requirement already satisfied: isoduration in /anaconda/envs/azureml_py38/lib/python3.10/site-packages (from jsonschema<5.0.0,>=4.0.0->azure-ai-ml) (20.11.0)\n",
            "Requirement already satisfied: jsonpointer>1.13 in /anaconda/envs/azureml_py38/lib/python3.10/site-packages (from jsonschema<5.0.0,>=4.0.0->azure-ai-ml) (3.0.0)\n",
            "Requirement already satisfied: fqdn in /anaconda/envs/azureml_py38/lib/python3.10/site-packages (from jsonschema<5.0.0,>=4.0.0->azure-ai-ml) (1.5.1)\n",
            "Requirement already satisfied: uri-template in /anaconda/envs/azureml_py38/lib/python3.10/site-packages (from jsonschema<5.0.0,>=4.0.0->azure-ai-ml) (1.3.0)\n",
            "Requirement already satisfied: arrow>=0.15.0 in /anaconda/envs/azureml_py38/lib/python3.10/site-packages (from isoduration->jsonschema<5.0.0,>=4.0.0->azure-ai-ml) (1.3.0)\n",
            "Requirement already satisfied: types-python-dateutil>=2.8.10 in /anaconda/envs/azureml_py38/lib/python3.10/site-packages (from arrow>=0.15.0->isoduration->jsonschema<5.0.0,>=4.0.0->azure-ai-ml) (2.9.0.20250708)\n"
          ]
        }
      ],
      "source": [
        "!pip install azure-identity azureml-core azureml-widgets azure-ai-ml mltable"
      ]
    },
    {
      "cell_type": "code",
      "execution_count": 1,
      "metadata": {
        "gather": {
          "logged": 1666789326586
        },
        "jupyter": {
          "outputs_hidden": false,
          "source_hidden": false
        },
        "nteract": {
          "transient": {
            "deleting": false
          }
        }
      },
      "outputs": [
        {
          "name": "stdout",
          "output_type": "stream",
          "text": [
            "Name: azure-ai-ml\n",
            "Version: 1.29.0\n",
            "Summary: Microsoft Azure Machine Learning Client Library for Python\n",
            "Home-page: https://github.com/Azure/azure-sdk-for-python\n",
            "Author: Microsoft Corporation\n",
            "Author-email: azuresdkengsysadmins@microsoft.com\n",
            "License: MIT License\n",
            "Location: /anaconda/envs/azureml_py38/lib/python3.10/site-packages\n",
            "Requires: azure-common, azure-core, azure-mgmt-core, azure-monitor-opentelemetry, azure-storage-blob, azure-storage-file-datalake, azure-storage-file-share, colorama, isodate, jsonschema, marshmallow, pydash, pyjwt, pyyaml, strictyaml, tqdm, typing-extensions\n",
            "Required-by: \n",
            "Note: you may need to restart the kernel to use updated packages.\n"
          ]
        }
      ],
      "source": [
        "pip show azure-ai-ml"
      ]
    },
    {
      "attachments": {},
      "cell_type": "markdown",
      "metadata": {
        "nteract": {
          "transient": {
            "deleting": false
          }
        }
      },
      "source": [
        "## Connect to your workspace\n",
        "\n",
        "With the required SDK packages installed, now you're ready to connect to your workspace.\n",
        "\n",
        "To connect to a workspace, we need identifier parameters - a subscription ID, resource group name, and workspace name. Since you're working with a compute instance, managed by Azure Machine Learning, you can use the default values to connect to the workspace."
      ]
    },
    {
      "cell_type": "code",
      "execution_count": 2,
      "metadata": {
        "gather": {
          "logged": 1666789343369
        },
        "jupyter": {
          "outputs_hidden": false,
          "source_hidden": false
        },
        "nteract": {
          "transient": {
            "deleting": false
          }
        }
      },
      "outputs": [],
      "source": [
        "from azure.identity import DefaultAzureCredential, InteractiveBrowserCredential\n",
        "from azure.ai.ml import MLClient\n",
        "\n",
        "try:\n",
        "    credential = DefaultAzureCredential()\n",
        "    # Check if given credential can get token successfully.\n",
        "    credential.get_token(\"https://management.azure.com/.default\")\n",
        "except Exception as ex:\n",
        "    # Fall back to InteractiveBrowserCredential in case DefaultAzureCredential not work\n",
        "    credential = InteractiveBrowserCredential()\n"
      ]
    },
    {
      "cell_type": "code",
      "execution_count": 3,
      "metadata": {},
      "outputs": [
        {
          "name": "stderr",
          "output_type": "stream",
          "text": [
            "Found the config file in: /config.json\n"
          ]
        }
      ],
      "source": [
        "# Get a handle to workspace\n",
        "ml_client = MLClient.from_config(credential=credential)"
      ]
    },
    {
      "cell_type": "code",
      "execution_count": 6,
      "metadata": {},
      "outputs": [
        {
          "name": "stdout",
          "output_type": "stream",
          "text": [
            "Current working directory: /mnt/batch/tasks/shared/LS_root/mounts/clusters/ciizzumanid2v3/code\n",
            "Successfully changed to: /mnt/batch/tasks/shared/LS_root/mounts/clusters/ciizzumanid2v3/code/Users/isaac.njiru/azure-ml-labs/Labs/03\n",
            "Files in current directory: ['.amlignore', '.amlignore.amltmp', '.ipynb_aml_checkpoints', 'data', 'setup.sh', 'src', 'Work with data.ipynb']\n",
            "Final working directory: /mnt/batch/tasks/shared/LS_root/mounts/clusters/ciizzumanid2v3/code/Users/isaac.njiru/azure-ml-labs/Labs/03\n"
          ]
        }
      ],
      "source": [
        "import os\n",
        "# Get the current working directory\n",
        "current_dir = os.getcwd()\n",
        "print(\"Current working directory:\", current_dir)\n",
        "\n",
        "# Set the correct directory path based on your terminal location\n",
        "target_dir = \"/home/azureuser/cloudfiles/code/Users/isaac.njiru/azure-ml-labs/Labs/03\"\n",
        "\n",
        "# Change to the target directory\n",
        "try:\n",
        "    os.chdir(target_dir)\n",
        "    print(\"Successfully changed to:\", os.getcwd())\n",
        "    \n",
        "    # List files to verify we're in the right place\n",
        "    print(\"Files in current directory:\", os.listdir('.'))\n",
        "  \n",
        "except FileNotFoundError:\n",
        "    print(f\"Directory {target_dir} not found\")\n",
        "except PermissionError:\n",
        "    print(f\"Permission denied to access {target_dir}\")\n",
        "    \n",
        "print(\"Final working directory:\", os.getcwd())"
      ]
    },
    {
      "attachments": {},
      "cell_type": "markdown",
      "metadata": {
        "nteract": {
          "transient": {
            "deleting": false
          }
        }
      },
      "source": [
        "## List the datastores\n",
        "\n",
        "When you create the Azure Machine Learning workspace, an Azure Storage Account is created too. The Storage Account includes Blob and file storage and are automatically connected with your workspace as **datastores**. You can list all datastores connected to your workspace:"
      ]
    },
    {
      "cell_type": "code",
      "execution_count": 7,
      "metadata": {
        "gather": {
          "logged": 1666790805418
        },
        "jupyter": {
          "outputs_hidden": false,
          "source_hidden": false
        },
        "nteract": {
          "transient": {
            "deleting": false
          }
        }
      },
      "outputs": [
        {
          "name": "stdout",
          "output_type": "stream",
          "text": [
            "workspaceartifactstore\n",
            "workspaceworkingdirectory\n",
            "workspacefilestore\n",
            "workspaceblobstore\n"
          ]
        }
      ],
      "source": [
        "stores = ml_client.datastores.list()\n",
        "for ds_name in stores:\n",
        "    print(ds_name.name)"
      ]
    },
    {
      "attachments": {},
      "cell_type": "markdown",
      "metadata": {},
      "source": [
        "Note the `workspaceblobstore` which connects to the **azureml-blobstore-...** container you explored earlier. The `workspacefilestore` connects to the **code-...** file share."
      ]
    },
    {
      "attachments": {},
      "cell_type": "markdown",
      "metadata": {
        "nteract": {
          "transient": {
            "deleting": false
          }
        }
      },
      "source": [
        "## Create a datastore\n",
        "\n",
        "Whenever you want to connect another Azure storage service with the Azure Machine Learning workspace, you can create a datastore. Note that creating a datastore, creates the connection between your workspace and the storage, it doesn't create the storage service itself. \n",
        "\n",
        "To create a datastore and connect to a (already existing) storage, you'll need to specify:\n",
        "\n",
        "- The class to indicate with what type of storage service you want to connect. The example below connects to a Blob storage (`AzureBlobDatastore`).\n",
        "- `name`: The display name of the datastore in the Azure Machine Learning workspace.\n",
        "- `description`: Optional description to provide more information about the datastore.\n",
        "- `account_name`: The name of the Azure Storage Account.\n",
        "- `container_name`: The name of the container to store blobs in the Azure Storage Account.\n",
        "- `credentials`: Provide the method of authentication and the credentials to authenticate. The example below uses an account key.\n",
        "\n",
        "**Important**: \n",
        "- Replace the **YOUR-STORAGE-ACCOUNT-NAME** with the name of the Storage Account that was automatically created for you. \n",
        "- Replace the **XXXX-XXXX** for `account_key` with the account key of your Azure Storage Account. \n",
        "\n",
        "Remember you can retrieve the account key by navigating to the [Azure portal](https://portal.azure.com), go to your Storage Account, from the **Access keys** tab, copy the **Key** value for key1 or key2. "
      ]
    },
    {
      "cell_type": "code",
      "execution_count": null,
      "metadata": {
        "gather": {
          "logged": 1666790818340
        },
        "jupyter": {
          "outputs_hidden": false,
          "source_hidden": false
        },
        "nteract": {
          "transient": {
            "deleting": false
          }
        }
      },
      "outputs": [
        {
          "data": {
            "text/plain": [
              "AzureBlobDatastore({'type': <DatastoreType.AZURE_BLOB: 'AzureBlob'>, 'name': 'blob_training_data', 'description': 'Blob Storage for training data', 'tags': {}, 'properties': {}, 'print_as_yaml': False, 'id': '/subscriptions/d9965121-bf98-41dd-bbad-a55f0233b417/resourceGroups/rg-dp100-labs-01-10-0712/providers/Microsoft.MachineLearningServices/workspaces/mlw-dp100-labs/datastores/blob_training_data', 'Resource__source_path': '', 'base_path': '/mnt/batch/tasks/shared/LS_root/mounts/clusters/ciizzumanid2v3/code/Users/isaac.njiru/azure-ml-labs/Labs/03', 'creation_context': None, 'serialize': <msrest.serialization.Serializer object at 0x73608b6c5120>, 'credentials': {'type': 'account_key'}, 'container_name': 'training-data', 'account_name': 'mlwdp100labs5637910263', 'endpoint': 'core.windows.net', 'protocol': 'https'})"
            ]
          },
          "execution_count": 12,
          "metadata": {},
          "output_type": "execute_result"
        }
      ],
      "source": [
        "from azure.ai.ml.entities import AzureBlobDatastore\n",
        "from azure.ai.ml.entities import AccountKeyConfiguration\n",
        "\n",
        "store = AzureBlobDatastore(\n",
        "    name=\"blob_training_data\",\n",
        "    description=\"Blob Storage for training data\",\n",
        "    account_name=\"mlwdp100labs5637910263\",\n",
        "    container_name=\"training-data\", \n",
        "    credentials=AccountKeyConfiguration(\n",
        "        account_key=os.getenv(\"AZURE_STORAGE_ACCOUNT_KEY\", \"<ACCOUNT_KEY_GOES_HERE>\")  # Use environment variable\n",
        "    )\n",
        "    )\n",
        "ml_client.create_or_update(store)"
      ]
    },
    {
      "attachments": {},
      "cell_type": "markdown",
      "metadata": {
        "nteract": {
          "transient": {
            "deleting": false
          }
        }
      },
      "source": [
        "List the datastores again to verify that a new datastore named `blob_training_data` has been created:"
      ]
    },
    {
      "cell_type": "code",
      "execution_count": 13,
      "metadata": {
        "gather": {
          "logged": 1666790835295
        },
        "jupyter": {
          "outputs_hidden": false,
          "source_hidden": false
        },
        "nteract": {
          "transient": {
            "deleting": false
          }
        }
      },
      "outputs": [
        {
          "name": "stdout",
          "output_type": "stream",
          "text": [
            "blob_training_data\n",
            "workspaceartifactstore\n",
            "workspaceworkingdirectory\n",
            "workspacefilestore\n",
            "workspaceblobstore\n"
          ]
        }
      ],
      "source": [
        "stores = ml_client.datastores.list()\n",
        "for ds_name in stores:\n",
        "    print(ds_name.name)"
      ]
    },
    {
      "cell_type": "code",
      "execution_count": 14,
      "metadata": {},
      "outputs": [
        {
          "name": "stdout",
          "output_type": "stream",
          "text": [
            "Current working directory: /mnt/batch/tasks/shared/LS_root/mounts/clusters/ciizzumanid2v3/code/Users/isaac.njiru/azure-ml-labs/Labs/03\n",
            "Successfully changed to: /mnt/batch/tasks/shared/LS_root/mounts/clusters/ciizzumanid2v3/code/Users/isaac.njiru/azure-ml-labs/Labs/03\n",
            "Files in current directory: ['.amlignore', '.amlignore.amltmp', '.ipynb_aml_checkpoints', 'data', 'setup.sh', 'src', 'Work with data.ipynb']\n",
            "Data directory exists\n",
            "Files in data directory: ['diabetes.csv', 'MLTable']\n",
            "Final working directory: /mnt/batch/tasks/shared/LS_root/mounts/clusters/ciizzumanid2v3/code/Users/isaac.njiru/azure-ml-labs/Labs/03\n"
          ]
        }
      ],
      "source": [
        "import os\n",
        "# Get the current working directory\n",
        "current_dir = os.getcwd()\n",
        "print(\"Current working directory:\", current_dir)\n",
        "\n",
        "# Set the correct directory path based on your terminal location\n",
        "target_dir = \"/home/azureuser/cloudfiles/code/Users/isaac.njiru/azure-ml-labs/Labs/03\"\n",
        "\n",
        "# Change to the target directory\n",
        "try:\n",
        "    os.chdir(target_dir)\n",
        "    print(\"Successfully changed to:\", os.getcwd())\n",
        "    \n",
        "    # List files to verify we're in the right place\n",
        "    print(\"Files in current directory:\", os.listdir('.'))\n",
        "    \n",
        "    # Check if data directory exists, if not create it\n",
        "    if not os.path.exists('data'):\n",
        "        print(\"Data directory doesn't exist, creating it...\")\n",
        "        os.makedirs('data', exist_ok=True)\n",
        "        print(\"Data directory created\")\n",
        "    else:\n",
        "        print(\"Data directory exists\")\n",
        "        print(\"Files in data directory:\", os.listdir('data'))\n",
        "        \n",
        "except FileNotFoundError:\n",
        "    print(f\"Directory {target_dir} not found\")\n",
        "except PermissionError:\n",
        "    print(f\"Permission denied to access {target_dir}\")\n",
        "    \n",
        "print(\"Final working directory:\", os.getcwd())"
      ]
    },
    {
      "attachments": {},
      "cell_type": "markdown",
      "metadata": {
        "nteract": {
          "transient": {
            "deleting": false
          }
        }
      },
      "source": [
        "## Create data assets\n",
        "\n",
        "To point to a specific folder or file in a datastore, you can create data assets. There are three types of data assets:\n",
        "\n",
        "- `URI_FILE` points to a specific file.\n",
        "- `URI_FOLDER` points to a specific folder.\n",
        "- `MLTABLE` points to a MLTable file which specifies how to read one or more files within a folder.\n",
        "\n",
        "You'll create all three types of data assets to experience the differences between them."
      ]
    },
    {
      "attachments": {},
      "cell_type": "markdown",
      "metadata": {
        "nteract": {
          "transient": {
            "deleting": false
          }
        }
      },
      "source": [
        "To create a `URI_FILE` data asset, you have to specify a path that points to a specific file. The path can be a local path or cloud path.\n",
        "\n",
        "In the example below, you'll create a data asset by referencing a *local* path. To ensure the data is always available when working with the Azure Machine Learning workspace, local files will automatically be uploaded to the default datastore. In this case, the `diabetes.csv` file will be uploaded to **LocalUpload** folder in the **workspaceblobstore** datastore. \n",
        "\n",
        "To create a data asset from a local file, run the following cell:"
      ]
    },
    {
      "cell_type": "code",
      "execution_count": 15,
      "metadata": {
        "gather": {
          "logged": 1666790852019
        },
        "jupyter": {
          "outputs_hidden": false,
          "source_hidden": false
        },
        "nteract": {
          "transient": {
            "deleting": false
          }
        }
      },
      "outputs": [
        {
          "name": "stderr",
          "output_type": "stream",
          "text": [
            "\u001b[32mUploading diabetes.csv\u001b[32m (< 1 MB): 100%|██████████| 518k/518k [00:00<00:00, 12.5MB/s]\n",
            "\u001b[39m\n",
            "\n"
          ]
        },
        {
          "data": {
            "text/plain": [
              "Data({'path': 'azureml://subscriptions/d9965121-bf98-41dd-bbad-a55f0233b417/resourcegroups/rg-dp100-labs-01-10-0712/workspaces/mlw-dp100-labs/datastores/workspaceblobstore/paths/LocalUpload/3d8efe6c7dafbd432031e3f030cc92dd5acd9da03214f6d3ac06b02ed81cc551/diabetes.csv', 'skip_validation': False, 'mltable_schema_url': None, 'referenced_uris': None, 'type': 'uri_file', 'is_anonymous': False, 'auto_increment_version': False, 'auto_delete_setting': None, 'name': 'diabetes-local', 'description': 'Data asset pointing to a local file, automatically uploaded to the default datastore', 'tags': {}, 'properties': {}, 'print_as_yaml': False, 'id': '/subscriptions/d9965121-bf98-41dd-bbad-a55f0233b417/resourceGroups/rg-dp100-labs-01-10-0712/providers/Microsoft.MachineLearningServices/workspaces/mlw-dp100-labs/data/diabetes-local/versions/1', 'Resource__source_path': '', 'base_path': '/mnt/batch/tasks/shared/LS_root/mounts/clusters/ciizzumanid2v3/code/Users/isaac.njiru/azure-ml-labs/Labs/03', 'creation_context': <azure.ai.ml.entities._system_data.SystemData object at 0x73608b6c43d0>, 'serialize': <msrest.serialization.Serializer object at 0x73608b467f40>, 'version': '1', 'latest_version': None, 'datastore': None})"
            ]
          },
          "execution_count": 15,
          "metadata": {},
          "output_type": "execute_result"
        }
      ],
      "source": [
        "from azure.ai.ml.entities import Data\n",
        "from azure.ai.ml.constants import AssetTypes\n",
        "\n",
        "my_path = './data/diabetes.csv'\n",
        "\n",
        "my_data = Data(\n",
        "    path=my_path,\n",
        "    type=AssetTypes.URI_FILE,\n",
        "    description=\"Data asset pointing to a local file, automatically uploaded to the default datastore\",\n",
        "    name=\"diabetes-local\"\n",
        ")\n",
        "\n",
        "ml_client.data.create_or_update(my_data)"
      ]
    },
    {
      "attachments": {},
      "cell_type": "markdown",
      "metadata": {
        "nteract": {
          "transient": {
            "deleting": false
          }
        }
      },
      "source": [
        "To create a `URI_FOLDER` data asset, you have to specify a path that points to a specific folder. The path can be a local path or cloud path.\n",
        "\n",
        "In the example below, you'll create a data asset by referencing a *cloud* path. The path doesn't have to exist yet. The folder will be created when data is uploaded to the path."
      ]
    },
    {
      "cell_type": "code",
      "execution_count": 16,
      "metadata": {
        "gather": {
          "logged": 1666793449117
        },
        "jupyter": {
          "outputs_hidden": false,
          "source_hidden": false
        },
        "nteract": {
          "transient": {
            "deleting": false
          }
        }
      },
      "outputs": [
        {
          "data": {
            "text/plain": [
              "Data({'path': 'azureml://subscriptions/d9965121-bf98-41dd-bbad-a55f0233b417/resourcegroups/rg-dp100-labs-01-10-0712/workspaces/mlw-dp100-labs/datastores/blob_training_data/paths/data-asset-path/', 'skip_validation': False, 'mltable_schema_url': None, 'referenced_uris': None, 'type': 'uri_folder', 'is_anonymous': False, 'auto_increment_version': False, 'auto_delete_setting': None, 'name': 'diabetes-datastore-path', 'description': 'Data asset pointing to data-asset-path folder in datastore', 'tags': {}, 'properties': {}, 'print_as_yaml': False, 'id': '/subscriptions/d9965121-bf98-41dd-bbad-a55f0233b417/resourceGroups/rg-dp100-labs-01-10-0712/providers/Microsoft.MachineLearningServices/workspaces/mlw-dp100-labs/data/diabetes-datastore-path/versions/1', 'Resource__source_path': '', 'base_path': '/mnt/batch/tasks/shared/LS_root/mounts/clusters/ciizzumanid2v3/code/Users/isaac.njiru/azure-ml-labs/Labs/03', 'creation_context': <azure.ai.ml.entities._system_data.SystemData object at 0x73608b467490>, 'serialize': <msrest.serialization.Serializer object at 0x73608b4711b0>, 'version': '1', 'latest_version': None, 'datastore': None})"
            ]
          },
          "execution_count": 16,
          "metadata": {},
          "output_type": "execute_result"
        }
      ],
      "source": [
        "from azure.ai.ml.entities import Data\n",
        "from azure.ai.ml.constants import AssetTypes\n",
        "\n",
        "datastore_path = 'azureml://datastores/blob_training_data/paths/data-asset-path/'\n",
        "\n",
        "my_data = Data(\n",
        "    path=datastore_path,\n",
        "    type=AssetTypes.URI_FOLDER,\n",
        "    description=\"Data asset pointing to data-asset-path folder in datastore\",\n",
        "    name=\"diabetes-datastore-path\"\n",
        ")\n",
        "\n",
        "ml_client.data.create_or_update(my_data)"
      ]
    },
    {
      "attachments": {},
      "cell_type": "markdown",
      "metadata": {
        "nteract": {
          "transient": {
            "deleting": false
          }
        }
      },
      "source": [
        "To create a `MLTable` data asset, you have to specify a path that points to a folder which contains a MLTable file. The path can be a local path or cloud path. \n",
        "\n",
        "> **Note**:\n",
        "> Do **not** rename the `MLTable` file to `MLTable.yaml` or `MLTable.yml`. Azure machine learning expects an `MLTable` file.\n",
        "\n",
        "In the example below, you'll create a data asset by referencing a *local* path which contains an MLTable and CSV file. "
      ]
    },
    {
      "cell_type": "code",
      "execution_count": 17,
      "metadata": {
        "gather": {
          "logged": 1666790884342
        },
        "jupyter": {
          "outputs_hidden": false,
          "source_hidden": false
        },
        "nteract": {
          "transient": {
            "deleting": false
          }
        }
      },
      "outputs": [
        {
          "name": "stderr",
          "output_type": "stream",
          "text": [
            "\u001b[32mUploading data (0.52 MBs): 100%|██████████| 517896/517896 [00:00<00:00, 4410737.56it/s]\n",
            "\u001b[39m\n",
            "\n"
          ]
        },
        {
          "data": {
            "text/plain": [
              "Data({'path': 'azureml://subscriptions/d9965121-bf98-41dd-bbad-a55f0233b417/resourcegroups/rg-dp100-labs-01-10-0712/workspaces/mlw-dp100-labs/datastores/workspaceblobstore/paths/LocalUpload/32a0997b01adf0347a39538c1f758d76eadd8be3e4df52922ced541b5bf448d8/data/', 'skip_validation': False, 'mltable_schema_url': None, 'referenced_uris': ['./diabetes.csv'], 'type': 'mltable', 'is_anonymous': False, 'auto_increment_version': False, 'auto_delete_setting': None, 'name': 'diabetes-table', 'description': 'MLTable pointing to diabetes.csv in data folder', 'tags': {}, 'properties': {}, 'print_as_yaml': False, 'id': '/subscriptions/d9965121-bf98-41dd-bbad-a55f0233b417/resourceGroups/rg-dp100-labs-01-10-0712/providers/Microsoft.MachineLearningServices/workspaces/mlw-dp100-labs/data/diabetes-table/versions/1', 'Resource__source_path': '', 'base_path': '/mnt/batch/tasks/shared/LS_root/mounts/clusters/ciizzumanid2v3/code/Users/isaac.njiru/azure-ml-labs/Labs/03', 'creation_context': <azure.ai.ml.entities._system_data.SystemData object at 0x73608b4672b0>, 'serialize': <msrest.serialization.Serializer object at 0x73608b467430>, 'version': '1', 'latest_version': None, 'datastore': None})"
            ]
          },
          "execution_count": 17,
          "metadata": {},
          "output_type": "execute_result"
        }
      ],
      "source": [
        "from azure.ai.ml.entities import Data\n",
        "from azure.ai.ml.constants import AssetTypes\n",
        "\n",
        "local_path = 'data/'\n",
        "\n",
        "my_data = Data(\n",
        "    path=local_path,\n",
        "    type=AssetTypes.MLTABLE,\n",
        "    description=\"MLTable pointing to diabetes.csv in data folder\",\n",
        "    name=\"diabetes-table\"\n",
        ")\n",
        "\n",
        "ml_client.data.create_or_update(my_data)"
      ]
    },
    {
      "attachments": {},
      "cell_type": "markdown",
      "metadata": {
        "nteract": {
          "transient": {
            "deleting": false
          }
        }
      },
      "source": [
        "To verify that the new data assets have been created, you can list all data assets in the workspace again:"
      ]
    },
    {
      "cell_type": "code",
      "execution_count": 18,
      "metadata": {
        "gather": {
          "logged": 1666790894246
        },
        "jupyter": {
          "outputs_hidden": false,
          "source_hidden": false
        },
        "nteract": {
          "transient": {
            "deleting": false
          }
        }
      },
      "outputs": [
        {
          "name": "stdout",
          "output_type": "stream",
          "text": [
            "training-data\n",
            "diabetes-local\n",
            "diabetes-datastore-path\n",
            "diabetes-table\n"
          ]
        }
      ],
      "source": [
        "datasets = ml_client.data.list()\n",
        "for ds_name in datasets:\n",
        "    print(ds_name.name)"
      ]
    },
    {
      "attachments": {},
      "cell_type": "markdown",
      "metadata": {
        "nteract": {
          "transient": {
            "deleting": false
          }
        }
      },
      "source": [
        "## Read data in notebook\n",
        "\n",
        "Initially, you may want to work with data assets in notebooks, to explore the data and experiment with machine learning models. Any `URI_FILE` or `URI_FOLDER` type data assets are read as you would normally read data. For example, to read a CSV file a data asset points to, you can use the pandas function `read_csv()`. \n",
        "\n",
        "A `MLTable` type data asset is already *read* by the **MLTable** file, which specifies the schema and how to interpret the data. Since the data is already *read*, you can easily convert a MLTable data asset to a pandas dataframe. \n",
        "\n",
        "You'll need to install the `mltable` library (which you did in the terminal). Then, you can convert the data asset to a dataframe and visualize the data.  "
      ]
    },
    {
      "cell_type": "code",
      "execution_count": 18,
      "metadata": {
        "gather": {
          "logged": 1666792246101
        },
        "jupyter": {
          "outputs_hidden": false,
          "source_hidden": false
        },
        "nteract": {
          "transient": {
            "deleting": false
          }
        }
      },
      "outputs": [
        {
          "name": "stderr",
          "output_type": "stream",
          "text": [
            "Overriding of current TracerProvider is not allowed\n",
            "Overriding of current LoggerProvider is not allowed\n",
            "Overriding of current MeterProvider is not allowed\n",
            "Attempting to instrument while already instrumented\n",
            "Attempting to instrument while already instrumented\n",
            "Attempting to instrument while already instrumented\n",
            "Attempting to instrument while already instrumented\n",
            "Attempting to instrument while already instrumented\n",
            "Attempting to instrument while already instrumented\n",
            "Overriding of current TracerProvider is not allowed\n",
            "Overriding of current LoggerProvider is not allowed\n",
            "Overriding of current MeterProvider is not allowed\n",
            "Attempting to instrument while already instrumented\n",
            "Attempting to instrument while already instrumented\n",
            "Attempting to instrument while already instrumented\n",
            "Attempting to instrument while already instrumented\n",
            "Attempting to instrument while already instrumented\n",
            "Attempting to instrument while already instrumented\n",
            "Overriding of current TracerProvider is not allowed\n",
            "Overriding of current LoggerProvider is not allowed\n",
            "Overriding of current MeterProvider is not allowed\n",
            "Attempting to instrument while already instrumented\n",
            "Attempting to instrument while already instrumented\n",
            "Attempting to instrument while already instrumented\n",
            "Attempting to instrument while already instrumented\n",
            "Attempting to instrument while already instrumented\n",
            "Attempting to instrument while already instrumented\n"
          ]
        },
        {
          "data": {
            "text/html": [
              "<div>\n",
              "<style scoped>\n",
              "    .dataframe tbody tr th:only-of-type {\n",
              "        vertical-align: middle;\n",
              "    }\n",
              "\n",
              "    .dataframe tbody tr th {\n",
              "        vertical-align: top;\n",
              "    }\n",
              "\n",
              "    .dataframe thead th {\n",
              "        text-align: right;\n",
              "    }\n",
              "</style>\n",
              "<table border=\"1\" class=\"dataframe\">\n",
              "  <thead>\n",
              "    <tr style=\"text-align: right;\">\n",
              "      <th></th>\n",
              "      <th>PatientID</th>\n",
              "      <th>Pregnancies</th>\n",
              "      <th>PlasmaGlucose</th>\n",
              "      <th>DiastolicBloodPressure</th>\n",
              "      <th>TricepsThickness</th>\n",
              "      <th>SerumInsulin</th>\n",
              "      <th>BMI</th>\n",
              "      <th>DiabetesPedigree</th>\n",
              "      <th>Age</th>\n",
              "      <th>Diabetic</th>\n",
              "    </tr>\n",
              "  </thead>\n",
              "  <tbody>\n",
              "    <tr>\n",
              "      <th>0</th>\n",
              "      <td>1354778</td>\n",
              "      <td>0</td>\n",
              "      <td>171</td>\n",
              "      <td>80</td>\n",
              "      <td>34</td>\n",
              "      <td>23</td>\n",
              "      <td>43.509726</td>\n",
              "      <td>1.213191</td>\n",
              "      <td>21</td>\n",
              "      <td>False</td>\n",
              "    </tr>\n",
              "    <tr>\n",
              "      <th>1</th>\n",
              "      <td>1147438</td>\n",
              "      <td>8</td>\n",
              "      <td>92</td>\n",
              "      <td>93</td>\n",
              "      <td>47</td>\n",
              "      <td>36</td>\n",
              "      <td>21.240576</td>\n",
              "      <td>0.158365</td>\n",
              "      <td>23</td>\n",
              "      <td>False</td>\n",
              "    </tr>\n",
              "    <tr>\n",
              "      <th>2</th>\n",
              "      <td>1640031</td>\n",
              "      <td>7</td>\n",
              "      <td>115</td>\n",
              "      <td>47</td>\n",
              "      <td>52</td>\n",
              "      <td>35</td>\n",
              "      <td>41.511523</td>\n",
              "      <td>0.079019</td>\n",
              "      <td>23</td>\n",
              "      <td>False</td>\n",
              "    </tr>\n",
              "    <tr>\n",
              "      <th>3</th>\n",
              "      <td>1883350</td>\n",
              "      <td>9</td>\n",
              "      <td>103</td>\n",
              "      <td>78</td>\n",
              "      <td>25</td>\n",
              "      <td>304</td>\n",
              "      <td>29.582192</td>\n",
              "      <td>1.282870</td>\n",
              "      <td>43</td>\n",
              "      <td>True</td>\n",
              "    </tr>\n",
              "    <tr>\n",
              "      <th>4</th>\n",
              "      <td>1424119</td>\n",
              "      <td>1</td>\n",
              "      <td>85</td>\n",
              "      <td>59</td>\n",
              "      <td>27</td>\n",
              "      <td>35</td>\n",
              "      <td>42.604536</td>\n",
              "      <td>0.549542</td>\n",
              "      <td>22</td>\n",
              "      <td>False</td>\n",
              "    </tr>\n",
              "  </tbody>\n",
              "</table>\n",
              "</div>"
            ],
            "text/plain": [
              "   PatientID  Pregnancies  PlasmaGlucose  DiastolicBloodPressure  \\\n",
              "0    1354778            0            171                      80   \n",
              "1    1147438            8             92                      93   \n",
              "2    1640031            7            115                      47   \n",
              "3    1883350            9            103                      78   \n",
              "4    1424119            1             85                      59   \n",
              "\n",
              "   TricepsThickness  SerumInsulin        BMI  DiabetesPedigree  Age  Diabetic  \n",
              "0                34            23  43.509726          1.213191   21     False  \n",
              "1                47            36  21.240576          0.158365   23     False  \n",
              "2                52            35  41.511523          0.079019   23     False  \n",
              "3                25           304  29.582192          1.282870   43      True  \n",
              "4                27            35  42.604536          0.549542   22     False  "
            ]
          },
          "execution_count": 18,
          "metadata": {},
          "output_type": "execute_result"
        }
      ],
      "source": [
        "import mltable\n",
        "\n",
        "registered_data_asset = ml_client.data.get(name='diabetes-table', version=1)\n",
        "tbl = mltable.load(f\"azureml:/{registered_data_asset.id}\")\n",
        "df = tbl.to_pandas_dataframe()\n",
        "df.head(5)"
      ]
    },
    {
      "attachments": {},
      "cell_type": "markdown",
      "metadata": {
        "nteract": {
          "transient": {
            "deleting": false
          }
        }
      },
      "source": [
        "## Use data in a job\n",
        "\n",
        "After using a notebook for experimentation. You can use scripts to train machine learning models. A script can be run as a job, and for each job you can specify inputs and outputs. \n",
        "\n",
        "You can use either **data assets** or **datastore paths** as inputs or outputs of a job. \n",
        "\n",
        "The cells below creates the **move-data.py** script in the **src** folder. The script reads the input data with the `read_csv()` function. The script then stores the data as a CSV file in the output path."
      ]
    },
    {
      "cell_type": "code",
      "execution_count": 19,
      "metadata": {},
      "outputs": [
        {
          "name": "stdout",
          "output_type": "stream",
          "text": [
            "src folder created\n"
          ]
        }
      ],
      "source": [
        "import os\n",
        "\n",
        "# create a folder for the script files\n",
        "script_folder = 'src'\n",
        "os.makedirs(script_folder, exist_ok=True)\n",
        "print(script_folder, 'folder created')"
      ]
    },
    {
      "cell_type": "code",
      "execution_count": 21,
      "metadata": {},
      "outputs": [
        {
          "name": "stdout",
          "output_type": "stream",
          "text": [
            "Overwriting src/move-data.py\n"
          ]
        }
      ],
      "source": [
        "%%writefile $script_folder/move-data.py\n",
        "# import libraries\n",
        "import argparse\n",
        "import pandas as pd\n",
        "import numpy as np\n",
        "from pathlib import Path\n",
        "\n",
        "def main(args):\n",
        "    # read data\n",
        "    df = get_data(args.input_data)\n",
        "\n",
        "    output_df = df.to_csv((Path(args.output_datastore) / \"diabetes.csv\"), index = False)\n",
        "\n",
        "# function that reads the data\n",
        "def get_data(path):\n",
        "    df = pd.read_csv(path)\n",
        "\n",
        "    # Count the rows and print the result\n",
        "    row_count = (len(df))\n",
        "    print('Analyzing {} rows of data'.format(row_count))\n",
        "    \n",
        "    return df\n",
        "\n",
        "def parse_args():\n",
        "    # setup arg parser\n",
        "    parser = argparse.ArgumentParser()\n",
        "\n",
        "    # add arguments\n",
        "    parser.add_argument(\"--input_data\", dest='input_data',\n",
        "                        type=str)\n",
        "    parser.add_argument(\"--output_datastore\", dest='output_datastore',\n",
        "                        type=str)\n",
        "\n",
        "    # parse args\n",
        "    args = parser.parse_args()\n",
        "\n",
        "    # return args\n",
        "    return args\n",
        "\n",
        "# run script\n",
        "if __name__ == \"__main__\":\n",
        "    # add space in logs\n",
        "    print(\"\\n\\n\")\n",
        "    print(\"*\" * 60)\n",
        "\n",
        "    # parse args\n",
        "    args = parse_args()\n",
        "\n",
        "    # run main function\n",
        "    main(args)\n",
        "\n",
        "    # add space in logs\n",
        "    print(\"*\" * 60)\n",
        "    print(\"\\n\\n\")\n"
      ]
    },
    {
      "attachments": {},
      "cell_type": "markdown",
      "metadata": {},
      "source": [
        "To submit a job that runs the **move-data.py** script, run the cell below. \n",
        "\n",
        "The job is configured to use the data asset `diabetes-local`, pointing to the local **diabetes.csv** file as input. The output is a path pointing to a folder in the new datastore `blob_training_data`."
      ]
    },
    {
      "cell_type": "code",
      "execution_count": 22,
      "metadata": {
        "gather": {
          "logged": 1666794414231
        },
        "jupyter": {
          "outputs_hidden": false,
          "source_hidden": false
        },
        "nteract": {
          "transient": {
            "deleting": false
          }
        }
      },
      "outputs": [
        {
          "name": "stderr",
          "output_type": "stream",
          "text": [
            "Class AutoDeleteSettingSchema: This is an experimental class, and may change at any time. Please see https://aka.ms/azuremlexperimental for more information.\n"
          ]
        },
        {
          "name": "stderr",
          "output_type": "stream",
          "text": [
            "Class AutoDeleteConditionSchema: This is an experimental class, and may change at any time. Please see https://aka.ms/azuremlexperimental for more information.\n",
            "Class BaseAutoDeleteSettingSchema: This is an experimental class, and may change at any time. Please see https://aka.ms/azuremlexperimental for more information.\n",
            "Class IntellectualPropertySchema: This is an experimental class, and may change at any time. Please see https://aka.ms/azuremlexperimental for more information.\n",
            "Class ProtectionLevelSchema: This is an experimental class, and may change at any time. Please see https://aka.ms/azuremlexperimental for more information.\n",
            "Class BaseIntellectualPropertySchema: This is an experimental class, and may change at any time. Please see https://aka.ms/azuremlexperimental for more information.\n",
            "\u001b[32mUploading src (0.0 MBs): 100%|██████████| 1113/1113 [00:00<00:00, 167417.17it/s]\n",
            "\u001b[39m\n",
            "\n",
            "pathOnCompute is not a known attribute of class <class 'azure.ai.ml._restclient.v2023_04_01_preview.models._models_py3.UriFolderJobOutput'> and will be ignored\n"
          ]
        },
        {
          "name": "stdout",
          "output_type": "stream",
          "text": [
            "Monitor your job at https://ml.azure.com/runs/frosty_knee_jqcff81bwt?wsid=/subscriptions/d9965121-bf98-41dd-bbad-a55f0233b417/resourcegroups/rg-dp100-labs-01-10-0712/workspaces/mlw-dp100-labs&tid=4bc108a4-1a31-4b14-ac4e-f2d6abd9c8a9\n"
          ]
        }
      ],
      "source": [
        "from azure.ai.ml import Input, Output\n",
        "from azure.ai.ml.constants import AssetTypes\n",
        "from azure.ai.ml import command\n",
        "\n",
        "# configure input and output\n",
        "my_job_inputs = {\n",
        "    \"local_data\": Input(type=AssetTypes.URI_FILE, path=\"azureml:diabetes-local:1\")\n",
        "}\n",
        "\n",
        "my_job_outputs = {\n",
        "    \"datastore_data\": Output(type=AssetTypes.URI_FOLDER, path=\"azureml://datastores/workspaceblobstore/paths/datastore-path\")\n",
        "}\n",
        "\n",
        "# configure job\n",
        "job = command(\n",
        "    code=\"./src\",\n",
        "    command=\"python move-data.py --input_data ${{inputs.local_data}} --output_datastore ${{outputs.datastore_data}}\",\n",
        "    inputs=my_job_inputs,\n",
        "    outputs=my_job_outputs,\n",
        "    environment=\"AzureML-sklearn-0.24-ubuntu18.04-py37-cpu@latest\",\n",
        "    compute=\"ciIzzumaniD2v3\",\n",
        "    display_name=\"move-diabetes-data\",\n",
        "    experiment_name=\"move-diabetes-data\"\n",
        ")\n",
        "\n",
        "# submit job\n",
        "returned_job = ml_client.create_or_update(job)\n",
        "aml_url = returned_job.studio_url\n",
        "print(\"Monitor your job at\", aml_url)"
      ]
    }
  ],
  "metadata": {
    "kernel_info": {
      "name": "python38-azureml"
    },
    "kernelspec": {
      "display_name": "Python 3.10 - AzureML",
      "language": "python",
      "name": "python38-azureml"
    },
    "language_info": {
      "codemirror_mode": {
        "name": "ipython",
        "version": 3
      },
      "file_extension": ".py",
      "mimetype": "text/x-python",
      "name": "python",
      "nbconvert_exporter": "python",
      "pygments_lexer": "ipython3",
      "version": "3.10.11"
    },
    "microsoft": {
      "host": {
        "AzureML": {
          "notebookHasBeenCompleted": true
        }
      }
    },
    "nteract": {
      "version": "nteract-front-end@1.0.0"
    }
  },
  "nbformat": 4,
  "nbformat_minor": 2
}
